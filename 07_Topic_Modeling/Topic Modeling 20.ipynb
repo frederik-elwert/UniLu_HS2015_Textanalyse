{
 "cells": [
  {
   "cell_type": "markdown",
   "metadata": {},
   "source": [
    "# Anwendung 2: Topic Modeling"
   ]
  },
  {
   "cell_type": "markdown",
   "metadata": {},
   "source": [
    "Eine weitere Anwendung von Vector-Space-Modellen ist das Topic Modeling. Es zielt auf die Identifikation von »topics« in einem Corpus. Die Berechnung dieser topics basiert dabei auf ihrer Verteilung in den Dokumenten des Corpus und damit letztlich auf Wort-Kookkurrenzen. Ob die ermittelten topics tatsächlich *Themen* im inhaltlichen Sinne, oder eher »Diskursstränge«, Wort-Cluster o.ä. sind, bleibt der inhaltlichen Interpretation überlassen.\n",
    "\n",
    "Weiter kann an dieser Stelle nicht auf die Hintergründe des Topic Modeling eingegangen werden. Für die weitere Lektüre sei daher dieser Beitrag empfohlen:\n",
    "\n",
    "Brett, Megan R. (2012): „Topic Modeling: A Basic Introduction“, Journal of Digital Humanities 2/1, http://journalofdigitalhumanities.org/2-1/topic-modeling-a-basic-introduction-by-megan-r-brett/.\n",
    "\n",
    "Für das Topic Modeling muss der Text nur minimal aufbereitet werden. Im Gegensatz zu der `TextCorpus`-Klasse, die für die Keyword Extraction verwendet wurde, wurden aber zwei Details verändert, die die Qualität der erzeugten Topics verbessern:\n",
    "\n",
    "* Für die Tokenisierung, also die Identifikation von Worten, wird nicht auf `TextBlob` zurückgegriffen, sondern der reguläre Ausdruck `\\w+` verwendet. Durch die Begrenzung auf alphanumerische Zeichen werden etwa Satzzeichen wie Bindestriche oder Anführungszeichen automatisch aussortiert.\n",
    "* Es wird ein Stoppwortfilter verwendet, der auf einer vorgegebenen Liste basiert.\n",
    "\n",
    "Diese beiden Punkte sind in den Methoden `tokenize()` und `filter()` umgesetzt. Die Methode `get_texts()` wurde entsprechend angepasst. Zusätzlich sind noch zwei Details umgesetzt, die die Verarbeitungsgeschwindigkeit erhöhen: So wird die CSV-Tabelle nur einmal eingelesen, anstatt bei jedem Durchlauf neu geladen zu werden. Ebenso wird die Anzahl der Dokumente im Corpus, die für manche Berechnungen notwendig ist, zwischengespeichert. Diese beiden Punkte sind aber nicht zwingend erforderlich."
   ]
  },
  {
   "cell_type": "code",
   "execution_count": 1,
   "metadata": {
    "collapsed": true
   },
   "outputs": [],
   "source": [
    "import re\n",
    "\n",
    "from gensim.corpora.textcorpus import TextCorpus\n",
    "from textblob_de import TextBlobDE as TextBlob\n",
    "from textblob_de import PatternParser\n",
    "import pandas as pd\n",
    "\n",
    "class CSVCorpus(TextCorpus):\n",
    "    \"\"\"Read corpus from a csv file.\"\"\"\n",
    "\n",
    "    def tokenize(self, text):\n",
    "        words = re.findall('\\w+', text.lower(), re.U)\n",
    "        return words\n",
    "\n",
    "    def filter(self, tokens, stopwords):\n",
    "        return [token for token in tokens if not token in stopwords]\n",
    "\n",
    "    def get_texts(self):\n",
    "        with open('../Daten/stopwords.txt') as stopwordfile:\n",
    "            stopwords = stopwordfile.read().splitlines()\n",
    "        table = self.gettable()\n",
    "        for text in table['text']:\n",
    "            tokens = self.tokenize(text)\n",
    "            yield self.filter(tokens, stopwords)\n",
    "\n",
    "    def gettable(self):\n",
    "        if not hasattr(self, 'table'):\n",
    "            with self.getstream() as csvfile:\n",
    "                self.table = pd.read_csv(csvfile, parse_dates=['date'], encoding='utf-8')\n",
    "        return self.table\n",
    "\n",
    "    def __len__(self):\n",
    "        if not hasattr(self, 'length'):\n",
    "            # Cache length\n",
    "            self.length = len(self.gettable())\n",
    "        return self.length"
   ]
  },
  {
   "cell_type": "markdown",
   "metadata": {},
   "source": [
    "Alternativ kann auch auf die Verfahren der Lemmatisierung und Wortartenfilterung zurückgegriffen werden, die in den vorherigen Einheiten besprochen wurden. Dazu werden die beiden Methoden `tokenzie()` und `filter()` überschrieben. Damit dauert die Verarbeitung aber deutlich länger, und es ist unklar, ob die Qualität der Analyse dadurch zwingend steigt. Für ein vergleichendes Experiment kann diese Version aber verwendet werden."
   ]
  },
  {
   "cell_type": "code",
   "execution_count": 2,
   "metadata": {
    "collapsed": true
   },
   "outputs": [],
   "source": [
    "from string import punctuation\n",
    "from collections import namedtuple\n",
    "\n",
    "class LemmatizedCSVCorpus(CSVCorpus):\n",
    "    \"\"\"Read corpus from a csv file.\"\"\"\n",
    "\n",
    "    def tokenize(self, text):\n",
    "        text = text.replace('\\xa0', ' ')  # Ersetze \"non-breaking space\" durch normales Leerzeichen\n",
    "        text = re.sub('[„“”‚‘’–]', '', text, re.U)  # Entferne Anführungzeichen und Gedankenstriche\n",
    "        blob = TextBlob(text, parser=PatternParser(lemmata=True))\n",
    "        parse = blob.parse()\n",
    "        fieldnames = [tag.replace('-', '_') for tag in parse.tags]\n",
    "        Token = namedtuple('Token', fieldnames)\n",
    "        tokens = [Token(*token.split('/', 4)) for token in parse.split(' ')]\n",
    "        return tokens\n",
    "\n",
    "    def filter(self, tokens, stopwords):\n",
    "        result = []\n",
    "        for token in tokens:\n",
    "            pos = token.part_of_speech[0:2]\n",
    "            word = token.word\n",
    "            if not word.lower() in stopwords and not word in punctuation:\n",
    "                if pos == 'NN':\n",
    "                    result.append(token.lemma.title())\n",
    "                else:\n",
    "                    result.append(token.lemma)\n",
    "        return result"
   ]
  },
  {
   "cell_type": "code",
   "execution_count": 3,
   "metadata": {
    "collapsed": false
   },
   "outputs": [
    {
     "data": {
      "text/plain": [
       "56551"
      ]
     },
     "execution_count": 3,
     "metadata": {},
     "output_type": "execute_result"
    }
   ],
   "source": [
    "corpus = CSVCorpus('../Daten/Reden.csv')\n",
    "len(corpus.dictionary)"
   ]
  },
  {
   "cell_type": "markdown",
   "metadata": {},
   "source": [
    "In der nicht lemmatisierten Form enthält das Corpus nun also 56551 unterschiedliche Wörter. Besonders häufige ebenso wie besonders seltene Wörter können dabei die Analyse negativ beeinflussen. Gensim stellt eine Methode bereit, mit der das Corpus um diese Extremwerte bereinigt werden kann. (Erst im zweiten Schritt `compactify()` werden dann die gelöschten Extremwerte tatsächlich aus dem Corpus entfernt.)"
   ]
  },
  {
   "cell_type": "code",
   "execution_count": 4,
   "metadata": {
    "collapsed": false
   },
   "outputs": [
    {
     "data": {
      "text/plain": [
       "12470"
      ]
     },
     "execution_count": 4,
     "metadata": {},
     "output_type": "execute_result"
    }
   ],
   "source": [
    "corpus.dictionary.filter_extremes()\n",
    "corpus.dictionary.compactify()\n",
    "len(corpus.dictionary)"
   ]
  },
  {
   "cell_type": "markdown",
   "metadata": {},
   "source": [
    "Nach dem Filtern bleiben noch 12470 Einträge übrig.\n",
    "\n",
    "Gensim enthält eine Implementierung des Topic-Modeling-Verfahrens »LDA« (neben anderen). Diese Version ist dabei für sehr große Corpora optimiert, die resultierenden Topics sind aber leider oft nicht sehr leicht zu interpretieren. Daher soll hier die Implementierung aus dem Python-Paket »lda« verwendet werden. Sie arbeitet nicht direkt mit dem TextCorpus-Format von gensim, kann aber eine *sparse matrix* einlesen, die mit gensim erzeugt wird."
   ]
  },
  {
   "cell_type": "code",
   "execution_count": 5,
   "metadata": {
    "collapsed": false
   },
   "outputs": [
    {
     "data": {
      "text/plain": [
       "(12470, 793)"
      ]
     },
     "execution_count": 5,
     "metadata": {},
     "output_type": "execute_result"
    }
   ],
   "source": [
    "from gensim.matutils import corpus2csc\n",
    "\n",
    "corpus_matrix = corpus2csc(corpus)\n",
    "corpus_matrix.shape"
   ]
  },
  {
   "cell_type": "code",
   "execution_count": 6,
   "metadata": {
    "collapsed": false
   },
   "outputs": [
    {
     "data": {
      "text/plain": [
       "(793, 12470)"
      ]
     },
     "execution_count": 6,
     "metadata": {},
     "output_type": "execute_result"
    }
   ],
   "source": [
    "corpus_matrix = corpus_matrix.transpose()\n",
    "corpus_matrix.shape"
   ]
  },
  {
   "cell_type": "markdown",
   "metadata": {},
   "source": [
    "Aus technischen Gründen muss die Matrix nun noch in ein bestimmtes Zahlenformat (Kommazahl zu Ganzzahl) konvertiert werden."
   ]
  },
  {
   "cell_type": "code",
   "execution_count": 7,
   "metadata": {
    "collapsed": false
   },
   "outputs": [],
   "source": [
    "corpus_matrix = corpus_matrix.astype(int)"
   ]
  },
  {
   "cell_type": "markdown",
   "metadata": {},
   "source": [
    "Ähnlich wie bei der Keyword Extraction wird hier im ersten Schritt ein Modell erzeugt, das vor allem bestimmte Parameter für die Berechnung speichert. Der wichtigste ist hierbei die Anzahl der Topics. Diese muss vorgegeben werden und kann nicht vom Algorithmus selbst bestimmt werden. 20 ist oft ein guter Ausgangswert, man sollte aber mit verschiedenen Werten experimentieren und die Ergebnisse vergleichen."
   ]
  },
  {
   "cell_type": "code",
   "execution_count": 8,
   "metadata": {
    "collapsed": false
   },
   "outputs": [
    {
     "data": {
      "text/plain": [
       "<lda.lda.LDA at 0x7f811af52358>"
      ]
     },
     "execution_count": 8,
     "metadata": {},
     "output_type": "execute_result"
    }
   ],
   "source": [
    "import lda\n",
    "lda_model = lda.LDA(n_topics=20, n_iter=500, random_state=1)\n",
    "lda_model.fit(corpus_matrix)"
   ]
  },
  {
   "cell_type": "markdown",
   "metadata": {},
   "source": [
    "*Hinweis:* Um die Ergebnisse etwas übersichtlicher darzustellen, ist eine gewisse Formatierung der Ausgabe nützlich. Dies könnte etwa mit HTML realisiert werden. Etwas einfacher ist das minimalistische Textformat »Markdown«, das etwa Zeilen mit vorangestellten Sternchen `*` in Aufzählungslisten umwandelt. Um dies einfacher zu nutzen, wird hier eine kleine Hilfsfunktion definiert. Zu Details siehe die [Syntax-Beschreibung](http://www.daringfireball.net/projects/markdown/syntax)."
   ]
  },
  {
   "cell_type": "code",
   "execution_count": 9,
   "metadata": {
    "collapsed": false
   },
   "outputs": [
    {
     "data": {
      "text/html": [
       "<p>Das ist ein <strong>Test!</strong></p>\n"
      ],
      "text/plain": [
       "'Das ist ein **Test!**'"
      ]
     },
     "execution_count": 9,
     "metadata": {},
     "output_type": "execute_result"
    }
   ],
   "source": [
    "from IPython.nbconvert.filters.markdown import markdown2html\n",
    "\n",
    "class MD(str):\n",
    "    def _repr_html_(self):\n",
    "        return markdown2html(self)\n",
    "\n",
    "MD('Das ist ein **Test!**')"
   ]
  },
  {
   "cell_type": "markdown",
   "metadata": {},
   "source": [
    "Das Ergebnisformat von LDA sind Matrizen im numpy-Format. Diese sind sehr effizient und bieten eine Reihe von Berechnungsmöglichkeiten, sie sind jedoch auf den ersten Blick nicht ganz leicht zu verstehen. Der folgende Code wurde aus der Dokumentation des lda-Pakets übernomme und ein wenig angepasst. Für den Moment soll die Beschreibung ausreichen, dass hierüber für jedes Topic die einflussreichsten 20 Wörter ausgegeben werden."
   ]
  },
  {
   "cell_type": "code",
   "execution_count": 10,
   "metadata": {
    "collapsed": false
   },
   "outputs": [
    {
     "data": {
      "text/html": [
       "<ul>\n",
       "<li><strong>Topic 0:</strong> forschung wissenschaft professor universität bildung wissenschaftler wissenschaftliche chemie akademie wissenschaftlichen gesellschaft max wissenschaften universitäten forschungseinrichtungen gemeinschaft 000 erkenntnisse forscher</li>\n",
       "<li><strong>Topic 1:</strong> deutlich eu entwicklung ziel rolle bleibt vergangenen rahmen insbesondere zusammenarbeit kommission insgesamt wirtschaftlichen wichtiger maßnahmen schritt erfolg wichtige ausdrücklich</li>\n",
       "<li><strong>Topic 2:</strong> film filme berlinale kinos the wort kino gesprochene films abend a künstler of ffa anrede and herzlich filmförderung to</li>\n",
       "<li><strong>Topic 3:</strong> sicherheit bundeswehr afghanistan freiheit ukraine soldaten nato herausforderungen frieden verantwortung staaten einsatz israel syrien terrorismus lösung internationale iran internationalen</li>\n",
       "<li><strong>Topic 4:</strong> union europäische mitgliedstaaten europas krise gemeinsamen gemeinsame wirtschafts währungsunion staaten kontinent währung sprechen europäer wohlstand frankreich entwicklung wettbewerbsfähigkeit freiheit</li>\n",
       "<li><strong>Topic 5:</strong> freiheit kultur gesellschaft kunst demokratie politischen kirche politische politik buch kirchen sinne religion künstler werte blick lässt bilder lebens</li>\n",
       "<li><strong>Topic 6:</strong> kunst museen museum ausstellung berlin künstler geschichte kulturellen gesprochene humboldt museums werke kulturnation zeiten wort sammlung goethe anrede künste</li>\n",
       "<li><strong>Topic 7:</strong> sozusagen fragen dingen überhaupt richtig gesprochen stellen lange thema all diskussion bekommen worden stück 20 führen finde zeigt genau</li>\n",
       "<li><strong>Topic 8:</strong> geschichte freiheit ddr einheit erinnern mauer 20 1989 erinnerung demokratie tag ehemaligen leid bundesrepublik helmut teilung vergessen versöhnung flucht</li>\n",
       "<li><strong>Topic 9:</strong> internet medien digitalen vielfalt welle öffentlich digitale netz urheber zeitungen urheberrecht zeitalter kreativen informationen qualität rechtlichen journalisten digitalisierung schutz</li>\n",
       "<li><strong>Topic 10:</strong> unternehmen wirtschaft bereich entwicklung industrie rahmenbedingungen it chancen messe thema branche sprechen wettbewerb elektromobilität ausbildung insgesamt forschung ministerpräsident infrastruktur</li>\n",
       "<li><strong>Topic 11:</strong> stiftung berlin ausstellung haus wort aufarbeitung bund anrede berliner ns nationalsozialistischen gedenkstätte opfer historischen bedeutung 000 einrichtungen engagement gesprochene</li>\n",
       "<li><strong>Topic 12:</strong> prozent krise wachstum wettbewerbsfähigkeit banken unternehmen millionen wirtschaft richtig marktwirtschaft internationalen milliarden vertrauen wirtschaftskrise schulden situation sozialen forschung weltweit</li>\n",
       "<li><strong>Topic 13:</strong> gesellschaft kinder familie frauen familien beruf integration junge jungen thema eltern lernen alter schule liebe wandel bildung kommunen älteren</li>\n",
       "<li><strong>Topic 14:</strong> politik verantwortung weise recht sprechen bedeutet verstehen angesichts raum aufgabe gerne weit fragen eigene bürgerinnen wort großer aufgaben kraft</li>\n",
       "<li><strong>Topic 15:</strong> prozent energien erneuerbaren bereich thema milliarden nächsten investitionen augenblick punkt 40 bedeutet anbelangt bedeutung energiewende bund sprechen erreichen investieren</li>\n",
       "<li><strong>Topic 16:</strong> kultur bund kulturelle millionen kulturellen bundes haus bildung förderung ort gesellschaft projekte bedeutung sachsen kommunen engagement 000 vielfalt 1</li>\n",
       "<li><strong>Topic 17:</strong> liebe deutsch berlin herzlich namen glück zeigt selbstverständlich blick preis präsident freude genau gemeinsame abend junge gemeinsamen 50 vertrauen</li>\n",
       "<li><strong>Topic 18:</strong> nachhaltigkeit entwicklung internationalen g7 ziel erreichen ziele konferenz landwirtschaft nachhaltige klimaschutz weltweit nationen un vereinten umwelt internationale globale ressourcen</li>\n",
       "<li><strong>Topic 19:</strong> china zusammenarbeit staaten unternehmen beziehungen amerika vereinigten wirtschaft deutsch partnerschaft freihandelsabkommen kooperation russland region abkommen partner gesprochen freue wirtschaftliche</li>\n",
       "</ul>\n"
      ],
      "text/plain": [
       "'* **Topic 0:** forschung wissenschaft professor universität bildung wissenschaftler wissenschaftliche chemie akademie wissenschaftlichen gesellschaft max wissenschaften universitäten forschungseinrichtungen gemeinschaft 000 erkenntnisse forscher\\n* **Topic 1:** deutlich eu entwicklung ziel rolle bleibt vergangenen rahmen insbesondere zusammenarbeit kommission insgesamt wirtschaftlichen wichtiger maßnahmen schritt erfolg wichtige ausdrücklich\\n* **Topic 2:** film filme berlinale kinos the wort kino gesprochene films abend a künstler of ffa anrede and herzlich filmförderung to\\n* **Topic 3:** sicherheit bundeswehr afghanistan freiheit ukraine soldaten nato herausforderungen frieden verantwortung staaten einsatz israel syrien terrorismus lösung internationale iran internationalen\\n* **Topic 4:** union europäische mitgliedstaaten europas krise gemeinsamen gemeinsame wirtschafts währungsunion staaten kontinent währung sprechen europäer wohlstand frankreich entwicklung wettbewerbsfähigkeit freiheit\\n* **Topic 5:** freiheit kultur gesellschaft kunst demokratie politischen kirche politische politik buch kirchen sinne religion künstler werte blick lässt bilder lebens\\n* **Topic 6:** kunst museen museum ausstellung berlin künstler geschichte kulturellen gesprochene humboldt museums werke kulturnation zeiten wort sammlung goethe anrede künste\\n* **Topic 7:** sozusagen fragen dingen überhaupt richtig gesprochen stellen lange thema all diskussion bekommen worden stück 20 führen finde zeigt genau\\n* **Topic 8:** geschichte freiheit ddr einheit erinnern mauer 20 1989 erinnerung demokratie tag ehemaligen leid bundesrepublik helmut teilung vergessen versöhnung flucht\\n* **Topic 9:** internet medien digitalen vielfalt welle öffentlich digitale netz urheber zeitungen urheberrecht zeitalter kreativen informationen qualität rechtlichen journalisten digitalisierung schutz\\n* **Topic 10:** unternehmen wirtschaft bereich entwicklung industrie rahmenbedingungen it chancen messe thema branche sprechen wettbewerb elektromobilität ausbildung insgesamt forschung ministerpräsident infrastruktur\\n* **Topic 11:** stiftung berlin ausstellung haus wort aufarbeitung bund anrede berliner ns nationalsozialistischen gedenkstätte opfer historischen bedeutung 000 einrichtungen engagement gesprochene\\n* **Topic 12:** prozent krise wachstum wettbewerbsfähigkeit banken unternehmen millionen wirtschaft richtig marktwirtschaft internationalen milliarden vertrauen wirtschaftskrise schulden situation sozialen forschung weltweit\\n* **Topic 13:** gesellschaft kinder familie frauen familien beruf integration junge jungen thema eltern lernen alter schule liebe wandel bildung kommunen älteren\\n* **Topic 14:** politik verantwortung weise recht sprechen bedeutet verstehen angesichts raum aufgabe gerne weit fragen eigene bürgerinnen wort großer aufgaben kraft\\n* **Topic 15:** prozent energien erneuerbaren bereich thema milliarden nächsten investitionen augenblick punkt 40 bedeutet anbelangt bedeutung energiewende bund sprechen erreichen investieren\\n* **Topic 16:** kultur bund kulturelle millionen kulturellen bundes haus bildung förderung ort gesellschaft projekte bedeutung sachsen kommunen engagement 000 vielfalt 1\\n* **Topic 17:** liebe deutsch berlin herzlich namen glück zeigt selbstverständlich blick preis präsident freude genau gemeinsame abend junge gemeinsamen 50 vertrauen\\n* **Topic 18:** nachhaltigkeit entwicklung internationalen g7 ziel erreichen ziele konferenz landwirtschaft nachhaltige klimaschutz weltweit nationen un vereinten umwelt internationale globale ressourcen\\n* **Topic 19:** china zusammenarbeit staaten unternehmen beziehungen amerika vereinigten wirtschaft deutsch partnerschaft freihandelsabkommen kooperation russland region abkommen partner gesprochen freue wirtschaftliche\\n'"
      ]
     },
     "execution_count": 10,
     "metadata": {},
     "output_type": "execute_result"
    }
   ],
   "source": [
    "import numpy as np\n",
    "vocab = [corpus.dictionary[i] for i in range(len(corpus.dictionary))]\n",
    "topic_word = lda_model.topic_word_  # model.components_ also works\n",
    "n_top_words = 20\n",
    "topics = [np.array(vocab)[np.argsort(topic_dist)][:-n_top_words:-1]\n",
    "          for topic_dist in topic_word]\n",
    "result = ''\n",
    "for i, topic_words in enumerate(topics):\n",
    "    result += '* **Topic {}:** {}\\n'.format(i, ' '.join(topic_words))\n",
    "MD(result)"
   ]
  },
  {
   "cell_type": "markdown",
   "metadata": {},
   "source": [
    "Diese Topics sind zunächst einmal probabilistisch identifizierte Wort-Cluster. Bei genauerer Betrachtung lässt sich aber für die meisten Topics ein Eindruck gewinnen, welches Thema die ausgegebenen Worte umreißen. Topic 0 etwa beschreibt die Themenfelder Universität und Forschung, Topic 2 dagegen den Bereich Film und Kino. Topic 1 dagegen lässt sich auf den ersten Blick weniger leicht interpretieren.\n",
    "\n",
    "Neben den Topics selbst gibt LDA auch eine Zuordnung von Topics zu Dokumenten aus. Es lassen sich also auch für jedes Dokument die relevantesten Topics ausgeben, die das Dokument beschreiben. Die ist ähnlich wie bei der Keyword Extraction, nur dass ganze Topics und nicht einzelne Schlüsselwörter zur Beschreibung herangezogen werden."
   ]
  },
  {
   "cell_type": "code",
   "execution_count": 11,
   "metadata": {
    "collapsed": false
   },
   "outputs": [
    {
     "data": {
      "text/html": [
       "<p><strong>Rede von Bundeskanzlerin Merkel beim Empfang der Preisträgerinnen und Preisträger des 50. Bundeswettbewerbs „Jugend forscht“ am 30. September 2015</strong></p>\n",
       "<ul>\n",
       "<li><em>Topic 0:</em> forschung wissenschaft professor universität bildung wissenschaftler wissenschaftliche chemie akademie wissenschaftlichen gesellschaft max wissenschaften universitäten forschungseinrichtungen gemeinschaft 000 erkenntnisse forscher</li>\n",
       "<li><em>Topic 7:</em> sozusagen fragen dingen überhaupt richtig gesprochen stellen lange thema all diskussion bekommen worden stück 20 führen finde zeigt genau</li>\n",
       "<li><em>Topic 14:</em> politik verantwortung weise recht sprechen bedeutet verstehen angesichts raum aufgabe gerne weit fragen eigene bürgerinnen wort großer aufgaben kraft</li>\n",
       "</ul>\n",
       "<p><strong>Rede von Bundeskanzlerin Merkel beim Global Leaders‘ Meeting on Achieving Gender Equality and Women’s Empowerment: „A Commitment to Action“ am 27. September 2015</strong></p>\n",
       "<ul>\n",
       "<li><em>Topic 13:</em> gesellschaft kinder familie frauen familien beruf integration junge jungen thema eltern lernen alter schule liebe wandel bildung kommunen älteren</li>\n",
       "<li><em>Topic 1:</em> deutlich eu entwicklung ziel rolle bleibt vergangenen rahmen insbesondere zusammenarbeit kommission insgesamt wirtschaftlichen wichtiger maßnahmen schritt erfolg wichtige ausdrücklich</li>\n",
       "<li><em>Topic 18:</em> nachhaltigkeit entwicklung internationalen g7 ziel erreichen ziele konferenz landwirtschaft nachhaltige klimaschutz weltweit nationen un vereinten umwelt internationale globale ressourcen</li>\n",
       "</ul>\n",
       "<p><strong>Rede von Bundeskanzlerin Merkel beim gemeinsamen Side Event der Bundesrepublik Deutschland, des Königreichs Norwegen und der Republik Ghana „Securing a healthy future“ am 26. September 2015</strong></p>\n",
       "<ul>\n",
       "<li><em>Topic 7:</em> sozusagen fragen dingen überhaupt richtig gesprochen stellen lange thema all diskussion bekommen worden stück 20 führen finde zeigt genau</li>\n",
       "<li><em>Topic 1:</em> deutlich eu entwicklung ziel rolle bleibt vergangenen rahmen insbesondere zusammenarbeit kommission insgesamt wirtschaftlichen wichtiger maßnahmen schritt erfolg wichtige ausdrücklich</li>\n",
       "<li><em>Topic 18:</em> nachhaltigkeit entwicklung internationalen g7 ziel erreichen ziele konferenz landwirtschaft nachhaltige klimaschutz weltweit nationen un vereinten umwelt internationale globale ressourcen</li>\n",
       "</ul>\n",
       "<p><strong>Rede von Bundeskanzlerin Merkel beim Arbeitsmittagessen des UN Private Sector Forum 2015 am 26. September 2015</strong></p>\n",
       "<ul>\n",
       "<li><em>Topic 18:</em> nachhaltigkeit entwicklung internationalen g7 ziel erreichen ziele konferenz landwirtschaft nachhaltige klimaschutz weltweit nationen un vereinten umwelt internationale globale ressourcen</li>\n",
       "<li><em>Topic 7:</em> sozusagen fragen dingen überhaupt richtig gesprochen stellen lange thema all diskussion bekommen worden stück 20 führen finde zeigt genau</li>\n",
       "<li><em>Topic 19:</em> china zusammenarbeit staaten unternehmen beziehungen amerika vereinigten wirtschaft deutsch partnerschaft freihandelsabkommen kooperation russland region abkommen partner gesprochen freue wirtschaftliche</li>\n",
       "</ul>\n",
       "<p><strong>Rede von Bundeskanzlerin Merkel beim High Level Event der United Nations Development Group (UNDG) „From Global Conversation to Global Action – Making the Sustainable Development Goals Work“ am 25. September 2015</strong></p>\n",
       "<ul>\n",
       "<li><em>Topic 18:</em> nachhaltigkeit entwicklung internationalen g7 ziel erreichen ziele konferenz landwirtschaft nachhaltige klimaschutz weltweit nationen un vereinten umwelt internationale globale ressourcen</li>\n",
       "<li><em>Topic 7:</em> sozusagen fragen dingen überhaupt richtig gesprochen stellen lange thema all diskussion bekommen worden stück 20 führen finde zeigt genau</li>\n",
       "<li><em>Topic 1:</em> deutlich eu entwicklung ziel rolle bleibt vergangenen rahmen insbesondere zusammenarbeit kommission insgesamt wirtschaftlichen wichtiger maßnahmen schritt erfolg wichtige ausdrücklich</li>\n",
       "</ul>\n",
       "<p><strong>Rede von Bundeskanzlerin Merkel bei der Eröffnung des UN-Gipfels zur Verabschiedung der Agenda 2030 für nachhaltige Entwicklung am 25. September 2015 </strong></p>\n",
       "<ul>\n",
       "<li><em>Topic 18:</em> nachhaltigkeit entwicklung internationalen g7 ziel erreichen ziele konferenz landwirtschaft nachhaltige klimaschutz weltweit nationen un vereinten umwelt internationale globale ressourcen</li>\n",
       "<li><em>Topic 1:</em> deutlich eu entwicklung ziel rolle bleibt vergangenen rahmen insbesondere zusammenarbeit kommission insgesamt wirtschaftlichen wichtiger maßnahmen schritt erfolg wichtige ausdrücklich</li>\n",
       "<li><em>Topic 4:</em> union europäische mitgliedstaaten europas krise gemeinsamen gemeinsame wirtschafts währungsunion staaten kontinent währung sprechen europäer wohlstand frankreich entwicklung wettbewerbsfähigkeit freiheit</li>\n",
       "</ul>\n",
       "<p><strong>Rede von Monika Grütters bei der BKU-Bundestagung 2015 \"Zum Unternehmer berufen\"</strong></p>\n",
       "<ul>\n",
       "<li><em>Topic 5:</em> freiheit kultur gesellschaft kunst demokratie politischen kirche politische politik buch kirchen sinne religion künstler werte blick lässt bilder lebens</li>\n",
       "<li><em>Topic 16:</em> kultur bund kulturelle millionen kulturellen bundes haus bildung förderung ort gesellschaft projekte bedeutung sachsen kommunen engagement 000 vielfalt 1</li>\n",
       "<li><em>Topic 9:</em> internet medien digitalen vielfalt welle öffentlich digitale netz urheber zeitungen urheberrecht zeitalter kreativen informationen qualität rechtlichen journalisten digitalisierung schutz</li>\n",
       "</ul>\n",
       "<p><strong>Rede von Bundeskanzlerin Merkel zur Vorstellung einer Biografie des Bundeskanzlers a. D. Schröder am 22. September 2015</strong></p>\n",
       "<ul>\n",
       "<li><em>Topic 17:</em> liebe deutsch berlin herzlich namen glück zeigt selbstverständlich blick preis präsident freude genau gemeinsame abend junge gemeinsamen 50 vertrauen</li>\n",
       "<li><em>Topic 14:</em> politik verantwortung weise recht sprechen bedeutet verstehen angesichts raum aufgabe gerne weit fragen eigene bürgerinnen wort großer aufgaben kraft</li>\n",
       "<li><em>Topic 5:</em> freiheit kultur gesellschaft kunst demokratie politischen kirche politische politik buch kirchen sinne religion künstler werte blick lässt bilder lebens</li>\n",
       "</ul>\n",
       "<p><strong>Rede von Kulturstaatsministerin Grütters zur erstmaligen Verleihung des \"Deutschen Buchhandlungspreises 2015\"</strong></p>\n",
       "<ul>\n",
       "<li><em>Topic 9:</em> internet medien digitalen vielfalt welle öffentlich digitale netz urheber zeitungen urheberrecht zeitalter kreativen informationen qualität rechtlichen journalisten digitalisierung schutz</li>\n",
       "<li><em>Topic 16:</em> kultur bund kulturelle millionen kulturellen bundes haus bildung förderung ort gesellschaft projekte bedeutung sachsen kommunen engagement 000 vielfalt 1</li>\n",
       "<li><em>Topic 2:</em> film filme berlinale kinos the wort kino gesprochene films abend a künstler of ffa anrede and herzlich filmförderung to</li>\n",
       "</ul>\n",
       "<p><strong>Rede von Bundeskanzlerin Merkel auf dem Kongress \"Ja zu TTIP! Chancen nutzen, Interessen wahren, Zukunft gestalten\" der CDU/CSU-Fraktion am 21. September 2015</strong></p>\n",
       "<ul>\n",
       "<li><em>Topic 19:</em> china zusammenarbeit staaten unternehmen beziehungen amerika vereinigten wirtschaft deutsch partnerschaft freihandelsabkommen kooperation russland region abkommen partner gesprochen freue wirtschaftliche</li>\n",
       "<li><em>Topic 7:</em> sozusagen fragen dingen überhaupt richtig gesprochen stellen lange thema all diskussion bekommen worden stück 20 führen finde zeigt genau</li>\n",
       "<li><em>Topic 1:</em> deutlich eu entwicklung ziel rolle bleibt vergangenen rahmen insbesondere zusammenarbeit kommission insgesamt wirtschaftlichen wichtiger maßnahmen schritt erfolg wichtige ausdrücklich</li>\n",
       "</ul>\n"
      ],
      "text/plain": [
       "'\\n\\n**Rede von Bundeskanzlerin Merkel beim Empfang der Preisträgerinnen und Preisträger des 50. Bundeswettbewerbs „Jugend forscht“ am 30. September 2015**\\n\\n * _Topic 0:_ forschung wissenschaft professor universität bildung wissenschaftler wissenschaftliche chemie akademie wissenschaftlichen gesellschaft max wissenschaften universitäten forschungseinrichtungen gemeinschaft 000 erkenntnisse forscher\\n * _Topic 7:_ sozusagen fragen dingen überhaupt richtig gesprochen stellen lange thema all diskussion bekommen worden stück 20 führen finde zeigt genau\\n * _Topic 14:_ politik verantwortung weise recht sprechen bedeutet verstehen angesichts raum aufgabe gerne weit fragen eigene bürgerinnen wort großer aufgaben kraft\\n\\n\\n**Rede von Bundeskanzlerin Merkel beim Global Leaders‘ Meeting on Achieving Gender Equality and Women’s Empowerment: „A Commitment to Action“ am 27. September 2015**\\n\\n * _Topic 13:_ gesellschaft kinder familie frauen familien beruf integration junge jungen thema eltern lernen alter schule liebe wandel bildung kommunen älteren\\n * _Topic 1:_ deutlich eu entwicklung ziel rolle bleibt vergangenen rahmen insbesondere zusammenarbeit kommission insgesamt wirtschaftlichen wichtiger maßnahmen schritt erfolg wichtige ausdrücklich\\n * _Topic 18:_ nachhaltigkeit entwicklung internationalen g7 ziel erreichen ziele konferenz landwirtschaft nachhaltige klimaschutz weltweit nationen un vereinten umwelt internationale globale ressourcen\\n\\n\\n**Rede von Bundeskanzlerin Merkel beim gemeinsamen Side Event der Bundesrepublik Deutschland, des Königreichs Norwegen und der Republik Ghana „Securing a healthy future“ am 26. September 2015**\\n\\n * _Topic 7:_ sozusagen fragen dingen überhaupt richtig gesprochen stellen lange thema all diskussion bekommen worden stück 20 führen finde zeigt genau\\n * _Topic 1:_ deutlich eu entwicklung ziel rolle bleibt vergangenen rahmen insbesondere zusammenarbeit kommission insgesamt wirtschaftlichen wichtiger maßnahmen schritt erfolg wichtige ausdrücklich\\n * _Topic 18:_ nachhaltigkeit entwicklung internationalen g7 ziel erreichen ziele konferenz landwirtschaft nachhaltige klimaschutz weltweit nationen un vereinten umwelt internationale globale ressourcen\\n\\n\\n**Rede von Bundeskanzlerin Merkel beim Arbeitsmittagessen des UN Private Sector Forum 2015 am 26. September 2015**\\n\\n * _Topic 18:_ nachhaltigkeit entwicklung internationalen g7 ziel erreichen ziele konferenz landwirtschaft nachhaltige klimaschutz weltweit nationen un vereinten umwelt internationale globale ressourcen\\n * _Topic 7:_ sozusagen fragen dingen überhaupt richtig gesprochen stellen lange thema all diskussion bekommen worden stück 20 führen finde zeigt genau\\n * _Topic 19:_ china zusammenarbeit staaten unternehmen beziehungen amerika vereinigten wirtschaft deutsch partnerschaft freihandelsabkommen kooperation russland region abkommen partner gesprochen freue wirtschaftliche\\n\\n\\n**Rede von Bundeskanzlerin Merkel beim High Level Event der United Nations Development Group (UNDG) „From Global Conversation to Global Action – Making the Sustainable Development Goals Work“ am 25. September 2015**\\n\\n * _Topic 18:_ nachhaltigkeit entwicklung internationalen g7 ziel erreichen ziele konferenz landwirtschaft nachhaltige klimaschutz weltweit nationen un vereinten umwelt internationale globale ressourcen\\n * _Topic 7:_ sozusagen fragen dingen überhaupt richtig gesprochen stellen lange thema all diskussion bekommen worden stück 20 führen finde zeigt genau\\n * _Topic 1:_ deutlich eu entwicklung ziel rolle bleibt vergangenen rahmen insbesondere zusammenarbeit kommission insgesamt wirtschaftlichen wichtiger maßnahmen schritt erfolg wichtige ausdrücklich\\n\\n\\n**Rede von Bundeskanzlerin Merkel bei der Eröffnung des UN-Gipfels zur Verabschiedung der Agenda 2030 für nachhaltige Entwicklung am 25. September 2015 **\\n\\n * _Topic 18:_ nachhaltigkeit entwicklung internationalen g7 ziel erreichen ziele konferenz landwirtschaft nachhaltige klimaschutz weltweit nationen un vereinten umwelt internationale globale ressourcen\\n * _Topic 1:_ deutlich eu entwicklung ziel rolle bleibt vergangenen rahmen insbesondere zusammenarbeit kommission insgesamt wirtschaftlichen wichtiger maßnahmen schritt erfolg wichtige ausdrücklich\\n * _Topic 4:_ union europäische mitgliedstaaten europas krise gemeinsamen gemeinsame wirtschafts währungsunion staaten kontinent währung sprechen europäer wohlstand frankreich entwicklung wettbewerbsfähigkeit freiheit\\n\\n\\n**Rede von Monika Grütters bei der BKU-Bundestagung 2015 \"Zum Unternehmer berufen\"**\\n\\n * _Topic 5:_ freiheit kultur gesellschaft kunst demokratie politischen kirche politische politik buch kirchen sinne religion künstler werte blick lässt bilder lebens\\n * _Topic 16:_ kultur bund kulturelle millionen kulturellen bundes haus bildung förderung ort gesellschaft projekte bedeutung sachsen kommunen engagement 000 vielfalt 1\\n * _Topic 9:_ internet medien digitalen vielfalt welle öffentlich digitale netz urheber zeitungen urheberrecht zeitalter kreativen informationen qualität rechtlichen journalisten digitalisierung schutz\\n\\n\\n**Rede von Bundeskanzlerin Merkel zur Vorstellung einer Biografie des Bundeskanzlers a. D. Schröder am 22. September 2015**\\n\\n * _Topic 17:_ liebe deutsch berlin herzlich namen glück zeigt selbstverständlich blick preis präsident freude genau gemeinsame abend junge gemeinsamen 50 vertrauen\\n * _Topic 14:_ politik verantwortung weise recht sprechen bedeutet verstehen angesichts raum aufgabe gerne weit fragen eigene bürgerinnen wort großer aufgaben kraft\\n * _Topic 5:_ freiheit kultur gesellschaft kunst demokratie politischen kirche politische politik buch kirchen sinne religion künstler werte blick lässt bilder lebens\\n\\n\\n**Rede von Kulturstaatsministerin Grütters zur erstmaligen Verleihung des \"Deutschen Buchhandlungspreises 2015\"**\\n\\n * _Topic 9:_ internet medien digitalen vielfalt welle öffentlich digitale netz urheber zeitungen urheberrecht zeitalter kreativen informationen qualität rechtlichen journalisten digitalisierung schutz\\n * _Topic 16:_ kultur bund kulturelle millionen kulturellen bundes haus bildung förderung ort gesellschaft projekte bedeutung sachsen kommunen engagement 000 vielfalt 1\\n * _Topic 2:_ film filme berlinale kinos the wort kino gesprochene films abend a künstler of ffa anrede and herzlich filmförderung to\\n\\n\\n**Rede von Bundeskanzlerin Merkel auf dem Kongress \"Ja zu TTIP! Chancen nutzen, Interessen wahren, Zukunft gestalten\" der CDU/CSU-Fraktion am 21. September 2015**\\n\\n * _Topic 19:_ china zusammenarbeit staaten unternehmen beziehungen amerika vereinigten wirtschaft deutsch partnerschaft freihandelsabkommen kooperation russland region abkommen partner gesprochen freue wirtschaftliche\\n * _Topic 7:_ sozusagen fragen dingen überhaupt richtig gesprochen stellen lange thema all diskussion bekommen worden stück 20 führen finde zeigt genau\\n * _Topic 1:_ deutlich eu entwicklung ziel rolle bleibt vergangenen rahmen insbesondere zusammenarbeit kommission insgesamt wirtschaftlichen wichtiger maßnahmen schritt erfolg wichtige ausdrücklich\\n'"
      ]
     },
     "execution_count": 11,
     "metadata": {},
     "output_type": "execute_result"
    }
   ],
   "source": [
    "data = pd.read_csv(\"../Daten/Reden.csv\", parse_dates=['date'], encoding='utf-8')\n",
    "titles = data['title']\n",
    "\n",
    "doc_topic = lda_model.doc_topic_\n",
    "result = ''\n",
    "for i in range(10):\n",
    "    result += '\\n\\n**{}**\\n\\n'.format(titles[i])\n",
    "    for topic in doc_topic[i].argsort()[:-4:-1]:\n",
    "        result += ' * _Topic {}:_ {}\\n'.format(topic, ' '.join(topics[topic]))\n",
    "MD(result)"
   ]
  },
  {
   "cell_type": "markdown",
   "metadata": {},
   "source": [
    "Dabei ist zunächst auffällig, dass die Topics 1 und/oder 7 relativ häufig auftauchen. Gemeinsam mit ihrer inhaltlichen Vagheit ergibt sich der Eindruck, dass es sich weitgehend um Residual-Topics handelt, die relativ unspezifische, aber regelmäßig auftretenden Wörter gruppieren. Die anderen Topics geben dagegen einen relativ guten Einblick in die inhaltlichen Schwerpunkte der Texte.\n",
    "\n",
    "Um später erneut auf die Ergebnisse zurückgreifen zu können, wird das berechnete Modell gespeichert."
   ]
  },
  {
   "cell_type": "code",
   "execution_count": 12,
   "metadata": {
    "collapsed": false
   },
   "outputs": [],
   "source": [
    "from pickle import dump\n",
    "\n",
    "with open('../Daten/topicmodel20.pickle', 'wb') as picklefile:\n",
    "    dump(lda_model, picklefile)"
   ]
  }
 ],
 "metadata": {
  "kernelspec": {
   "display_name": "Python 3",
   "language": "python",
   "name": "python3"
  },
  "language_info": {
   "codemirror_mode": {
    "name": "ipython",
    "version": 3
   },
   "file_extension": ".py",
   "mimetype": "text/x-python",
   "name": "python",
   "nbconvert_exporter": "python",
   "pygments_lexer": "ipython3",
   "version": "3.4.3"
  }
 },
 "nbformat": 4,
 "nbformat_minor": 0
}
