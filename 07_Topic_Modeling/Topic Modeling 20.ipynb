{
 "cells": [
  {
   "cell_type": "markdown",
   "metadata": {},
   "source": [
    "# Anwendung 2: Topic Modeling"
   ]
  },
  {
   "cell_type": "markdown",
   "metadata": {},
   "source": [
    "Eine weitere Anwendung von Vector-Space-Modellen ist das Topic Modeling. Es zielt auf die Identifikation von »topics« in einem Corpus. Die Berechnung dieser topics basiert dabei auf ihrer Verteilung in den Dokumenten des Corpus und damit letztlich auf Wort-Kookkurrenzen. Ob die ermittelten topics tatsächlich *Themen* im inhaltlichen Sinne, oder eher »Diskursstränge«, Wort-Cluster o.ä. sind, bleibt der inhaltlichen Interpretation überlassen.\n",
    "\n",
    "Weiter kann an dieser Stelle nicht auf die Hintergründe des Topic Modeling eingegangen werden. Für die weitere Lektüre sei daher dieser Beitrag empfohlen:\n",
    "\n",
    "Brett, Megan R. (2012): „Topic Modeling: A Basic Introduction“, Journal of Digital Humanities 2/1, http://journalofdigitalhumanities.org/2-1/topic-modeling-a-basic-introduction-by-megan-r-brett/.\n",
    "\n",
    "Für das Topic Modeling muss der Text nur minimal aufbereitet werden. Im Gegensatz zu der `TextCorpus`-Klasse, die für die Keyword Extraction verwendet wurde, wurden aber zwei Details verändert, die die Qualität der erzeugten Topics verbessern:\n",
    "\n",
    "* Für die Tokenisierung, also die Identifikation von Worten, wird nicht auf `TextBlob` zurückgegriffen, sondern der reguläre Ausdruck `\\w+` verwendet. Durch die Begrenzung auf alphanumerische Zeichen werden etwa Satzzeichen wie Bindestriche oder Anführungszeichen automatisch aussortiert.\n",
    "* Es wird ein Stoppwortfilter verwendet, der auf einer vorgegebenen Liste basiert.\n",
    "\n",
    "Diese beiden Punkte sind in den Methoden `tokenize()` und `filter()` umgesetzt. Die Methode `get_texts()` wurde entsprechend angepasst. Zusätzlich sind noch zwei Details umgesetzt, die die Verarbeitungsgeschwindigkeit erhöhen: So wird die CSV-Tabelle nur einmal eingelesen, anstatt bei jedem Durchlauf neu geladen zu werden. Ebenso wird die Anzahl der Dokumente im Corpus, die für manche Berechnungen notwendig ist, zwischengespeichert. Diese beiden Punkte sind aber nicht zwingend erforderlich."
   ]
  },
  {
   "cell_type": "code",
   "execution_count": 1,
   "metadata": {
    "collapsed": false
   },
   "outputs": [],
   "source": [
    "import codecs\n",
    "import re\n",
    "\n",
    "from gensim.corpora.textcorpus import TextCorpus\n",
    "from textblob_de import TextBlobDE as TextBlob\n",
    "from textblob_de import PatternParser\n",
    "import pandas as pd\n",
    "\n",
    "class CSVCorpus(TextCorpus):\n",
    "    \"\"\"Read corpus from a csv file.\"\"\"\n",
    "\n",
    "    def tokenize(self, text):\n",
    "        words = re.findall(u'\\w+', text.lower(), re.U)\n",
    "        return words\n",
    "\n",
    "    def filter(self, tokens, stopwords):\n",
    "        return [token for token in tokens if not token in stopwords]\n",
    "\n",
    "    def get_texts(self):\n",
    "        with codecs.open('../Daten/stopwords.txt', encoding='utf-8') as stopwordfile:\n",
    "            stopwords = [line.strip() for line in stopwordfile.readlines()]\n",
    "        table = self.gettable()\n",
    "        for text in table['text']:\n",
    "            tokens = self.tokenize(text)\n",
    "            yield self.filter(tokens, stopwords)\n",
    "\n",
    "    def gettable(self):\n",
    "        if not hasattr(self, 'table'):\n",
    "            with self.getstream() as csvfile:\n",
    "                self.table = pd.read_csv(csvfile, parse_dates=['date'], encoding='utf-8')\n",
    "        return self.table\n",
    "\n",
    "    def __len__(self):\n",
    "        if not hasattr(self, 'length'):\n",
    "            # Cache length\n",
    "            self.length = len(self.gettable())\n",
    "        return self.length"
   ]
  },
  {
   "cell_type": "markdown",
   "metadata": {},
   "source": [
    "Alternativ kann auch auf die Verfahren der Lemmatisierung und Wortartenfilterung zurückgegriffen werden, die in den vorherigen Einheiten besprochen wurden. Dazu werden die beiden Methoden `tokenzie()` und `filter()` überschrieben. Damit dauert die Verarbeitung aber deutlich länger, und es ist unklar, ob die Qualität der Analyse dadurch zwingend steigt. Für ein vergleichendes Experiment kann diese Version aber verwendet werden."
   ]
  },
  {
   "cell_type": "code",
   "execution_count": 2,
   "metadata": {
    "collapsed": false
   },
   "outputs": [],
   "source": [
    "from string import punctuation\n",
    "from collections import namedtuple\n",
    "\n",
    "class LemmatizedCSVCorpus(CSVCorpus):\n",
    "    \"\"\"Read corpus from a csv file.\"\"\"\n",
    "\n",
    "    def tokenize(self, text):\n",
    "        text = text.replace(u'\\xa0', u' ')  # Ersetze \"non-breaking space\" durch normales Leerzeichen\n",
    "        text = re.sub(u'[„“”‚‘’–]', '', text, re.U)  # Entferne Anführungzeichen und Gedankenstriche\n",
    "        blob = TextBlob(text, parser=PatternParser(lemmata=True))\n",
    "        parse = blob.parse()\n",
    "        fieldnames = [tag.replace('-', '_') for tag in parse.tags]\n",
    "        Token = namedtuple('Token', fieldnames)\n",
    "        tokens = [Token(*token.split('/', 4)) for token in parse.split(' ')]\n",
    "        return tokens\n",
    "\n",
    "    def filter(self, tokens, stopwords):\n",
    "        result = []\n",
    "        for token in tokens:\n",
    "            pos = token.part_of_speech[0:2]\n",
    "            word = token.word\n",
    "            if not word.lower() in stopwords and not word in punctuation:\n",
    "                if pos == 'NN':\n",
    "                    result.append(token.lemma.title())\n",
    "                else:\n",
    "                    result.append(token.lemma)\n",
    "        return result"
   ]
  },
  {
   "cell_type": "code",
   "execution_count": 3,
   "metadata": {
    "collapsed": false
   },
   "outputs": [
    {
     "data": {
      "text/plain": [
       "48968"
      ]
     },
     "execution_count": 3,
     "metadata": {},
     "output_type": "execute_result"
    }
   ],
   "source": [
    "corpus = CSVCorpus('../Daten/reden.csv')\n",
    "len(corpus.dictionary)"
   ]
  },
  {
   "cell_type": "markdown",
   "metadata": {},
   "source": [
    "In der nicht lemmatisierten Form enthält das Corpus nun also 48968 unterschiedliche Wörter. Besonders häufige ebenso wie besonders seltene Wörter können dabei die Analyse negativ beeinflussen. Gensim stellt eine Methode bereit, mit der das Corpus um diese Extremwerte bereinigt werden kann. (Erst im zweiten Schritt `compactify()` werden dann die gelöschten Extremwerte tatsächlich aus dem Corpus entfernt.)"
   ]
  },
  {
   "cell_type": "code",
   "execution_count": 4,
   "metadata": {
    "collapsed": false
   },
   "outputs": [
    {
     "data": {
      "text/plain": [
       "10346"
      ]
     },
     "execution_count": 4,
     "metadata": {},
     "output_type": "execute_result"
    }
   ],
   "source": [
    "corpus.dictionary.filter_extremes()\n",
    "corpus.dictionary.compactify()\n",
    "len(corpus.dictionary)"
   ]
  },
  {
   "cell_type": "markdown",
   "metadata": {},
   "source": [
    "Nach dem Filtern bleiben noch 10346 Einträge übrig.\n",
    "\n",
    "Gensim enthält eine Implementierung des Topic-Modeling-Verfahrens »LDA« (neben anderen). Diese Version ist dabei für sehr große Corpora optimiert, die resultierenden Topics sind aber leider oft nicht sehr leicht zu interpretieren. Daher soll hier die Implementierung aus dem Python-Paket »lda« verwendet werden. Sie arbeitet nicht direkt mit dem TextCorpus-Format von gensim, kann aber eine *sparse matrix* einlesen, die mit gensim erzeugt wird."
   ]
  },
  {
   "cell_type": "code",
   "execution_count": 5,
   "metadata": {
    "collapsed": false
   },
   "outputs": [
    {
     "data": {
      "text/plain": [
       "(10346, 614)"
      ]
     },
     "execution_count": 5,
     "metadata": {},
     "output_type": "execute_result"
    }
   ],
   "source": [
    "from gensim.matutils import corpus2csc\n",
    "\n",
    "corpus_matrix = corpus2csc(corpus)\n",
    "corpus_matrix.shape"
   ]
  },
  {
   "cell_type": "code",
   "execution_count": 6,
   "metadata": {
    "collapsed": false
   },
   "outputs": [
    {
     "data": {
      "text/plain": [
       "(614, 10346)"
      ]
     },
     "execution_count": 6,
     "metadata": {},
     "output_type": "execute_result"
    }
   ],
   "source": [
    "corpus_matrix = corpus_matrix.transpose()\n",
    "corpus_matrix.shape"
   ]
  },
  {
   "cell_type": "markdown",
   "metadata": {},
   "source": [
    "Ähnlich wie bei der Keyword Extraction wird hier im ersten Schritt ein Modell erzeugt, das vor allem bestimmte Parameter für die Berechnung speichert. Der wichtigste ist hierbei die Anzahl der Topics. Diese muss vorgegeben werden und kann nicht vom Algorithmus selbst bestimmt werden. 20 ist oft ein guter Ausgangswert, man sollte aber mit verschiedenen Werten experimentieren und die Ergebnisse vergleichen."
   ]
  },
  {
   "cell_type": "code",
   "execution_count": 7,
   "metadata": {
    "collapsed": false
   },
   "outputs": [
    {
     "data": {
      "text/plain": [
       "<lda.lda.LDA instance at 0x7f48a410a200>"
      ]
     },
     "execution_count": 7,
     "metadata": {},
     "output_type": "execute_result"
    }
   ],
   "source": [
    "import lda\n",
    "lda_model = lda.LDA(n_topics=20, n_iter=500, random_state=1)\n",
    "lda_model.fit(corpus_matrix)"
   ]
  },
  {
   "cell_type": "markdown",
   "metadata": {},
   "source": [
    "*Hinweis:* Um die Ergebnisse etwas übersichtlicher darzustellen, ist eine gewisse Formatierung der Ausgabe nützlich. Dies könnte etwa mit HTML realisiert werden. Etwas einfacher ist das minimalistische Textformat »Markdown«, das etwa Zeilen mit vorangestellten Sternchen `*` in Aufzählungslisten umwandelt. Um dies einfacher zu nutzen, wird hier eine kleine Hilfsfunktion definiert. Zu Details siehe die [Syntax-Beschreibung](http://www.daringfireball.net/projects/markdown/syntax)."
   ]
  },
  {
   "cell_type": "code",
   "execution_count": 8,
   "metadata": {
    "collapsed": false
   },
   "outputs": [
    {
     "name": "stderr",
     "output_type": "stream",
     "text": [
      "/home/frederik/Dropbox/Dokumente/Lehrveranstaltungen/LA_Luzern/Python/pyenv/local/lib/python2.7/site-packages/IPython/nbconvert/filters/markdown.py:78: UserWarning: Node.js 0.9.12 or later wasn't found.\n",
      "Nbconvert will try to use Pandoc instead.\n",
      "  \"Nbconvert will try to use Pandoc instead.\")\n"
     ]
    },
    {
     "data": {
      "text/html": [
       "<p>Das ist ein <strong>Test!</strong></p>"
      ],
      "text/plain": [
       "u'Das ist ein **Test!**'"
      ]
     },
     "execution_count": 8,
     "metadata": {},
     "output_type": "execute_result"
    }
   ],
   "source": [
    "from IPython.nbconvert.filters.markdown import markdown2html\n",
    "\n",
    "class MD(unicode):\n",
    "    def _repr_html_(self):\n",
    "        return markdown2html(self)\n",
    "\n",
    "MD(u'Das ist ein **Test!**')"
   ]
  },
  {
   "cell_type": "markdown",
   "metadata": {},
   "source": [
    "Das Ergebnisformat von LDA sind Matrizen im numpy-Format. Diese sind sehr effizient und bieten eine Reihe von Berechnungsmöglichkeiten, sie sind jedoch auf den ersten Blick nicht ganz leicht zu verstehen. Der folgende Code wurde aus der Dokumentation des lda-Pakets übernomme und ein wenig angepasst. Für den Moment soll die Beschreibung ausreichen, dass hierüber für jedes Topic die einflussreichsten 20 Wörter ausgegeben werden."
   ]
  },
  {
   "cell_type": "code",
   "execution_count": 9,
   "metadata": {
    "collapsed": false
   },
   "outputs": [
    {
     "data": {
      "text/html": [
       "<ul>\n",
       "<li><strong>Topic 0:</strong> politik liebe weise blick weit sinne leisten zeigt gesellschaft erfolg bedeutung stelle genau deutlich vergangenen recht wichtiger thema wichtige</li>\n",
       "<li><strong>Topic 1:</strong> erinnerung opfer gedenken geschichte vertreibung vertriebenen flucht erinnern aufarbeitung nationalsozialismus gedenkstätte ort juden aufgabe verbrechen nationalsozialistischen haus ns versöhnung</li>\n",
       "<li><strong>Topic 2:</strong> kultur kunst berlin ausstellung stiftung bund museum kulturellen museen haus künstler kulturelle gesprochene anrede bundes wort geschichte einrichtungen 1</li>\n",
       "<li><strong>Topic 3:</strong> krise wachstum prozent wettbewerbsfähigkeit wirtschaft wirtschaftskrise union augenblick internationalen energien europäische g20 staaten finanz vertrauen euroraum griechenland situation stark</li>\n",
       "<li><strong>Topic 4:</strong> film filme welle berlinale kinos urheber kino kommission verleihung gesprochene herzlich kreative musik films wort insbesondere förderung anrede jury</li>\n",
       "<li><strong>Topic 5:</strong> energien nachhaltigkeit erneuerbaren landwirtschaft klimaschutz internationalen prozent ziel thema erreichen nachhaltige co2 ziele vereinten nationen umwelt wohlstand grad ressourcen</li>\n",
       "<li><strong>Topic 6:</strong> gesellschaft familie kinder frauen familien beruf eltern wandel bildung lernen thema junge alter schule kommunen chancen kindern liebe zusammenhalt</li>\n",
       "<li><strong>Topic 7:</strong> freiheit geschichte einheit deutsch demokratie berlin 20 staaten politischen weltkrieg deutschlands kraft israel berliner frieden freundschaft generation toleranz staat</li>\n",
       "<li><strong>Topic 8:</strong> internet digitalen kultur digitalisierung digitale vielfalt öffentlich schutz rahmenbedingungen initiative kreativen eu urheberrecht geistigen rechtlichen kreativwirtschaft eigentums netz privaten</li>\n",
       "<li><strong>Topic 9:</strong> sicherheit bundeswehr afghanistan herausforderungen soldaten einsatz staaten nato internationalen iran lösung region afrika frieden internationale genauso partnern terrorismus politischen</li>\n",
       "<li><strong>Topic 10:</strong> unternehmen bereich forschung wirtschaft thema industrie investitionen möglichkeiten rahmenbedingungen entwickeln bereichen hierbei region it denke bereiche infrastruktur insgesamt freue</li>\n",
       "<li><strong>Topic 11:</strong> prozent unternehmen thema bereich milliarden nächsten 40 zahl forschung 50 ausbildung situation jungen punkt rente arbeitnehmerinnen demografischen kommunen legislaturperiode</li>\n",
       "<li><strong>Topic 12:</strong> union europäische mitgliedstaaten europas gemeinsame gemeinsamen frankreich währungsunion wirtschafts europäer einigung krise eu parlament währung glück vertrag kontinent kommission</li>\n",
       "<li><strong>Topic 13:</strong> richtig sozusagen aufgabe schaffen dingen überhaupt gesprochen politik denken worden sprechen sozialen bekommen diskussion schritt führen 20 stellen probleme</li>\n",
       "<li><strong>Topic 14:</strong> ddr geschichte helmut kohl ost diktatur wiedervereinigung 1989 ehemaligen bundesrepublik sed teilung revolution 20 bürger west 1990 de mauer</li>\n",
       "<li><strong>Topic 15:</strong> bund 2 mittel philipp verfügung schritt wirtschaft legislaturperiode rösler 000 5 bayern ziel übrigen bildung ausgaben haushalt investition einführung</li>\n",
       "<li><strong>Topic 16:</strong> banken notwendig zusammenarbeit international regulierung recht risiken richtig hierbei meinung punkt regelungen sparkassen gefahr halte bezug form kommission transparenz</li>\n",
       "<li><strong>Topic 17:</strong> wissenschaft bildung universität professor chemie max wissenschaftlichen humboldt wissenschaften universitäten fördern kooperation petra grundlagenforschung forschungseinrichtungen studenten hochschulen jungen institut</li>\n",
       "<li><strong>Topic 18:</strong> medien sachsen zeitungen zeitung anhalt journalisten presse informationen journalismus demokratie verlag interesse leser preisträger grosso kinder haseloff meinungsfreiheit demokratischen</li>\n",
       "<li><strong>Topic 19:</strong> china zusammenarbeit beziehungen deutsch russland türkei wirtschaft kooperation unternehmen mecklenburg vorpommern chinesischen wirtschaftliche bulgarien wirtschaftlichen premierminister chinesische delegation interesse</li>\n",
       "</ul>"
      ],
      "text/plain": [
       "u'* **Topic 0:** politik liebe weise blick weit sinne leisten zeigt gesellschaft erfolg bedeutung stelle genau deutlich vergangenen recht wichtiger thema wichtige\\n* **Topic 1:** erinnerung opfer gedenken geschichte vertreibung vertriebenen flucht erinnern aufarbeitung nationalsozialismus gedenkst\\xe4tte ort juden aufgabe verbrechen nationalsozialistischen haus ns vers\\xf6hnung\\n* **Topic 2:** kultur kunst berlin ausstellung stiftung bund museum kulturellen museen haus k\\xfcnstler kulturelle gesprochene anrede bundes wort geschichte einrichtungen 1\\n* **Topic 3:** krise wachstum prozent wettbewerbsf\\xe4higkeit wirtschaft wirtschaftskrise union augenblick internationalen energien europ\\xe4ische g20 staaten finanz vertrauen euroraum griechenland situation stark\\n* **Topic 4:** film filme welle berlinale kinos urheber kino kommission verleihung gesprochene herzlich kreative musik films wort insbesondere f\\xf6rderung anrede jury\\n* **Topic 5:** energien nachhaltigkeit erneuerbaren landwirtschaft klimaschutz internationalen prozent ziel thema erreichen nachhaltige co2 ziele vereinten nationen umwelt wohlstand grad ressourcen\\n* **Topic 6:** gesellschaft familie kinder frauen familien beruf eltern wandel bildung lernen thema junge alter schule kommunen chancen kindern liebe zusammenhalt\\n* **Topic 7:** freiheit geschichte einheit deutsch demokratie berlin 20 staaten politischen weltkrieg deutschlands kraft israel berliner frieden freundschaft generation toleranz staat\\n* **Topic 8:** internet digitalen kultur digitalisierung digitale vielfalt \\xf6ffentlich schutz rahmenbedingungen initiative kreativen eu urheberrecht geistigen rechtlichen kreativwirtschaft eigentums netz privaten\\n* **Topic 9:** sicherheit bundeswehr afghanistan herausforderungen soldaten einsatz staaten nato internationalen iran l\\xf6sung region afrika frieden internationale genauso partnern terrorismus politischen\\n* **Topic 10:** unternehmen bereich forschung wirtschaft thema industrie investitionen m\\xf6glichkeiten rahmenbedingungen entwickeln bereichen hierbei region it denke bereiche infrastruktur insgesamt freue\\n* **Topic 11:** prozent unternehmen thema bereich milliarden n\\xe4chsten 40 zahl forschung 50 ausbildung situation jungen punkt rente arbeitnehmerinnen demografischen kommunen legislaturperiode\\n* **Topic 12:** union europ\\xe4ische mitgliedstaaten europas gemeinsame gemeinsamen frankreich w\\xe4hrungsunion wirtschafts europ\\xe4er einigung krise eu parlament w\\xe4hrung gl\\xfcck vertrag kontinent kommission\\n* **Topic 13:** richtig sozusagen aufgabe schaffen dingen \\xfcberhaupt gesprochen politik denken worden sprechen sozialen bekommen diskussion schritt f\\xfchren 20 stellen probleme\\n* **Topic 14:** ddr geschichte helmut kohl ost diktatur wiedervereinigung 1989 ehemaligen bundesrepublik sed teilung revolution 20 b\\xfcrger west 1990 de mauer\\n* **Topic 15:** bund 2 mittel philipp verf\\xfcgung schritt wirtschaft legislaturperiode r\\xf6sler 000 5 bayern ziel \\xfcbrigen bildung ausgaben haushalt investition einf\\xfchrung\\n* **Topic 16:** banken notwendig zusammenarbeit international regulierung recht risiken richtig hierbei meinung punkt regelungen sparkassen gefahr halte bezug form kommission transparenz\\n* **Topic 17:** wissenschaft bildung universit\\xe4t professor chemie max wissenschaftlichen humboldt wissenschaften universit\\xe4ten f\\xf6rdern kooperation petra grundlagenforschung forschungseinrichtungen studenten hochschulen jungen institut\\n* **Topic 18:** medien sachsen zeitungen zeitung anhalt journalisten presse informationen journalismus demokratie verlag interesse leser preistr\\xe4ger grosso kinder haseloff meinungsfreiheit demokratischen\\n* **Topic 19:** china zusammenarbeit beziehungen deutsch russland t\\xfcrkei wirtschaft kooperation unternehmen mecklenburg vorpommern chinesischen wirtschaftliche bulgarien wirtschaftlichen premierminister chinesische delegation interesse\\n'"
      ]
     },
     "execution_count": 9,
     "metadata": {},
     "output_type": "execute_result"
    }
   ],
   "source": [
    "import numpy as np\n",
    "vocab = [corpus.dictionary[i] for i in range(len(corpus.dictionary))]\n",
    "topic_word = lda_model.topic_word_  # model.components_ also works\n",
    "n_top_words = 20\n",
    "topics = [np.array(vocab)[np.argsort(topic_dist)][:-n_top_words:-1]\n",
    "          for topic_dist in topic_word]\n",
    "result = u''\n",
    "for i, topic_words in enumerate(topics):\n",
    "    result += u'* **Topic {}:** {}\\n'.format(i, ' '.join(topic_words))\n",
    "MD(result)"
   ]
  },
  {
   "cell_type": "markdown",
   "metadata": {},
   "source": [
    "Diese Topics sind zunächst einmal probabilistisch identifizierte Wort-Cluster. Bei genauerer Betrachtung lässt sich aber für die meisten Topics ein Eindruck gewinnen, welches Thema die ausgegebenen Worte umreißen. Topic 1 etwa beschreibt die Auseinandersetzung mit dem Nationalsozialismus, Topic 2 dagegen den Bereich Kunst und Kultur. Topic 0 dagegen lässt sich auf den ersten Blick weniger leicht interpretieren.\n",
    "\n",
    "Neben den Topics selbst gibt LDA auch eine Zuordnung von Topics zu Dokumenten aus. Es lassen sich also auch für jedes Dokument die relevantesten Topics ausgeben, die das Dokument beschreiben. Die ist ähnlich wie bei der Keyword Extraction, nur dass ganze Topics und nicht einzelne Schlüsselwörter zur Beschreibung herangezogen werden."
   ]
  },
  {
   "cell_type": "code",
   "execution_count": 10,
   "metadata": {
    "collapsed": false
   },
   "outputs": [
    {
     "data": {
      "text/html": [
       "<p><strong>Laudatio auf Rüdiger Safranski</strong></p>\n",
       "<ul>\n",
       "<li><em>Topic 0:</em> politik liebe weise blick weit sinne leisten zeigt gesellschaft erfolg bedeutung stelle genau deutlich vergangenen recht wichtiger thema wichtige</li>\n",
       "<li><em>Topic 7:</em> freiheit geschichte einheit deutsch demokratie berlin 20 staaten politischen weltkrieg deutschlands kraft israel berliner frieden freundschaft generation toleranz staat</li>\n",
       "<li><em>Topic 2:</em> kultur kunst berlin ausstellung stiftung bund museum kulturellen museen haus künstler kulturelle gesprochene anrede bundes wort geschichte einrichtungen 1</li>\n",
       "</ul>\n",
       "<p><strong>Rede von Bundeskanzlerin Merkel anlässlich der Präsentation des deutsch-chinesischen Kooperationsprojekts zur Ladeinfrastruktur für Elektrofahrzeuge am 8. Juli 2014</strong></p>\n",
       "<ul>\n",
       "<li><em>Topic 10:</em> unternehmen bereich forschung wirtschaft thema industrie investitionen möglichkeiten rahmenbedingungen entwickeln bereichen hierbei region it denke bereiche infrastruktur insgesamt freue</li>\n",
       "<li><em>Topic 0:</em> politik liebe weise blick weit sinne leisten zeigt gesellschaft erfolg bedeutung stelle genau deutlich vergangenen recht wichtiger thema wichtige</li>\n",
       "<li><em>Topic 19:</em> china zusammenarbeit beziehungen deutsch russland türkei wirtschaft kooperation unternehmen mecklenburg vorpommern chinesischen wirtschaftliche bulgarien wirtschaftlichen premierminister chinesische delegation interesse</li>\n",
       "</ul>\n",
       "<p><strong>Rede von Bundeskanzlerin Merkel anlässlich des Besuchs der Tsinghua - Universität am 8. Juli 2014</strong></p>\n",
       "<ul>\n",
       "<li><em>Topic 0:</em> politik liebe weise blick weit sinne leisten zeigt gesellschaft erfolg bedeutung stelle genau deutlich vergangenen recht wichtiger thema wichtige</li>\n",
       "<li><em>Topic 5:</em> energien nachhaltigkeit erneuerbaren landwirtschaft klimaschutz internationalen prozent ziel thema erreichen nachhaltige co2 ziele vereinten nationen umwelt wohlstand grad ressourcen</li>\n",
       "<li><em>Topic 19:</em> china zusammenarbeit beziehungen deutsch russland türkei wirtschaft kooperation unternehmen mecklenburg vorpommern chinesischen wirtschaftliche bulgarien wirtschaftlichen premierminister chinesische delegation interesse</li>\n",
       "</ul>\n",
       "<p><strong>Kulturstaatsministerin Monika Grütters zur Eröffnung der Sonderausstellung &quot;Flughafen Berlin-Tempelhof - Die amerikanische Geschichte&quot;</strong></p>\n",
       "<ul>\n",
       "<li><em>Topic 0:</em> politik liebe weise blick weit sinne leisten zeigt gesellschaft erfolg bedeutung stelle genau deutlich vergangenen recht wichtiger thema wichtige</li>\n",
       "<li><em>Topic 7:</em> freiheit geschichte einheit deutsch demokratie berlin 20 staaten politischen weltkrieg deutschlands kraft israel berliner frieden freundschaft generation toleranz staat</li>\n",
       "<li><em>Topic 2:</em> kultur kunst berlin ausstellung stiftung bund museum kulturellen museen haus künstler kulturelle gesprochene anrede bundes wort geschichte einrichtungen 1</li>\n",
       "</ul>\n",
       "<p><strong>Rede von Bundeskanzlerin Merkel anlässlich der Taufe des Tiefseeforschungsschiffs „Sonne“ am 11. Juli 2014 </strong></p>\n",
       "<ul>\n",
       "<li><em>Topic 0:</em> politik liebe weise blick weit sinne leisten zeigt gesellschaft erfolg bedeutung stelle genau deutlich vergangenen recht wichtiger thema wichtige</li>\n",
       "<li><em>Topic 17:</em> wissenschaft bildung universität professor chemie max wissenschaftlichen humboldt wissenschaften universitäten fördern kooperation petra grundlagenforschung forschungseinrichtungen studenten hochschulen jungen institut</li>\n",
       "<li><em>Topic 5:</em> energien nachhaltigkeit erneuerbaren landwirtschaft klimaschutz internationalen prozent ziel thema erreichen nachhaltige co2 ziele vereinten nationen umwelt wohlstand grad ressourcen</li>\n",
       "</ul>\n",
       "<p><strong>Rede von Bundeskanzlerin Merkel anlässlich des 5. Petersberger Klimadialogs am 14. Juli 2014</strong></p>\n",
       "<ul>\n",
       "<li><em>Topic 5:</em> energien nachhaltigkeit erneuerbaren landwirtschaft klimaschutz internationalen prozent ziel thema erreichen nachhaltige co2 ziele vereinten nationen umwelt wohlstand grad ressourcen</li>\n",
       "<li><em>Topic 0:</em> politik liebe weise blick weit sinne leisten zeigt gesellschaft erfolg bedeutung stelle genau deutlich vergangenen recht wichtiger thema wichtige</li>\n",
       "<li><em>Topic 3:</em> krise wachstum prozent wettbewerbsfähigkeit wirtschaft wirtschaftskrise union augenblick internationalen energien europäische g20 staaten finanz vertrauen euroraum griechenland situation stark</li>\n",
       "</ul>\n",
       "<p><strong>Rede von Bundeskanzlerin Merkel zum Treffen mit BBK, THW und den Hilfsorganisationen im Bereich des Bevölkerungsschutzes am 19. August 2014 in Bonn</strong></p>\n",
       "<ul>\n",
       "<li><em>Topic 0:</em> politik liebe weise blick weit sinne leisten zeigt gesellschaft erfolg bedeutung stelle genau deutlich vergangenen recht wichtiger thema wichtige</li>\n",
       "<li><em>Topic 6:</em> gesellschaft familie kinder frauen familien beruf eltern wandel bildung lernen thema junge alter schule kommunen chancen kindern liebe zusammenhalt</li>\n",
       "<li><em>Topic 13:</em> richtig sozusagen aufgabe schaffen dingen überhaupt gesprochen politik denken worden sprechen sozialen bekommen diskussion schritt führen 20 stellen probleme</li>\n",
       "</ul>\n",
       "<p><strong>Rede von Bundeskanzlerin Merkel zum 5. Treffen der Nobelpreisträger</strong></p>\n",
       "<ul>\n",
       "<li><em>Topic 0:</em> politik liebe weise blick weit sinne leisten zeigt gesellschaft erfolg bedeutung stelle genau deutlich vergangenen recht wichtiger thema wichtige</li>\n",
       "<li><em>Topic 3:</em> krise wachstum prozent wettbewerbsfähigkeit wirtschaft wirtschaftskrise union augenblick internationalen energien europäische g20 staaten finanz vertrauen euroraum griechenland situation stark</li>\n",
       "<li><em>Topic 13:</em> richtig sozusagen aufgabe schaffen dingen überhaupt gesprochen politik denken worden sprechen sozialen bekommen diskussion schritt führen 20 stellen probleme</li>\n",
       "</ul>\n",
       "<p><strong>Rede von Bundeskanzlerin Merkel zum Tag der Heimat am 30. August 2014</strong></p>\n",
       "<ul>\n",
       "<li><em>Topic 1:</em> erinnerung opfer gedenken geschichte vertreibung vertriebenen flucht erinnern aufarbeitung nationalsozialismus gedenkstätte ort juden aufgabe verbrechen nationalsozialistischen haus ns versöhnung</li>\n",
       "<li><em>Topic 0:</em> politik liebe weise blick weit sinne leisten zeigt gesellschaft erfolg bedeutung stelle genau deutlich vergangenen recht wichtiger thema wichtige</li>\n",
       "<li><em>Topic 7:</em> freiheit geschichte einheit deutsch demokratie berlin 20 staaten politischen weltkrieg deutschlands kraft israel berliner frieden freundschaft generation toleranz staat</li>\n",
       "</ul>\n",
       "<p><strong>Rede zur Eröffnung des Gedenk- und Informationsortes für die Opfer der nationalsozialistischen &quot;Euthanasie&quot;-Morde</strong></p>\n",
       "<ul>\n",
       "<li><em>Topic 1:</em> erinnerung opfer gedenken geschichte vertreibung vertriebenen flucht erinnern aufarbeitung nationalsozialismus gedenkstätte ort juden aufgabe verbrechen nationalsozialistischen haus ns versöhnung</li>\n",
       "<li><em>Topic 0:</em> politik liebe weise blick weit sinne leisten zeigt gesellschaft erfolg bedeutung stelle genau deutlich vergangenen recht wichtiger thema wichtige</li>\n",
       "<li><em>Topic 7:</em> freiheit geschichte einheit deutsch demokratie berlin 20 staaten politischen weltkrieg deutschlands kraft israel berliner frieden freundschaft generation toleranz staat</li>\n",
       "</ul>"
      ],
      "text/plain": [
       "u'\\n\\n**Laudatio auf R\\xfcdiger Safranski**\\n\\n * _Topic 0:_ politik liebe weise blick weit sinne leisten zeigt gesellschaft erfolg bedeutung stelle genau deutlich vergangenen recht wichtiger thema wichtige\\n * _Topic 7:_ freiheit geschichte einheit deutsch demokratie berlin 20 staaten politischen weltkrieg deutschlands kraft israel berliner frieden freundschaft generation toleranz staat\\n * _Topic 2:_ kultur kunst berlin ausstellung stiftung bund museum kulturellen museen haus k\\xfcnstler kulturelle gesprochene anrede bundes wort geschichte einrichtungen 1\\n\\n\\n**Rede von Bundeskanzlerin Merkel anl\\xe4sslich der Pr\\xe4sentation des deutsch-chinesischen Kooperationsprojekts zur Ladeinfrastruktur f\\xfcr Elektrofahrzeuge am 8. Juli 2014**\\n\\n * _Topic 10:_ unternehmen bereich forschung wirtschaft thema industrie investitionen m\\xf6glichkeiten rahmenbedingungen entwickeln bereichen hierbei region it denke bereiche infrastruktur insgesamt freue\\n * _Topic 0:_ politik liebe weise blick weit sinne leisten zeigt gesellschaft erfolg bedeutung stelle genau deutlich vergangenen recht wichtiger thema wichtige\\n * _Topic 19:_ china zusammenarbeit beziehungen deutsch russland t\\xfcrkei wirtschaft kooperation unternehmen mecklenburg vorpommern chinesischen wirtschaftliche bulgarien wirtschaftlichen premierminister chinesische delegation interesse\\n\\n\\n**Rede von Bundeskanzlerin Merkel anl\\xe4sslich des Besuchs der Tsinghua - Universit\\xe4t am 8. Juli 2014**\\n\\n * _Topic 0:_ politik liebe weise blick weit sinne leisten zeigt gesellschaft erfolg bedeutung stelle genau deutlich vergangenen recht wichtiger thema wichtige\\n * _Topic 5:_ energien nachhaltigkeit erneuerbaren landwirtschaft klimaschutz internationalen prozent ziel thema erreichen nachhaltige co2 ziele vereinten nationen umwelt wohlstand grad ressourcen\\n * _Topic 19:_ china zusammenarbeit beziehungen deutsch russland t\\xfcrkei wirtschaft kooperation unternehmen mecklenburg vorpommern chinesischen wirtschaftliche bulgarien wirtschaftlichen premierminister chinesische delegation interesse\\n\\n\\n**Kulturstaatsministerin Monika Gr\\xfctters zur Er\\xf6ffnung der Sonderausstellung\\r\\n\"Flughafen Berlin-Tempelhof - Die amerikanische Geschichte\"**\\n\\n * _Topic 0:_ politik liebe weise blick weit sinne leisten zeigt gesellschaft erfolg bedeutung stelle genau deutlich vergangenen recht wichtiger thema wichtige\\n * _Topic 7:_ freiheit geschichte einheit deutsch demokratie berlin 20 staaten politischen weltkrieg deutschlands kraft israel berliner frieden freundschaft generation toleranz staat\\n * _Topic 2:_ kultur kunst berlin ausstellung stiftung bund museum kulturellen museen haus k\\xfcnstler kulturelle gesprochene anrede bundes wort geschichte einrichtungen 1\\n\\n\\n**Rede von Bundeskanzlerin Merkel anl\\xe4sslich der Taufe des Tiefseeforschungsschiffs \\u201eSonne\\u201c am 11. Juli 2014 **\\n\\n * _Topic 0:_ politik liebe weise blick weit sinne leisten zeigt gesellschaft erfolg bedeutung stelle genau deutlich vergangenen recht wichtiger thema wichtige\\n * _Topic 17:_ wissenschaft bildung universit\\xe4t professor chemie max wissenschaftlichen humboldt wissenschaften universit\\xe4ten f\\xf6rdern kooperation petra grundlagenforschung forschungseinrichtungen studenten hochschulen jungen institut\\n * _Topic 5:_ energien nachhaltigkeit erneuerbaren landwirtschaft klimaschutz internationalen prozent ziel thema erreichen nachhaltige co2 ziele vereinten nationen umwelt wohlstand grad ressourcen\\n\\n\\n**Rede von Bundeskanzlerin Merkel anl\\xe4sslich des 5. Petersberger Klimadialogs am 14. Juli 2014**\\n\\n * _Topic 5:_ energien nachhaltigkeit erneuerbaren landwirtschaft klimaschutz internationalen prozent ziel thema erreichen nachhaltige co2 ziele vereinten nationen umwelt wohlstand grad ressourcen\\n * _Topic 0:_ politik liebe weise blick weit sinne leisten zeigt gesellschaft erfolg bedeutung stelle genau deutlich vergangenen recht wichtiger thema wichtige\\n * _Topic 3:_ krise wachstum prozent wettbewerbsf\\xe4higkeit wirtschaft wirtschaftskrise union augenblick internationalen energien europ\\xe4ische g20 staaten finanz vertrauen euroraum griechenland situation stark\\n\\n\\n**Rede von Bundeskanzlerin Merkel zum Treffen mit BBK, THW und den Hilfsorganisationen im Bereich des Bev\\xf6lkerungsschutzes am 19. August 2014 in Bonn**\\n\\n * _Topic 0:_ politik liebe weise blick weit sinne leisten zeigt gesellschaft erfolg bedeutung stelle genau deutlich vergangenen recht wichtiger thema wichtige\\n * _Topic 6:_ gesellschaft familie kinder frauen familien beruf eltern wandel bildung lernen thema junge alter schule kommunen chancen kindern liebe zusammenhalt\\n * _Topic 13:_ richtig sozusagen aufgabe schaffen dingen \\xfcberhaupt gesprochen politik denken worden sprechen sozialen bekommen diskussion schritt f\\xfchren 20 stellen probleme\\n\\n\\n**Rede von Bundeskanzlerin Merkel zum 5. Treffen der Nobelpreistr\\xe4ger**\\n\\n * _Topic 0:_ politik liebe weise blick weit sinne leisten zeigt gesellschaft erfolg bedeutung stelle genau deutlich vergangenen recht wichtiger thema wichtige\\n * _Topic 3:_ krise wachstum prozent wettbewerbsf\\xe4higkeit wirtschaft wirtschaftskrise union augenblick internationalen energien europ\\xe4ische g20 staaten finanz vertrauen euroraum griechenland situation stark\\n * _Topic 13:_ richtig sozusagen aufgabe schaffen dingen \\xfcberhaupt gesprochen politik denken worden sprechen sozialen bekommen diskussion schritt f\\xfchren 20 stellen probleme\\n\\n\\n**Rede von Bundeskanzlerin Merkel zum Tag der Heimat am 30. August 2014**\\n\\n * _Topic 1:_ erinnerung opfer gedenken geschichte vertreibung vertriebenen flucht erinnern aufarbeitung nationalsozialismus gedenkst\\xe4tte ort juden aufgabe verbrechen nationalsozialistischen haus ns vers\\xf6hnung\\n * _Topic 0:_ politik liebe weise blick weit sinne leisten zeigt gesellschaft erfolg bedeutung stelle genau deutlich vergangenen recht wichtiger thema wichtige\\n * _Topic 7:_ freiheit geschichte einheit deutsch demokratie berlin 20 staaten politischen weltkrieg deutschlands kraft israel berliner frieden freundschaft generation toleranz staat\\n\\n\\n**Rede zur Er\\xf6ffnung des Gedenk- und Informationsortes f\\xfcr die Opfer der nationalsozialistischen \"Euthanasie\"-Morde**\\n\\n * _Topic 1:_ erinnerung opfer gedenken geschichte vertreibung vertriebenen flucht erinnern aufarbeitung nationalsozialismus gedenkst\\xe4tte ort juden aufgabe verbrechen nationalsozialistischen haus ns vers\\xf6hnung\\n * _Topic 0:_ politik liebe weise blick weit sinne leisten zeigt gesellschaft erfolg bedeutung stelle genau deutlich vergangenen recht wichtiger thema wichtige\\n * _Topic 7:_ freiheit geschichte einheit deutsch demokratie berlin 20 staaten politischen weltkrieg deutschlands kraft israel berliner frieden freundschaft generation toleranz staat\\n'"
      ]
     },
     "execution_count": 10,
     "metadata": {},
     "output_type": "execute_result"
    }
   ],
   "source": [
    "data = pd.read_csv(\"../Daten/reden.csv\", parse_dates=['date'], encoding='utf-8')\n",
    "titles = data['title']\n",
    "\n",
    "doc_topic = lda_model.doc_topic_\n",
    "result = u''\n",
    "for i in range(10):\n",
    "    result += u'\\n\\n**{}**\\n\\n'.format(titles[i])\n",
    "    for topic in doc_topic[i].argsort()[:-4:-1]:\n",
    "        result += u' * _Topic {}:_ {}\\n'.format(topic, ' '.join(topics[topic]))\n",
    "MD(result)"
   ]
  },
  {
   "cell_type": "markdown",
   "metadata": {},
   "source": [
    "Dabei ist zunächst auffällig, dass Topic 0 immer in den Top 3 auftaucht. Gemeinsam mit seiner inhaltlichen Vagheit ergibt sich der Eindruck, dass es sich weitgehend um ein Residual-Topic handelt, das relativ unspezifische, aber regelmäßig auftretenden Wörter gruppiert. Die anderen Topics geben dagegen einen relativ guten Einblick in die inhaltlichen Schwerpunkte der Texte.\n",
    "\n",
    "Um später erneut auf die Ergebnisse zurückgreifen zu können, wird das berechnete Modell gespeichert."
   ]
  },
  {
   "cell_type": "code",
   "execution_count": 11,
   "metadata": {
    "collapsed": false
   },
   "outputs": [],
   "source": [
    "from cPickle import dump\n",
    "\n",
    "with open('topicmodel20.pickle', 'wb') as picklefile:\n",
    "    dump(lda_model, picklefile)"
   ]
  }
 ],
 "metadata": {
  "kernelspec": {
   "display_name": "Python 3",
   "language": "python",
   "name": "python3"
  },
  "language_info": {
   "codemirror_mode": {
    "name": "ipython",
    "version": 3
   },
   "file_extension": ".py",
   "mimetype": "text/x-python",
   "name": "python",
   "nbconvert_exporter": "python",
   "pygments_lexer": "ipython3",
   "version": "3.4.3"
  }
 },
 "nbformat": 4,
 "nbformat_minor": 0
}
