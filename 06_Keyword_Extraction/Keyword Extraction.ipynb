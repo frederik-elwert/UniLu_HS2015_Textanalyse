{
 "cells": [
  {
   "cell_type": "markdown",
   "metadata": {},
   "source": [
    "# Anwendung 1: Keyword Extraction"
   ]
  },
  {
   "cell_type": "markdown",
   "metadata": {},
   "source": [
    "Eine mögliche Anwendung von Textanalysen auf der Grundlage eines Vector-Space-Modells ist die Identifikation von Schlüsselwörtern für Texte, die »Keyword Extraction«. Ein Schlüsselwort kann verstanden werden als ein Wort, dass einen inhaltlichen Aspekt eines Textes beschreibt. Eine begrenzte Anzahl von Schlüsselwörtern sollte also bereits einen guten Eindruck vom Inhalt eines Textes vermitteln. Schlagwortsysteme, etwa in Bibliothekskatalogen oder Literaturdatenbanken, bauen auf dieser Idee auf. Sie erfordern aber eine sorgfältige manuelle Verschlagwortung. Daher ist die Frage interessant, ob sich Schlüsselwörter für Texte auch automatisch aus dem Textinhalt erschließen lassen.\n",
    "\n",
    "Ein erster Kandidat für die Identifikation wäre die reine Worthäufigkeit: Für einen Text relevante Wörter sollten in ihm häufig vorkommen. Die Häufigkeitsauszählungen aus den vorangegangenen Einheiten zeigen aber, dass eine reine Häufigkeitsliste nicht sehr hilfreich ist: Zunächst erscheinen Funktionwörter wie etwa Artikel ganz oben in der Liste. Aber auch wenn man nach Wortarten filtert, bleiben oft relativ unspezifische Wörter dominant.\n",
    "\n",
    "Der Keyword Extraction liegt daher die Annahme zugrunde, dass einige Wörter insgesamt häufig vorkommen, ohne dass sie inhaltlich aussagekräftig wären. Ihr häufiges Vorkommen ist daher eher charakteristisch für eine (Fach-)Sprache als für einzelne Texte. Die Verteilung dieser Wörter sollte entsprechend über die Texte relativ gleich bleiben. Ein Schlüsselwort dagegen sollte im entsprechenden Text deutlich häufiger vorkommen als im Gesamtkorpus. Statistisch lässt sich ein Schlüsselwort also definieren als ein Wort, das in einem einzelnen Text signifikant häufiger vorkommt als seine Häufigkeit im Gesamtcorpus erwarten lassen würde.\n",
    "\n",
    "Eine Form einer entsprechenden Identifikation von Schlüsselwörtern ist [Tf-Idf](http://de.wikipedia.org/wiki/Tf-idf-Ma%C3%9F). Das Kürzel steht dabei für »Termfrequenz – Inverse Dokumentfrequenz«.\n",
    "\n",
    "Dieses Verfahren ist in gensim implementiert. Dafür wird die in der vorangegangenen Einheit vorgestellte Corpus-Klasse verwendet."
   ]
  },
  {
   "cell_type": "code",
   "execution_count": 1,
   "metadata": {
    "collapsed": false
   },
   "outputs": [],
   "source": [
    "from gensim.corpora.textcorpus import TextCorpus\n",
    "from textblob_de import TextBlobDE as TextBlob\n",
    "import pandas as pd\n",
    "\n",
    "class CSVCorpus(TextCorpus):\n",
    "    \"\"\"Read corpus from a csv file.\"\"\"\n",
    "\n",
    "    def get_texts(self):\n",
    "        with self.getstream() as csvfile:  # Öffnet die CSV-Datei\n",
    "            table = pd.read_csv(csvfile, parse_dates=['date'], encoding='utf-8')  # Liest die CSV-Datei\n",
    "            for text in table['text']:  # Verarbeite die einzelnen Texte aus der Spalte 'text'\n",
    "                blob = TextBlob(text)\n",
    "                yield blob.words"
   ]
  },
  {
   "cell_type": "markdown",
   "metadata": {},
   "source": [
    "Das Vorgehen in gensim ist dabei nicht ganz selbsterklären, daher hier eine kurze Erläuterung: Der Befehl `TfidfModel(corpus)` erzeugt zunächst ein Modell, das die allgemeine Häufigkeitsverteilung von Wörtern im Corpus enthält. Mit diesem Modell können nun einzelne Dokumente, aber auch nur einzelne Wörter aus einem Dokument, verglichen werden. Dies ist etwa dann sinnvoll, wenn eine Berechnung für das gesamte Corpus zu aufwändig wäre, oder wenn neue Texte hinzukommen, die mit einem bestehenden Corpus verglichen werden sollen.\n",
    "\n",
    "Um dagegen für das gesamte Corpus die Tf-Idf-Werte zu berechnen, wird dem Modell im zweiten Schritt einfach wiederum das gesamte Corpus übergeben: `tf_idf[corpus]`. In diesem Schritt findet dann die eigentliche Berechnung für die einzelnen Dokument statt."
   ]
  },
  {
   "cell_type": "code",
   "execution_count": 2,
   "metadata": {
    "collapsed": false
   },
   "outputs": [],
   "source": [
    "from gensim.models import TfidfModel\n",
    "\n",
    "corpus = CSVCorpus(\"../Daten/Reden.csv\")\n",
    "tf_idf = TfidfModel(corpus)\n",
    "corpus_idf = tf_idf[corpus]"
   ]
  },
  {
   "cell_type": "markdown",
   "metadata": {},
   "source": [
    "Dies gibt für jedes Wort in jedem Dokument einen Wert aus. Das Format ist dabei das gleiche wie für Corpora, nur dass anstelle der reinen Worthäufigkeiten der tfidf-Wert ausgegeben wird. Ein Dokument ist also eine Liste aus `(wortindex, wert)`-Paaren.\n",
    "\n",
    "Um nun für einzelne Dokumente die Schlüsselwörter zu bestimmen, ist es sinnvoll, die Wörter im Dokument nach ihrem tfidf-Wert zu sortieren. Zugleich interessieren nicht die numerischen Wort-Indices, sondern die eigentlichen Wörter. Daher wird hier eine Funktion `keywords` definiert, die das Dokument zunächst nach tfidf-Wert (dem zweiten Eintrag im Wort-Wert-Paar: `x[1]`) sortiert und dann ein Paar aus Wörterbucheintrag `corpus.dictionary[term]` und tfidf-Wert ausgibt."
   ]
  },
  {
   "cell_type": "code",
   "execution_count": 3,
   "metadata": {
    "collapsed": false
   },
   "outputs": [],
   "source": [
    "def keywords(corpus, doc_tf_idf):\n",
    "    return [(corpus.dictionary[term], value)\n",
    "            for term, value\n",
    "            in sorted(doc_tf_idf, key=lambda x: x[1], reverse=True)]"
   ]
  },
  {
   "cell_type": "markdown",
   "metadata": {},
   "source": [
    "Für die ersten zehn Dokumente können nun etwa jeweils fünf Schlüsselwörter ausgegeben werden:"
   ]
  },
  {
   "cell_type": "code",
   "execution_count": 4,
   "metadata": {
    "collapsed": false
   },
   "outputs": [
    {
     "name": "stdout",
     "output_type": "stream",
     "text": [
      "\n",
      "  forscht“ (0.43699409511465326)\n",
      "  „Jugend (0.43699409511465326)\n",
      "  Entwicklungsland (0.1334158004695894)\n",
      "  stachelt (0.1334158004695894)\n",
      "  Gymnasium (0.11956330874423221)\n",
      "\n",
      "  Frauen (0.5199507857411889)\n",
      "  Geschichten (0.1356255710995334)\n",
      "  unermesslichem (0.13245827136131796)\n",
      "  G7-Dialogforum (0.13245827136131796)\n",
      "  Jinping (0.13245827136131796)\n",
      "\n",
      "  WHO (0.2877199964065426)\n",
      "  Krankheit (0.22439674978794663)\n",
      "  Informationen (0.2226976416575381)\n",
      "  medizinischen (0.17771860955768617)\n",
      "  Solberg (0.1745585137750599)\n",
      "\n",
      "  Sustainable (0.19723335271907866)\n",
      "  Goals (0.18386621698688743)\n",
      "  Development (0.16702561760653403)\n",
      "  Wirtschaft (0.1652491508498979)\n",
      "  Korruption (0.13552487703988408)\n",
      "\n",
      "  Ziele (0.2563022568576125)\n",
      "  Sustainable (0.17806274139533296)\n",
      "  Generalsekretär (0.16899992422066198)\n",
      "  Goals (0.16599485936491587)\n",
      "  Development (0.150791126065927)\n",
      "\n",
      "  2030 (0.2077824618151842)\n",
      "  globale (0.14397981111432034)\n",
      "  Agenda (0.1416998433562269)\n",
      "  mobilisieren (0.1258821139298492)\n",
      "  regional (0.12191117079887362)\n",
      "\n",
      "  Kreativwirtschaft (0.2234505898390548)\n",
      "  Künstler (0.17594331197560148)\n",
      "  Kreativpiloten (0.15992870773422385)\n",
      "  Kultur (0.1534884964605381)\n",
      "  Kommerz (0.13360990961832625)\n",
      "\n",
      "  Schröder (0.43462817263043935)\n",
      "  Schöllgen (0.31215842500661073)\n",
      "  Gerhard (0.26177151727713005)\n",
      "  „Der (0.21309985253244934)\n",
      "  Aussteiger“ (0.1950990156291317)\n",
      "\n",
      "  Buchhandlungen (0.2874606625921929)\n",
      "  Buchhändler (0.19857728739391256)\n",
      "  stationären (0.19624447987593005)\n",
      "  Bücher (0.15288402254869154)\n",
      "  Buch (0.14528417654057824)\n"
     ]
    }
   ],
   "source": [
    "for i, doc in enumerate(corpus_idf):\n",
    "    if i == 9:\n",
    "        break\n",
    "    print()\n",
    "    for keyword, value in keywords(corpus, doc)[0:5]:\n",
    "        print('  {} ({})'.format(keyword, value))"
   ]
  },
  {
   "cell_type": "markdown",
   "metadata": {},
   "source": [
    "Hier ist auffällig, dass fast nur Substantive ausgegeben werden, obwohl das Corpus selbst die Wörter überhaupt nicht gefiltert hat. Dies legt den Schluss nahe, dass andere Wortarten deutlich gleicher über das Corpus verteilt sind.\n",
    "\n",
    "Um die Plausibilität dieser Listen zu überprüfen, können zusätzlich die Titel der Dokumente ausgegeben werden:"
   ]
  },
  {
   "cell_type": "code",
   "execution_count": 5,
   "metadata": {
    "collapsed": false
   },
   "outputs": [
    {
     "name": "stdout",
     "output_type": "stream",
     "text": [
      "\n",
      "Rede von Bundeskanzlerin Merkel beim Empfang der Preisträgerinnen und Preisträger des 50. Bundeswettbewerbs „Jugend forscht“ am 30. September 2015\n",
      "  forscht“ (0.43699409511465326)\n",
      "  „Jugend (0.43699409511465326)\n",
      "  Entwicklungsland (0.1334158004695894)\n",
      "  stachelt (0.1334158004695894)\n",
      "  Gymnasium (0.11956330874423221)\n",
      "\n",
      "Rede von Bundeskanzlerin Merkel beim Global Leaders‘ Meeting on Achieving Gender Equality and Women’s Empowerment: „A Commitment to Action“ am 27. September 2015\n",
      "  Frauen (0.5199507857411889)\n",
      "  Geschichten (0.1356255710995334)\n",
      "  unermesslichem (0.13245827136131796)\n",
      "  G7-Dialogforum (0.13245827136131796)\n",
      "  Jinping (0.13245827136131796)\n",
      "\n",
      "Rede von Bundeskanzlerin Merkel beim gemeinsamen Side Event der Bundesrepublik Deutschland, des Königreichs Norwegen und der Republik Ghana „Securing a healthy future“ am 26. September 2015\n",
      "  WHO (0.2877199964065426)\n",
      "  Krankheit (0.22439674978794663)\n",
      "  Informationen (0.2226976416575381)\n",
      "  medizinischen (0.17771860955768617)\n",
      "  Solberg (0.1745585137750599)\n",
      "\n",
      "Rede von Bundeskanzlerin Merkel beim Arbeitsmittagessen des UN Private Sector Forum 2015 am 26. September 2015\n",
      "  Sustainable (0.19723335271907866)\n",
      "  Goals (0.18386621698688743)\n",
      "  Development (0.16702561760653403)\n",
      "  Wirtschaft (0.1652491508498979)\n",
      "  Korruption (0.13552487703988408)\n",
      "\n",
      "Rede von Bundeskanzlerin Merkel beim High Level Event der United Nations Development Group (UNDG) „From Global Conversation to Global Action – Making the Sustainable Development Goals Work“ am 25. September 2015\n",
      "  Ziele (0.2563022568576125)\n",
      "  Sustainable (0.17806274139533296)\n",
      "  Generalsekretär (0.16899992422066198)\n",
      "  Goals (0.16599485936491587)\n",
      "  Development (0.150791126065927)\n",
      "\n",
      "Rede von Bundeskanzlerin Merkel bei der Eröffnung des UN-Gipfels zur Verabschiedung der Agenda 2030 für nachhaltige Entwicklung am 25. September 2015 \n",
      "  2030 (0.2077824618151842)\n",
      "  globale (0.14397981111432034)\n",
      "  Agenda (0.1416998433562269)\n",
      "  mobilisieren (0.1258821139298492)\n",
      "  regional (0.12191117079887362)\n",
      "\n",
      "Rede von Monika Grütters bei der BKU-Bundestagung 2015 \"Zum Unternehmer berufen\"\n",
      "  Kreativwirtschaft (0.2234505898390548)\n",
      "  Künstler (0.17594331197560148)\n",
      "  Kreativpiloten (0.15992870773422385)\n",
      "  Kultur (0.1534884964605381)\n",
      "  Kommerz (0.13360990961832625)\n",
      "\n",
      "Rede von Bundeskanzlerin Merkel zur Vorstellung einer Biografie des Bundeskanzlers a. D. Schröder am 22. September 2015\n",
      "  Schröder (0.43462817263043935)\n",
      "  Schöllgen (0.31215842500661073)\n",
      "  Gerhard (0.26177151727713005)\n",
      "  „Der (0.21309985253244934)\n",
      "  Aussteiger“ (0.1950990156291317)\n",
      "\n",
      "Rede von Kulturstaatsministerin Grütters zur erstmaligen Verleihung des \"Deutschen Buchhandlungspreises 2015\"\n",
      "  Buchhandlungen (0.2874606625921929)\n",
      "  Buchhändler (0.19857728739391256)\n",
      "  stationären (0.19624447987593005)\n",
      "  Bücher (0.15288402254869154)\n",
      "  Buch (0.14528417654057824)\n"
     ]
    }
   ],
   "source": [
    "data = pd.read_csv(\"../Daten/Reden.csv\", parse_dates=['date'], encoding='utf-8')\n",
    "\n",
    "for i, doc in enumerate(corpus_idf):\n",
    "    if i == 9:\n",
    "        break\n",
    "    print()\n",
    "    print(data['title'][i])\n",
    "    for keyword, value in keywords(corpus, doc)[0:5]:\n",
    "        print('  {} ({})'.format(keyword, value))"
   ]
  }
 ],
 "metadata": {
  "kernelspec": {
   "display_name": "Python 3",
   "language": "python",
   "name": "python3"
  },
  "language_info": {
   "codemirror_mode": {
    "name": "ipython",
    "version": 3
   },
   "file_extension": ".py",
   "mimetype": "text/x-python",
   "name": "python",
   "nbconvert_exporter": "python",
   "pygments_lexer": "ipython3",
   "version": "3.4.3"
  }
 },
 "nbformat": 4,
 "nbformat_minor": 0
}
