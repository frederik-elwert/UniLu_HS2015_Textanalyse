{
 "cells": [
  {
   "cell_type": "markdown",
   "metadata": {},
   "source": [
    "# Keyword Extraction: Korpusvergleich"
   ]
  },
  {
   "cell_type": "markdown",
   "metadata": {},
   "source": [
    "Schlüsselwörter können nicht nur für einzelne Dokumente identifiziert werden, sondern auch für ganze Teilkorpora. Das Verfahren ist identisch, nur dass charakteristische Wörter für eine Gruppe an Dokumenten im Vergleich zum Gesamtkorpus gefunden werden. Dies erlaubt interessante Vergleiche, z.B. nach Autor, Jahr, oder Genre.\n",
    "\n",
    "Der Anfang ist identisch mit der bisherigen Keyword Extraction."
   ]
  },
  {
   "cell_type": "code",
   "execution_count": 1,
   "metadata": {
    "collapsed": false
   },
   "outputs": [],
   "source": [
    "from gensim.corpora.textcorpus import TextCorpus\n",
    "from textblob_de import TextBlobDE as TextBlob\n",
    "import pandas as pd\n",
    "\n",
    "class CSVCorpus(TextCorpus):\n",
    "    \"\"\"Read corpus from a csv file.\"\"\"\n",
    "\n",
    "    def get_texts(self):\n",
    "        with self.getstream() as csvfile:  # Öffnet die CSV-Datei\n",
    "            table = pd.read_csv(csvfile, parse_dates=['date'], encoding='utf-8')  # Liest die CSV-Datei\n",
    "            for text in table['text']:  # Verarbeite die einzelnen Texte aus der Spalte 'text'\n",
    "                blob = TextBlob(text)\n",
    "                yield blob.words"
   ]
  },
  {
   "cell_type": "markdown",
   "metadata": {},
   "source": [
    "Zunächst wird das IDF-Referenzmodell für das gesamte Korpus erstellt:"
   ]
  },
  {
   "cell_type": "code",
   "execution_count": 2,
   "metadata": {
    "collapsed": false
   },
   "outputs": [],
   "source": [
    "from gensim.models import TfidfModel\n",
    "\n",
    "corpus = CSVCorpus(\"../Daten/Reden.csv\")\n",
    "tf_idf = TfidfModel(corpus)"
   ]
  },
  {
   "cell_type": "markdown",
   "metadata": {},
   "source": [
    "Der Ansatz beim Vergleich eines Teilkorpus ist, das Teilkorpus als ein einziges Dokument aufzufassen. Dazu werden die Termhäufigkeiten der Dokumente des Teilkorpus einfach aufaddiert. Dies ist leichter, wenn das Korpus als Matrix bzw. DataFrame vorliegt, weshalb das Gensim-Korpus zunächst in die entsprechende Form gebracht wird:"
   ]
  },
  {
   "cell_type": "code",
   "execution_count": 3,
   "metadata": {
    "collapsed": false
   },
   "outputs": [
    {
     "data": {
      "text/plain": [
       "(793, 65820)"
      ]
     },
     "execution_count": 3,
     "metadata": {},
     "output_type": "execute_result"
    }
   ],
   "source": [
    "from gensim.matutils import corpus2csc\n",
    "\n",
    "corpus_matrix_sparse = corpus2csc(corpus)\n",
    "corpus_matrix_sparse = corpus_matrix_sparse.transpose()\n",
    "corpus_matrix = corpus_matrix_sparse.todense()\n",
    "df = pd.DataFrame(corpus_matrix)\n",
    "df.shape"
   ]
  },
  {
   "cell_type": "markdown",
   "metadata": {},
   "source": [
    "Für die Erstellung der Subkorpora wird auf die Metadaten zugegriffen, die in der CSV-Datei gespeichert sind. Für den Vergleich von Rednern steht keine explizite Spalte zur Verfügung, daher wird näherungsweise nach dem Vorkommen des Namens im Titel geguckt:"
   ]
  },
  {
   "cell_type": "code",
   "execution_count": 4,
   "metadata": {
    "collapsed": true
   },
   "outputs": [],
   "source": [
    "data = pd.read_csv(\"../Daten/Reden.csv\", parse_dates=['date'], encoding='utf-8')"
   ]
  },
  {
   "cell_type": "code",
   "execution_count": 5,
   "metadata": {
    "collapsed": false
   },
   "outputs": [
    {
     "data": {
      "text/plain": [
       "(95, 65820)"
      ]
     },
     "execution_count": 5,
     "metadata": {},
     "output_type": "execute_result"
    }
   ],
   "source": [
    "has_mg = data['title'].apply(lambda title: 'Grütters' in title)\n",
    "df_author = df[has_mg]\n",
    "df_author.shape"
   ]
  },
  {
   "cell_type": "code",
   "execution_count": 6,
   "metadata": {
    "collapsed": false
   },
   "outputs": [
    {
     "data": {
      "text/plain": [
       "0    19\n",
       "2    59\n",
       "3    23\n",
       "4    45\n",
       "6    19\n",
       "dtype: int64"
      ]
     },
     "execution_count": 6,
     "metadata": {},
     "output_type": "execute_result"
    }
   ],
   "source": [
    "subcorpus = df_author.sum()\n",
    "subcorpus = subcorpus.astype(int)\n",
    "subcorpus = subcorpus[subcorpus > 0]\n",
    "subcorpus.head()"
   ]
  },
  {
   "cell_type": "markdown",
   "metadata": {},
   "source": [
    "Für Gensim muss das Subkorpus nun wieder als ein Dokument vorliegen, in dem die Worthäufigkeiten wieder in der Form `[(id, num), (id, num), …]` angegeben sind. Dies geht mit folgendem Befehl:"
   ]
  },
  {
   "cell_type": "code",
   "execution_count": 7,
   "metadata": {
    "collapsed": false
   },
   "outputs": [
    {
     "data": {
      "text/plain": [
       "[(0, 19), (2, 59), (3, 23), (4, 45), (6, 19)]"
      ]
     },
     "execution_count": 7,
     "metadata": {},
     "output_type": "execute_result"
    }
   ],
   "source": [
    "doc = list(subcorpus.items())\n",
    "doc[0:5]"
   ]
  },
  {
   "cell_type": "markdown",
   "metadata": {},
   "source": [
    "Damit lassen sich nun die Schlüsselwörter für das gesamte Teilkorpus berechnen:"
   ]
  },
  {
   "cell_type": "code",
   "execution_count": 8,
   "metadata": {
    "collapsed": true
   },
   "outputs": [],
   "source": [
    "doc_tf_idf = tf_idf[doc]"
   ]
  },
  {
   "cell_type": "code",
   "execution_count": 9,
   "metadata": {
    "collapsed": false
   },
   "outputs": [],
   "source": [
    "def keywords(corpus, doc_tf_idf):\n",
    "    return [(corpus.dictionary[term], value)\n",
    "            for term, value\n",
    "            in sorted(doc_tf_idf, key=lambda x: x[1], reverse=True)]"
   ]
  },
  {
   "cell_type": "code",
   "execution_count": 10,
   "metadata": {
    "collapsed": false
   },
   "outputs": [
    {
     "data": {
      "text/plain": [
       "[('Kunst', 0.16511966593032212),\n",
       " ('Kultur', 0.15117397698367702),\n",
       " ('Künstler', 0.12729340868694483),\n",
       " ('Museen', 0.096764694393125045),\n",
       " ('Kirche', 0.093155938441759248),\n",
       " ('digitalen', 0.084813307839137778),\n",
       " ('kulturellen', 0.080118824389458568),\n",
       " ('Freiheit', 0.074491567587995661),\n",
       " ('Euch', 0.070873320965894951),\n",
       " ('kulturelle', 0.070373627229765479)]"
      ]
     },
     "execution_count": 10,
     "metadata": {},
     "output_type": "execute_result"
    }
   ],
   "source": [
    "keywords(corpus, doc_tf_idf)[0:10]"
   ]
  },
  {
   "cell_type": "markdown",
   "metadata": {},
   "source": [
    "Um dies nun vergleihend für andere Redner durchzuführen, können die Schritte auch in einer Funktion zusammengefasst werden."
   ]
  },
  {
   "cell_type": "code",
   "execution_count": 11,
   "metadata": {
    "collapsed": true
   },
   "outputs": [],
   "source": [
    "def subcorpus_for_author(corpus, metadata, author):\n",
    "    has_author = data['title'].apply(lambda title: author in title)\n",
    "    corpus_author = corpus[has_author]\n",
    "    subcorpus = corpus_author.sum()\n",
    "    subcorpus = subcorpus.astype(int)\n",
    "    subcorpus = subcorpus[subcorpus > 0]\n",
    "    doc = list(subcorpus.items())\n",
    "    return doc"
   ]
  },
  {
   "cell_type": "code",
   "execution_count": 12,
   "metadata": {
    "collapsed": false
   },
   "outputs": [
    {
     "data": {
      "text/plain": [
       "[('Kultur', 0.1571502414512424),\n",
       " ('Film', 0.11341300996198402),\n",
       " ('Kunst', 0.11339975406015394),\n",
       " ('Ausstellung', 0.11042362116999693),\n",
       " ('Welle', 0.093718845440885129),\n",
       " ('Stiftung', 0.093369458934023306),\n",
       " ('Filme', 0.083104206622181695),\n",
       " ('Museen', 0.077426726136711962),\n",
       " ('Museum', 0.07524065855182438),\n",
       " ('Haus', 0.071941142286260154)]"
      ]
     },
     "execution_count": 12,
     "metadata": {},
     "output_type": "execute_result"
    }
   ],
   "source": [
    "doc = subcorpus_for_author(df, data, 'Neumann')\n",
    "doc_tf_idf = tf_idf[doc]\n",
    "keywords(corpus, doc_tf_idf)[0:10]"
   ]
  }
 ],
 "metadata": {
  "kernelspec": {
   "display_name": "Python 3",
   "language": "python",
   "name": "python3"
  },
  "language_info": {
   "codemirror_mode": {
    "name": "ipython",
    "version": 3
   },
   "file_extension": ".py",
   "mimetype": "text/x-python",
   "name": "python",
   "nbconvert_exporter": "python",
   "pygments_lexer": "ipython3",
   "version": "3.4.3"
  }
 },
 "nbformat": 4,
 "nbformat_minor": 0
}
