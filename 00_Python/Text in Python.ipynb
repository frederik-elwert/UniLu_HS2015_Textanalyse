{
 "cells": [
  {
   "cell_type": "markdown",
   "metadata": {},
   "source": [
    "# Text in Python\n",
    "\n",
    "Für die computergestützte Textanalyse sind Texte zunächst nur eine Aneinanderreihung von Buchstaben oder genauer: Zeichen. Diese Art von Text, die ohne Formatierung wie Schriftart, Schritgröße oder Fettungen auskommt, wird als “plain text” bezeichnet. Plain text erhält man etwa, wenn man ein Word-Dokument als TXT-Datei mit der Endung .txt speichert. Der entsprechende Datentyp in Python heißt `str`, von “string” (Zeichenkette).\n",
    "\n",
    "Texte werden in unterschiedlichen Kodierungen gespeichert, die festlegen, wie die einzelnen Zeichen (etwa „a“, „á“, aber auch „道“) für den Computer in 0 und 1 umgewandelt werden. Die zeitgemäße Kodierung ist UTF-8, die dem Unicode-Standard folgt. Textdateien sollten für die Arbeit in Python immer in dieser Kodierung gespeichert werden.\n",
    "\n",
    "Um in Python mit Texten arbeiten zu können, muss man sie erst einmal aus einer Datei laden und z.B. in einer Variable speichern. Dabei muss man die Datei nicht die ganze Zeit geöffnet lassen. Nachdem der Text in einer Variable gespeichert ist, kann (und sollte) man die Datei wieder schließen. Die Arbeitsschritte sind also:\n",
    "\n",
    "1. Datei öffnen,\n",
    "2. Inhalt einlesen,\n",
    "3. Datei schließen,\n",
    "4. Inhalt analysieren."
   ]
  },
  {
   "cell_type": "markdown",
   "metadata": {},
   "source": [
    "Ein Hinweis zu Dateipfaden: Wenn man in Python eine Datei öffnen will, muss man den Pfad der Datei angeben. Statt eines vollständigen Pfads wie \"`C:\\Users\\me\\Documents\\Text.txt`\" kann man auch einen Pfad relativ vom IPython Notebook angeben. Wenn die Datei im gleichen Verzeichnis liegt wie das Notebook, ist dies einfach der Dateiname, also z.B. \"`Text.txt`\". Wenn die Datei in einem Unterverzeichnis liegt, muss man dieses voranstellen, z.B. \"`Daten\\Text.txt`\". Ein *übergeordnetes* Verzeichnis erreicht man mit \"`..`\", also z.B. \"`..\\Daten\\Text.txt`\".\n",
    "\n",
    "Da sich die Pfadtrenner zwischen MacOS X und Linux (\"`/`\") und Windows (\"`\\`\") unterscheiden, lassen sie sich nicht ohne weiteres übernehmen. Python hat daher die Funktion `path.join()`, die je nach Betriebssystem den richtigen Trenner verwendet:"
   ]
  },
  {
   "cell_type": "code",
   "execution_count": 1,
   "metadata": {
    "collapsed": false
   },
   "outputs": [],
   "source": [
    "from os import path\n",
    "filepath = path.join('..', 'Daten', 'Rede_Jugend_forscht.txt')\n",
    "# MacOS, Linux: '../Daten/Rede_Jugend_forscht.txt'\n",
    "# Windows: '..\\\\Daten\\\\Rede_Jugend_forscht.txt'"
   ]
  },
  {
   "cell_type": "code",
   "execution_count": 2,
   "metadata": {
    "collapsed": true
   },
   "outputs": [],
   "source": [
    "textfile = open(filepath)\n",
    "text = textfile.read()\n",
    "textfile.close()"
   ]
  },
  {
   "cell_type": "markdown",
   "metadata": {},
   "source": [
    "In Python gibt es auch einen Mechanismus, bei dem eine Datei nur so lange geöffnet bleibt, wie sie gebraucht wird. Anschließend wird sie automatisch wieder geschlossen:"
   ]
  },
  {
   "cell_type": "code",
   "execution_count": 3,
   "metadata": {
    "collapsed": true
   },
   "outputs": [],
   "source": [
    "with open(filepath) as textfile:\n",
    "    text = textfile.read()"
   ]
  },
  {
   "cell_type": "markdown",
   "metadata": {},
   "source": [
    "Nun ist der gesamte Text als sehr lange Zeichenkette in einer Variable gespeichert:"
   ]
  },
  {
   "cell_type": "code",
   "execution_count": 4,
   "metadata": {
    "collapsed": false
   },
   "outputs": [
    {
     "data": {
      "text/plain": [
       "7244"
      ]
     },
     "execution_count": 4,
     "metadata": {},
     "output_type": "execute_result"
    }
   ],
   "source": [
    "len(text)"
   ]
  },
  {
   "cell_type": "markdown",
   "metadata": {},
   "source": [
    "Man kann sich zur Kontrolle den Anfang des Textes ausgeben lassen:"
   ]
  },
  {
   "cell_type": "code",
   "execution_count": 5,
   "metadata": {
    "collapsed": false
   },
   "outputs": [
    {
     "data": {
      "text/plain": [
       "'Lieber Herr Kock,\\nliebe Kollegin, Frau Wanka,\\nmeine Damen und Herren,\\naber besonders: liebe Preisträgerinnen und Preisträger von „Jugend forscht“,\\n\\nich heiße Sie alle ganz herzlich im Bundeskanzleramt'"
      ]
     },
     "execution_count": 5,
     "metadata": {},
     "output_type": "execute_result"
    }
   ],
   "source": [
    "sample = text[0:200]\n",
    "sample"
   ]
  },
  {
   "cell_type": "markdown",
   "metadata": {},
   "source": [
    "In dieser unleserlichen Ansicht steht die Zeichenfolge `\\n` für einen Zeilenumbruch. Ein Zeilenumbruch ist für Python auch nur ein Zeichen. Da es aber nicht ohne weiteres dargestellt werden kann, wird es hier durch ein solches Spezialkommando symbolisiert.\n",
    "\n",
    "Eine leserliche Ansicht erhält man mit dem `print()`-Befehl:"
   ]
  },
  {
   "cell_type": "code",
   "execution_count": 6,
   "metadata": {
    "collapsed": false
   },
   "outputs": [
    {
     "name": "stdout",
     "output_type": "stream",
     "text": [
      "Lieber Herr Kock,\n",
      "liebe Kollegin, Frau Wanka,\n",
      "meine Damen und Herren,\n",
      "aber besonders: liebe Preisträgerinnen und Preisträger von „Jugend forscht“,\n",
      "\n",
      "ich heiße Sie alle ganz herzlich im Bundeskanzleramt\n"
     ]
    }
   ],
   "source": [
    "print(sample)"
   ]
  },
  {
   "cell_type": "markdown",
   "metadata": {},
   "source": [
    "Für die Analyse sind in der Regel nicht Text als Ganzes relevant, sondern kleinere Einheiten wie z.B. Zeilen oder Wörter. Dabei hängt es von der Fragestellung ab, welche Einheit betrachtet werden soll. Zur Veranschaulichung betrachten wir den Text zeilenweise:"
   ]
  },
  {
   "cell_type": "code",
   "execution_count": 7,
   "metadata": {
    "collapsed": false
   },
   "outputs": [
    {
     "data": {
      "text/plain": [
       "['Lieber Herr Kock,',\n",
       " 'liebe Kollegin, Frau Wanka,',\n",
       " 'meine Damen und Herren,',\n",
       " 'aber besonders: liebe Preisträgerinnen und Preisträger von „Jugend forscht“,',\n",
       " '',\n",
       " 'ich heiße Sie alle ganz herzlich im Bundeskanzleramt']"
      ]
     },
     "execution_count": 7,
     "metadata": {},
     "output_type": "execute_result"
    }
   ],
   "source": [
    "sample.splitlines()"
   ]
  },
  {
   "cell_type": "markdown",
   "metadata": {},
   "source": [
    "Der Text ist nun in eine Liste aus kürzeren Zeichenketten zerlegt, eine leere Zeichenkette steht dabei für eine Leerzeile bzw. einen Absatz.\n",
    "\n",
    "Für die Analyse kann es sinnvoll sein, die Anrede auszuschließen. Näherungsweise kann man in diesem Beispiel die Anrede an besonders kurzen Zeilen erkennen. Über einen Filter kann man diese Zeilen herausfinden:"
   ]
  },
  {
   "cell_type": "code",
   "execution_count": 8,
   "metadata": {
    "collapsed": false
   },
   "outputs": [
    {
     "data": {
      "text/plain": [
       "['Lieber Herr Kock,',\n",
       " 'liebe Kollegin, Frau Wanka,',\n",
       " 'meine Damen und Herren,',\n",
       " 'aber besonders: liebe Preisträgerinnen und Preisträger von „Jugend forscht“,',\n",
       " '',\n",
       " '',\n",
       " '',\n",
       " '',\n",
       " '',\n",
       " '',\n",
       " '',\n",
       " '',\n",
       " '',\n",
       " '',\n",
       " '']"
      ]
     },
     "execution_count": 8,
     "metadata": {},
     "output_type": "execute_result"
    }
   ],
   "source": [
    "lines = text.splitlines()\n",
    "[line for line in lines if len(line) < 80]"
   ]
  },
  {
   "cell_type": "markdown",
   "metadata": {},
   "source": [
    "Der bereinigte Text sollte dementsprechend nur die längeren Zeilen enthalten:"
   ]
  },
  {
   "cell_type": "code",
   "execution_count": 9,
   "metadata": {
    "collapsed": false
   },
   "outputs": [
    {
     "data": {
      "text/plain": [
       "'ich heiße Sie alle ganz herzlich im Bundeskanzleramt willkommen. Dieses Jahr ist ein ganz besonderes Jahr: natürlich zum einen, weil Sie alle einen Preis gewonnen haben – das dürfte in Ihrem Leben durchaus eine gute Rolle gespielt haben –; zum anderen, weil der Bundeswettbewerb bereits zum 50. Mal stattgefunden hat. Das ist ja doch eine gewaltige Zahl. Wenn Sie diese einmal mit Ihren eigenen Lebensjahren vergleichen, dann sehen Sie, dass schon einige Generationen vor Ihnen an diesem Wettbewerb teilgenommen haben. Beides – sowohl Ihr Erfolg als auch die Tatsache, dass „Jugend forscht“ schon 50 Jahre lang besteht – liefert gute Gründe, um einfach einmal zu gratulieren.'"
      ]
     },
     "execution_count": 9,
     "metadata": {},
     "output_type": "execute_result"
    }
   ],
   "source": [
    "cleaned_text = [line for line in lines if len(line) >= 80]\n",
    "cleaned_text[0]"
   ]
  },
  {
   "cell_type": "markdown",
   "metadata": {},
   "source": [
    "In der Regel ist die interessierende Analyseeinheit das Wort. Näherungsweise kann man den Text in Wörter zerlegen, indem man ihn an den Leerzeichen trennt:"
   ]
  },
  {
   "cell_type": "code",
   "execution_count": 10,
   "metadata": {
    "collapsed": false
   },
   "outputs": [
    {
     "data": {
      "text/plain": [
       "['Lieber',\n",
       " 'Herr',\n",
       " 'Kock,',\n",
       " 'liebe',\n",
       " 'Kollegin,',\n",
       " 'Frau',\n",
       " 'Wanka,',\n",
       " 'meine',\n",
       " 'Damen',\n",
       " 'und',\n",
       " 'Herren,',\n",
       " 'aber',\n",
       " 'besonders:',\n",
       " 'liebe',\n",
       " 'Preisträgerinnen',\n",
       " 'und',\n",
       " 'Preisträger',\n",
       " 'von',\n",
       " '„Jugend',\n",
       " 'forscht“,']"
      ]
     },
     "execution_count": 10,
     "metadata": {},
     "output_type": "execute_result"
    }
   ],
   "source": [
    "words = sample.split()\n",
    "words[0:20]"
   ]
  },
  {
   "cell_type": "markdown",
   "metadata": {},
   "source": [
    "Das Ergebnis zeigt, dass Satzzeichen hier nicht berücksichtigt werden und weiter am Wort „kleben“. Die folgenden Einheiten zeigen daher bessere Wege, Texte in Wörter zu zerlegen."
   ]
  }
 ],
 "metadata": {
  "kernelspec": {
   "display_name": "Python 3",
   "language": "python",
   "name": "python3"
  },
  "language_info": {
   "codemirror_mode": {
    "name": "ipython",
    "version": 3
   },
   "file_extension": ".py",
   "mimetype": "text/x-python",
   "name": "python",
   "nbconvert_exporter": "python",
   "pygments_lexer": "ipython3",
   "version": "3.4.3"
  }
 },
 "nbformat": 4,
 "nbformat_minor": 0
}
