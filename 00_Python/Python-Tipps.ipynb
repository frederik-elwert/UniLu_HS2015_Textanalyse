{
 "cells": [
  {
   "cell_type": "markdown",
   "metadata": {},
   "source": [
    "# Python-Tipps"
   ]
  },
  {
   "cell_type": "markdown",
   "metadata": {},
   "source": [
    "Eine detaillierte Einführung in Python kann hier nicht gegeben werden. In Ergänzung zu den üblichen Konstrukten wie Bedingungen (`if`), Schleifen (`for`) und Datenstrukturen wie Listen und Dictionaries gibt es aber ein paar Kniffe, die in diesem Kontext vieles erleichtern. Sie sind an dieser Stelle für ein besseres Verständnis noch einmal zusammengetragen."
   ]
  },
  {
   "cell_type": "markdown",
   "metadata": {},
   "source": [
    "## List Comprehension"
   ]
  },
  {
   "cell_type": "markdown",
   "metadata": {},
   "source": [
    "Daten müssen für die Analyse häufig aufbereitet werden. Zwei typische Aufbereitungsprozeduren sind Filtern und Abbilden. Beim Filtern werden nur Elemente beibehalten, die ein bestimmtes Kriterium erfüllen, beim Abbilden wird jedes Element einer Liste über eine Funktion in ein neues Element transformiert.\n",
    "\n",
    "Python stellt eine besondere Syntax bereit, die für beide Zwecke verwendet werden kann."
   ]
  },
  {
   "cell_type": "code",
   "execution_count": 1,
   "metadata": {
    "collapsed": false
   },
   "outputs": [],
   "source": [
    "l = ['a', 'bbb', 'c', 'ddd']"
   ]
  },
  {
   "cell_type": "code",
   "execution_count": 2,
   "metadata": {
    "collapsed": false
   },
   "outputs": [
    {
     "data": {
      "text/plain": [
       "['A', 'BBB', 'C', 'DDD']"
      ]
     },
     "execution_count": 2,
     "metadata": {},
     "output_type": "execute_result"
    }
   ],
   "source": [
    "# Transformation\n",
    "[s.upper() for s in l]"
   ]
  },
  {
   "cell_type": "code",
   "execution_count": 3,
   "metadata": {
    "collapsed": false
   },
   "outputs": [
    {
     "data": {
      "text/plain": [
       "['bbb', 'ddd']"
      ]
     },
     "execution_count": 3,
     "metadata": {},
     "output_type": "execute_result"
    }
   ],
   "source": [
    "# Filtern\n",
    "[s for s in l if len(s) > 1]"
   ]
  },
  {
   "cell_type": "code",
   "execution_count": 4,
   "metadata": {
    "collapsed": false
   },
   "outputs": [
    {
     "data": {
      "text/plain": [
       "['BBB', 'DDD']"
      ]
     },
     "execution_count": 4,
     "metadata": {},
     "output_type": "execute_result"
    }
   ],
   "source": [
    "# Beides auf einmal\n",
    "[s.upper() for s in l if len(s) > 1]"
   ]
  },
  {
   "cell_type": "code",
   "execution_count": 5,
   "metadata": {
    "collapsed": false
   },
   "outputs": [
    {
     "data": {
      "text/plain": [
       "{'a': 'A', 'bbb': 'BBB', 'c': 'C', 'ddd': 'DDD'}"
      ]
     },
     "execution_count": 5,
     "metadata": {},
     "output_type": "execute_result"
    }
   ],
   "source": [
    "# Und sogar für dictionaries\n",
    "{s: s.upper() for s in l}"
   ]
  },
  {
   "cell_type": "markdown",
   "metadata": {},
   "source": [
    "## String-Formatierung"
   ]
  },
  {
   "cell_type": "markdown",
   "metadata": {},
   "source": [
    "Oftmals sollen Daten auf bestimmte Weise für die Ausgabe formatiert werden. Dazu ist eine übliche Technik, eine Art Vorlage-Zeichenkette mit Platzhaltern zu erstellen, für die dann bestimmte Werte eingesetzt werden.\n",
    "\n",
    "Dazu gibt es in Python (mindestens) zwei Möglichkeiten. Älter, aber immer noch häufig gelehrt, ist diese Form:"
   ]
  },
  {
   "cell_type": "code",
   "execution_count": 6,
   "metadata": {
    "collapsed": false
   },
   "outputs": [
    {
     "data": {
      "text/plain": [
       "u'Bananen kosten 3.20 Mark.'"
      ]
     },
     "execution_count": 6,
     "metadata": {},
     "output_type": "execute_result"
    }
   ],
   "source": [
    "u'%s kosten %.2f Mark.' % ('Bananen', 3.2)"
   ]
  },
  {
   "cell_type": "markdown",
   "metadata": {},
   "source": [
    "Neuer ist diese Variante, die hier durchgehend verwendet wird:"
   ]
  },
  {
   "cell_type": "code",
   "execution_count": 7,
   "metadata": {
    "collapsed": false
   },
   "outputs": [
    {
     "data": {
      "text/plain": [
       "u'Mangos kosten 4.90 Euro.'"
      ]
     },
     "execution_count": 7,
     "metadata": {},
     "output_type": "execute_result"
    }
   ],
   "source": [
    "u'{} kosten {:.2f} Euro.'.format('Mangos', 4.9)"
   ]
  },
  {
   "cell_type": "markdown",
   "metadata": {},
   "source": [
    "## Generatoren"
   ]
  },
  {
   "cell_type": "markdown",
   "metadata": {},
   "source": [
    "### Listen und Generatoren"
   ]
  },
  {
   "cell_type": "markdown",
   "metadata": {},
   "source": [
    "Häufig sind Daten als Reihe von Werten strukturiert. Eine typische Form einer solchen Reihe ist eine Liste. Listen erlauben zwei Zugriffsformen: Das Iterieren (alle Werte nacheinander aufrufen) mit `for x in y` und den direkten Zugriff auf ein bestimmtes Element mit `y[i]`."
   ]
  },
  {
   "cell_type": "code",
   "execution_count": 8,
   "metadata": {
    "collapsed": false
   },
   "outputs": [
    {
     "data": {
      "text/plain": [
       "[0, 1, 2]"
      ]
     },
     "execution_count": 8,
     "metadata": {},
     "output_type": "execute_result"
    }
   ],
   "source": [
    "r = range(3)\n",
    "r"
   ]
  },
  {
   "cell_type": "code",
   "execution_count": 9,
   "metadata": {
    "collapsed": false
   },
   "outputs": [
    {
     "name": "stdout",
     "output_type": "stream",
     "text": [
      "0\n",
      "1\n",
      "2\n"
     ]
    }
   ],
   "source": [
    "for i in r:\n",
    "    print i"
   ]
  },
  {
   "cell_type": "code",
   "execution_count": 10,
   "metadata": {
    "collapsed": false
   },
   "outputs": [
    {
     "data": {
      "text/plain": [
       "1"
      ]
     },
     "execution_count": 10,
     "metadata": {},
     "output_type": "execute_result"
    }
   ],
   "source": [
    "r[1]"
   ]
  },
  {
   "cell_type": "markdown",
   "metadata": {},
   "source": [
    "Dafür muss aber die ganze Liste vorgehalten werden. Bei sehr großen Datenstrukturen oder bei rechenintensiven Prozeduren kann es sinnvoll sein, die Elemente erst nacheinander zu erzeugen. Das setzt etwa networkx um bei der Berechnung von Teilgraphen zusammenhängender Netzwerk-Komponenten, oder gensim in seinem TextCorpus-Format. Diese »Generatoren« erlauben zwar das Iterieren, nicht aber den direkten Elementzugriff (weil gar nicht bekannt ist, welches Element an einer bestimmten Stelle sitzt).\n",
    "\n",
    "Generatoren sind einfache Funktionen und man kann sie leicht selbst erstellen. Dazu erstellt man nicht eine Liste, die man dann mit `return` zurückgibt, sondern man gibt die Elemente nacheinander mit `yield` aus."
   ]
  },
  {
   "cell_type": "code",
   "execution_count": 11,
   "metadata": {
    "collapsed": false
   },
   "outputs": [
    {
     "data": {
      "text/plain": [
       "<generator object grange at 0x7fce440c2780>"
      ]
     },
     "execution_count": 11,
     "metadata": {},
     "output_type": "execute_result"
    }
   ],
   "source": [
    "def grange(x):\n",
    "    for i in range(x):\n",
    "        yield i\n",
    "\n",
    "r = grange(3)\n",
    "r"
   ]
  },
  {
   "cell_type": "code",
   "execution_count": 12,
   "metadata": {
    "collapsed": false
   },
   "outputs": [
    {
     "name": "stdout",
     "output_type": "stream",
     "text": [
      "0\n",
      "1\n",
      "2\n"
     ]
    }
   ],
   "source": [
    "for i in r:\n",
    "    print i"
   ]
  },
  {
   "cell_type": "code",
   "execution_count": 13,
   "metadata": {
    "collapsed": false
   },
   "outputs": [
    {
     "ename": "TypeError",
     "evalue": "'generator' object has no attribute '__getitem__'",
     "output_type": "error",
     "traceback": [
      "\u001b[1;31m---------------------------------------------------------------------------\u001b[0m\n\u001b[1;31mTypeError\u001b[0m                                 Traceback (most recent call last)",
      "\u001b[1;32m<ipython-input-13-4940bfffd272>\u001b[0m in \u001b[0;36m<module>\u001b[1;34m()\u001b[0m\n\u001b[1;32m----> 1\u001b[1;33m \u001b[0mr\u001b[0m\u001b[1;33m[\u001b[0m\u001b[1;36m1\u001b[0m\u001b[1;33m]\u001b[0m\u001b[1;33m\u001b[0m\u001b[0m\n\u001b[0m",
      "\u001b[1;31mTypeError\u001b[0m: 'generator' object has no attribute '__getitem__'"
     ]
    }
   ],
   "source": [
    "r[1]"
   ]
  },
  {
   "cell_type": "markdown",
   "metadata": {},
   "source": [
    "Manchmal ist nur das erste Element eines Generators relevant, etwa wenn man das Teil-Netzwerk für die größte Komponente in einem Netzwerk erhalten will, aber nicht an den darauf folgenden, kleineren Komponenten interessiert ist. Hier hift ein Kniff, bei dem man eine Schleife direkt nach dem ersten Durchgang abbricht:"
   ]
  },
  {
   "cell_type": "code",
   "execution_count": 14,
   "metadata": {
    "collapsed": false
   },
   "outputs": [
    {
     "data": {
      "text/plain": [
       "0"
      ]
     },
     "execution_count": 14,
     "metadata": {},
     "output_type": "execute_result"
    }
   ],
   "source": [
    "r = grange(3)\n",
    "for i in r:\n",
    "    break\n",
    "i"
   ]
  },
  {
   "cell_type": "markdown",
   "metadata": {},
   "source": [
    "## Lambda-Ausdrücke"
   ]
  },
  {
   "cell_type": "markdown",
   "metadata": {},
   "source": [
    "Gelegentlich muss man einer Funktion eine Funktion übergeben. Die Funktion `sorted()` hat z.B. einen optionalen Parameter `key`. Hier kann man eine Funktion übergeben, die auf jedes Element angewandt wird, um die Sortierreihenfolge zu bestimmen. Normaler Weise werden etwa Großbuchstaben vor Kleinbuchstaben einsortiert:"
   ]
  },
  {
   "cell_type": "code",
   "execution_count": 15,
   "metadata": {
    "collapsed": false
   },
   "outputs": [
    {
     "data": {
      "text/plain": [
       "['Ac', 'ab']"
      ]
     },
     "execution_count": 15,
     "metadata": {},
     "output_type": "execute_result"
    }
   ],
   "source": [
    "l = ['ab', 'Ac']\n",
    "sorted(l)"
   ]
  },
  {
   "cell_type": "markdown",
   "metadata": {},
   "source": [
    "Gelegentlich will man aber beim Sortieren die Groß- und Kleinschreibung ignorieren. Dann kann man die Funktion `str.lower` übergeben, damit die Werte für die Sortierung als Kleinbuchstaben behandelt werden."
   ]
  },
  {
   "cell_type": "code",
   "execution_count": 16,
   "metadata": {
    "collapsed": false
   },
   "outputs": [
    {
     "data": {
      "text/plain": [
       "['ab', 'Ac']"
      ]
     },
     "execution_count": 16,
     "metadata": {},
     "output_type": "execute_result"
    }
   ],
   "source": [
    "sorted(l, key=str.lower)"
   ]
  },
  {
   "cell_type": "markdown",
   "metadata": {},
   "source": [
    "Komplexere Fälle erfordern komplexere Lösungen. So werden Tupel standardmäßig nach ihrem ersten Element sortiert:"
   ]
  },
  {
   "cell_type": "code",
   "execution_count": 17,
   "metadata": {
    "collapsed": false
   },
   "outputs": [
    {
     "data": {
      "text/plain": [
       "[('a', 3), ('b', 1), ('c', 2)]"
      ]
     },
     "execution_count": 17,
     "metadata": {},
     "output_type": "execute_result"
    }
   ],
   "source": [
    "l = [('c', 2), ('a', 3), ('b', 1)]\n",
    "sorted(l)"
   ]
  },
  {
   "cell_type": "markdown",
   "metadata": {},
   "source": [
    "Um nach dem zweiten zu sortieren, wäre eine Funktion erforderlich, die für jedes Tupel das zweite Element zurückgibt."
   ]
  },
  {
   "cell_type": "code",
   "execution_count": 18,
   "metadata": {
    "collapsed": false
   },
   "outputs": [
    {
     "data": {
      "text/plain": [
       "[('b', 1), ('c', 2), ('a', 3)]"
      ]
     },
     "execution_count": 18,
     "metadata": {},
     "output_type": "execute_result"
    }
   ],
   "source": [
    "def sort_by_second(x):\n",
    "    return x[1]\n",
    "\n",
    "sorted(l, key=sort_by_second)"
   ]
  },
  {
   "cell_type": "markdown",
   "metadata": {},
   "source": [
    "Es ist aber sehr umständlich, in diesen Fällen jedes Mal eine Funktion zu definieren, die man ggf. nur einmal benötigt. Für sehr einfache Funktionen, die nur aus einem einzelnen Ausdruck bestehen, gibt es daher in Python die Möglichkeit, mit `lambda` adhoc eine lokale Funktion zu definieren."
   ]
  },
  {
   "cell_type": "code",
   "execution_count": 19,
   "metadata": {
    "collapsed": false
   },
   "outputs": [
    {
     "data": {
      "text/plain": [
       "[('b', 1), ('c', 2), ('a', 3)]"
      ]
     },
     "execution_count": 19,
     "metadata": {},
     "output_type": "execute_result"
    }
   ],
   "source": [
    "sorted(l, key=lambda x: x[1])"
   ]
  },
  {
   "cell_type": "markdown",
   "metadata": {},
   "source": [
    "## Formatierung in IPython Notebooks"
   ]
  },
  {
   "cell_type": "markdown",
   "metadata": {},
   "source": [
    "Manchmal sollen Werte nicht nur als reiner Text ausgegeben werden, sondern mit ein wenig Formatierung. In IPython Notebooks kann man dies über HTML erreichen:"
   ]
  },
  {
   "cell_type": "code",
   "execution_count": 20,
   "metadata": {
    "collapsed": false
   },
   "outputs": [
    {
     "data": {
      "text/html": [
       "<ul><li>0</li><li>1</li><li>2</li></ul>"
      ],
      "text/plain": [
       "<IPython.core.display.HTML at 0x7fce44049950>"
      ]
     },
     "execution_count": 20,
     "metadata": {},
     "output_type": "execute_result"
    }
   ],
   "source": [
    "from IPython.core.display import HTML\n",
    "\n",
    "result = '<ul>'\n",
    "for i in range(3):\n",
    "    result += '<li>{}</li>'.format(i)\n",
    "result += '</ul>'\n",
    "\n",
    "HTML(result)"
   ]
  },
  {
   "cell_type": "markdown",
   "metadata": {},
   "source": [
    "Leider ist HTML relativ umständlich. Eine Alternative dazu ist Markdown. Diese simple Formatierungssprache lässt sich leichter erzeugen. IPython Notebooks nutzt das Format z.B. in seinen Textfeldern. Es gibt zwar keine vordefinierte Funktion für die Ausgabe von Markdown, aber eine solche lässt sich sehr leicht erstellen:"
   ]
  },
  {
   "cell_type": "code",
   "execution_count": 21,
   "metadata": {
    "collapsed": false
   },
   "outputs": [
    {
     "name": "stderr",
     "output_type": "stream",
     "text": [
      "/home/frederik/Dropbox/Dokumente/Lehrveranstaltungen/LA_Luzern/Python/pyenv/local/lib/python2.7/site-packages/IPython/nbconvert/filters/markdown.py:78: UserWarning: Node.js 0.9.12 or later wasn't found.\n",
      "Nbconvert will try to use Pandoc instead.\n",
      "  \"Nbconvert will try to use Pandoc instead.\")\n"
     ]
    },
    {
     "data": {
      "text/html": [
       "<ul>\n",
       "<li>0</li>\n",
       "<li>1</li>\n",
       "<li>2</li>\n",
       "</ul>"
      ],
      "text/plain": [
       "u'* 0\\n* 1\\n* 2\\n'"
      ]
     },
     "execution_count": 21,
     "metadata": {},
     "output_type": "execute_result"
    }
   ],
   "source": [
    "from IPython.nbconvert.filters import markdown2html\n",
    "\n",
    "class MD(unicode):\n",
    "    def _repr_html_(self):\n",
    "        return markdown2html(self)\n",
    "\n",
    "result = ''\n",
    "for i in range(3):\n",
    "    result += '* {}\\n'.format(i)\n",
    "\n",
    "MD(result)"
   ]
  }
 ],
 "metadata": {
  "kernelspec": {
   "display_name": "Python 3",
   "language": "python",
   "name": "python3"
  },
  "language_info": {
   "codemirror_mode": {
    "name": "ipython",
    "version": 3
   },
   "file_extension": ".py",
   "mimetype": "text/x-python",
   "name": "python",
   "nbconvert_exporter": "python",
   "pygments_lexer": "ipython3",
   "version": "3.4.3"
  }
 },
 "nbformat": 4,
 "nbformat_minor": 0
}
