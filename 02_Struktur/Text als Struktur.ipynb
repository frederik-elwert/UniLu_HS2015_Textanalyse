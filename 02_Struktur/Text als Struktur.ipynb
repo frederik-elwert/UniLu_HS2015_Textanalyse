{
 "cells": [
  {
   "cell_type": "markdown",
   "metadata": {},
   "source": [
    "# Text als Struktur"
   ]
  },
  {
   "cell_type": "markdown",
   "metadata": {},
   "source": [
    "Bisher haben wir Texte als reine Abfolge von Zeichen betrachtet, also gewissermaßen in Bezug auf ihren Kerngehalt. Einige strukturierte Informationen lassen sich etwa über reguläre Ausdrücke extrahieren, indem man sich Regelmäßigkeiten in den Texten zu Nutze macht. Texte, die in der Praxis etwa im Internet vorliegen, bieten aber weitere Informationen über ihre Struktur, wie etwa Abschnitte oder Überschriften. Diese Strukturinformationen kann man sich ebenfalls zu Nutze machen, um relevante Informationen zu identifizieren."
   ]
  },
  {
   "cell_type": "markdown",
   "metadata": {},
   "source": [
    "## Mehr als Text"
   ]
  },
  {
   "cell_type": "markdown",
   "metadata": {},
   "source": [
    "Um Texten zusätzliche Informationen wie etwa Textformatierungen oder Textstruktur hinzuzufügen, muss man den Text um Zusatzinformationen anreichern. Das ist die Aufgabe von Textformaten wie z.B. *doc*, *odt* oder *html*. [HTML](http://de.wikipedia.org/wiki/Hypertext_Markup_Language) ist dabei die »Sprache des Internet« und vergleichsweise einfach aufgebaut.\n",
    "\n",
    "Das Grundprinzip ist es, den Text mit Markierungen oder Auszeichnungen (englisch: Markup) zu versehen, die dann in eine bestimmte Formatierung umgewandelt werden. Das IPython Notebook verfügt über eine entsprechende Funktion, um mit HTML-Markierungen versehenen Text formatiert anzuzeigen:"
   ]
  },
  {
   "cell_type": "code",
   "execution_count": 3,
   "metadata": {
    "collapsed": false
   },
   "outputs": [
    {
     "data": {
      "text/html": [
       "Meinst du <b>diese</b> Tür?"
      ],
      "text/plain": [
       "<IPython.core.display.HTML at 0x7f25394c3c50>"
      ]
     },
     "execution_count": 3,
     "metadata": {},
     "output_type": "execute_result"
    }
   ],
   "source": [
    "from IPython.core.display import HTML\n",
    "HTML('Meinst du <b>diese</b> Zeichen?')"
   ]
  },
  {
   "cell_type": "markdown",
   "metadata": {},
   "source": [
    "Ein solcher Text hat also zwei Darstellungsformen: Einmal als einfacher Text (*plain text*), in dem das Markup sichtbar ist, und einmal als formatierte Ausgabeversion.\n",
    "Viele Daten liegen im Internet als HTML-Dateien vor. Diese sind für die Sozialwissenschaften häufig relevantes Analysematerial. Dabei müssen in vielen Fällen zunächst die relevanten Daten aus Internetseiten extrahiert werden. So beschreibt die Wikipedia das sogenannte [Screen Scraping](http://de.wikipedia.org/wiki/Screen_Scraping#Funktionsweise):\n",
    "\n",
    "> Screen Scraping besteht im Wesentlichen aus zwei Schritten:\n",
    ">\n",
    "> * Abrufen von Webseiten\n",
    "> * Extraktion der relevanten Daten\n"
   ]
  },
  {
   "cell_type": "markdown",
   "metadata": {},
   "source": [
    "Wenn man sich die Gesamtstruktur dieser HTML-Dokumente ansieht, kann diese als verzweigte Baumstruktur beschrieben werden:"
   ]
  },
  {
   "cell_type": "code",
   "execution_count": 1,
   "metadata": {
    "collapsed": false
   },
   "outputs": [],
   "source": [
    "from lxml import html\n",
    "doc = html.fromstring('''\n",
    "<html>\n",
    "  <head>\n",
    "    <title>Alles &#252;ber Tiere</title>\n",
    "  </head>\n",
    "  <body>\n",
    "    <div id=\"content\">\n",
    "      <h1>Welches Tier passt zu mir?</h1>\n",
    "      <p class=\"teaser\">Das k&#246;nnen Sie auf <b>dieser Seite</b> herausfinden.</p>\n",
    "      <p>Machen Sie unseren <a href=\"test.html\">Test!</a></p>\n",
    "    </div>\n",
    "    <div id=\"nav\">\n",
    "      <ul>\n",
    "        <li><a href=\"katzen.html\">Katzen</a></li>\n",
    "        <li><a href=\"hunde.html\">Hunde</a></li>\n",
    "      </ul\n",
    "    </div>\n",
    "  </body>\n",
    "</html>\n",
    "''')"
   ]
  },
  {
   "cell_type": "markdown",
   "metadata": {},
   "source": [
    "Dieses Dokument besteht aus ineinander geschachtelten Markup-Anweisungen. Diese Struktur lässt sich sichtbar machen, wenn man den Text ignoriert und nur die Strukturinformation anzeigt:"
   ]
  },
  {
   "cell_type": "code",
   "execution_count": 5,
   "metadata": {
    "collapsed": false
   },
   "outputs": [
    {
     "name": "stdout",
     "output_type": "stream",
     "text": [
      "- html\n",
      "  - head\n",
      "    - title\n",
      "  - body\n",
      "    - div\n",
      "      - h1\n",
      "      - p\n",
      "        - b\n",
      "      - p\n",
      "        - a\n",
      "    - div\n",
      "      - ul\n",
      "        - li\n",
      "          - a\n",
      "        - li\n",
      "          - a\n"
     ]
    }
   ],
   "source": [
    "for element in doc.iter():\n",
    "    indent = len(list(element.iterancestors()))\n",
    "    print '{space}- {tag}'.format(space=u'  ' * indent,\n",
    "                                  tag=element.tag)"
   ]
  },
  {
   "cell_type": "markdown",
   "metadata": {},
   "source": [
    "Zumeist sind für eine Analyse nicht alle Informationen relevant, oder Teile Daten sollen voneinander unterschieden werden. In diesem Beispiel wäre es etwa sinnvoll, das Navigationsmenü und ähnliches Beiwerk zu ignorieren, und im Text die Überschrift vom Inhalt zu trennen. Aus der Baumstruktur lassen sich solche Informationen gezielt extrahieren. Dazu gibt es zwei Methoden: XPath und CSS."
   ]
  },
  {
   "cell_type": "markdown",
   "metadata": {},
   "source": [
    "### XPath"
   ]
  },
  {
   "cell_type": "markdown",
   "metadata": {},
   "source": [
    "Die Ordnerstruktur einer Festplatte oder die Navigation einer Website lässt sich auch als Baum beschreiben, wie etwa im [Inhaltsverzeichnis](https://www.unilu.ch/inhaltsverzeichnis/) der Uni Luzern. Ein bestimmtes Element in diesem Baum lässt sich über einen Pfad beschreiben:\n",
    "\n",
    "![Website des Soziologischen Seminars](Bilder/UniLU.png)\n",
    "\n",
    "Ähnlich funktioniert dies auch mit dem HTML-Dokument. Dabei können aber an einer Adresse mehrere Elemente sitzen, eine Adresse gibt daher immer eine Liste von passenden Elementen zurück:"
   ]
  },
  {
   "cell_type": "code",
   "execution_count": 6,
   "metadata": {
    "collapsed": false
   },
   "outputs": [
    {
     "data": {
      "text/plain": [
       "[<Element p at 0x7f2538202db8>, <Element p at 0x7f2538202f18>]"
      ]
     },
     "execution_count": 6,
     "metadata": {},
     "output_type": "execute_result"
    }
   ],
   "source": [
    "doc.xpath('/html/body/div/p')"
   ]
  },
  {
   "cell_type": "markdown",
   "metadata": {},
   "source": [
    "Dabei ist ein »Element« in diesem Sinne ein Objekt, das auch Meta-Informationen wie Attribute enthält. Diese lassen sich auslesen:"
   ]
  },
  {
   "cell_type": "code",
   "execution_count": 2,
   "metadata": {
    "collapsed": false
   },
   "outputs": [
    {
     "data": {
      "text/plain": [
       "'test.html'"
      ]
     },
     "execution_count": 2,
     "metadata": {},
     "output_type": "execute_result"
    }
   ],
   "source": [
    "links = doc.xpath('/html/body/div/p/a')\n",
    "first_link = links[0]\n",
    "first_link.get('href')"
   ]
  },
  {
   "cell_type": "markdown",
   "metadata": {},
   "source": [
    "Der Textinhalt eines Elements lässt sich über eine spezielle Adresse `text()` auslesen:"
   ]
  },
  {
   "cell_type": "code",
   "execution_count": 3,
   "metadata": {
    "collapsed": false
   },
   "outputs": [
    {
     "data": {
      "text/plain": [
       "['Welches Tier passt zu mir?']"
      ]
     },
     "execution_count": 3,
     "metadata": {},
     "output_type": "execute_result"
    }
   ],
   "source": [
    "doc.xpath('/html/body/div/h1/text()')"
   ]
  },
  {
   "cell_type": "code",
   "execution_count": 8,
   "metadata": {
    "collapsed": false
   },
   "outputs": [
    {
     "data": {
      "text/plain": [
       "[u'Das k\\xf6nnen Sie auf ', ' herausfinden.', 'Machen Sie unseren ']"
      ]
     },
     "execution_count": 8,
     "metadata": {},
     "output_type": "execute_result"
    }
   ],
   "source": [
    "# Aber:\n",
    "doc.xpath('/html/body/div/p/text()')"
   ]
  },
  {
   "cell_type": "markdown",
   "metadata": {},
   "source": [
    "Wenn das Element selbst wiederum Unterelemente enthält, ist das Ergebnis nicht unbedingt das erwartete: Die Textteile »dieser Seite« und »Test« gehören formal nicht zum Text des **p**-Elements, sondern zu den untergeordneten Elementen **b** und **a**.\n",
    "\n",
    "Um den gesamten Text eines Elements und seiner Unterelemente als zusammenhängende Zeichenkette zu erhalten, gibt es die Hilfsmethode `text_content()`."
   ]
  },
  {
   "cell_type": "code",
   "execution_count": 4,
   "metadata": {
    "collapsed": false
   },
   "outputs": [
    {
     "data": {
      "text/plain": [
       "['Das können Sie auf dieser Seite herausfinden.', 'Machen Sie unseren Test!']"
      ]
     },
     "execution_count": 4,
     "metadata": {},
     "output_type": "execute_result"
    }
   ],
   "source": [
    "[p.text_content() for p in doc.xpath('/html/body/div/p')]"
   ]
  },
  {
   "cell_type": "markdown",
   "metadata": {},
   "source": [
    "Dabei ist es nicht nur umständlich, jedes Mal den kompletten Pfad anzugeben, in vielen Fällen möchte man auch einen Typ von Element finden, ohne ihren genauen Ort in der Hierarchie zu kennen. Dazu gibt es die Kurznotation `//`, die für beliebige übergeordnete Elemente steht."
   ]
  },
  {
   "cell_type": "code",
   "execution_count": 10,
   "metadata": {
    "collapsed": false
   },
   "outputs": [
    {
     "data": {
      "text/plain": [
       "[<Element p at 0x7f2538202db8>, <Element p at 0x7f2538202f18>]"
      ]
     },
     "execution_count": 10,
     "metadata": {},
     "output_type": "execute_result"
    }
   ],
   "source": [
    "doc.xpath('//p')"
   ]
  },
  {
   "cell_type": "markdown",
   "metadata": {},
   "source": [
    "Reale Webseiten enthalten oft eine Menge zusätzlicher Elemente, die für die Textanalyse störend sind, wie z.B. Navigation, Anzeigen, Kopfzeilen und dekorative Elemente. Um gezielt die relevanten Passagen zu finden, muss man die Pfade oft mit zusätzlichen Filterbedingungen einschränken. Typische Kriterien können hier die HTML-Attribute *id* und *class* sein, die oft zur Strukturierung von Webseiten eingesetzt werden. Hier ist XPath sehr vielseitig. Den einleitenden Absatz, im Journalismus »Teaser« genannt, kann man etwa über die entsprechende Klassenangabe identifizieren:"
   ]
  },
  {
   "cell_type": "code",
   "execution_count": 11,
   "metadata": {
    "collapsed": false
   },
   "outputs": [
    {
     "data": {
      "text/plain": [
       "[<Element p at 0x7f2538202db8>]"
      ]
     },
     "execution_count": 11,
     "metadata": {},
     "output_type": "execute_result"
    }
   ],
   "source": [
    "doc.xpath('//p[@class=\"teaser\"]')"
   ]
  },
  {
   "cell_type": "markdown",
   "metadata": {},
   "source": [
    "Die Links des Navigationsbereichs findet man über die ID:"
   ]
  },
  {
   "cell_type": "code",
   "execution_count": 12,
   "metadata": {
    "collapsed": false
   },
   "outputs": [
    {
     "data": {
      "text/plain": [
       "[<Element a at 0x7f2538192418>, <Element a at 0x7f2538202e68>]"
      ]
     },
     "execution_count": 12,
     "metadata": {},
     "output_type": "execute_result"
    }
   ],
   "source": [
    "doc.xpath('//div[@id=\"nav\"]//a')"
   ]
  },
  {
   "cell_type": "markdown",
   "metadata": {},
   "source": [
    "### CSS"
   ]
  },
  {
   "cell_type": "markdown",
   "metadata": {},
   "source": [
    "Die Syntax für diese Bedingungen ist zwar sehr flexibel, aber auch recht kompliziert. In den meisten Fällen bietet sich eine einfachere Variante an, die auf die Besonderheiten von HTML zugeschnitten ist: CSS-Selektoren. [CSS](http://de.wikipedia.org/wiki/Cascading_Style_Sheets) ist eigentlich eine Sprache für die Formatierung von Webseiten. Sie enthält aber eine Möglichkeit, Elemente in HTML-Dokumenten auszuwählen, die sich auch in anderen Kontexten einsetzen lässt. Ihre Hauptelemente sind dabei Element-Namen, IDs und Klassen."
   ]
  },
  {
   "cell_type": "code",
   "execution_count": 13,
   "metadata": {
    "collapsed": false
   },
   "outputs": [
    {
     "data": {
      "text/plain": [
       "[<Element a at 0x7f79e00848e8>,\n",
       " <Element a at 0x7f79e0065310>,\n",
       " <Element a at 0x7f79e00d5e68>]"
      ]
     },
     "execution_count": 13,
     "metadata": {},
     "output_type": "execute_result"
    }
   ],
   "source": [
    "# Element\n",
    "doc.cssselect('a')"
   ]
  },
  {
   "cell_type": "code",
   "execution_count": 14,
   "metadata": {
    "collapsed": false
   },
   "outputs": [
    {
     "data": {
      "text/plain": [
       "[<Element a at 0x7f79e0065310>, <Element a at 0x7f79e00d5e68>]"
      ]
     },
     "execution_count": 14,
     "metadata": {},
     "output_type": "execute_result"
    }
   ],
   "source": [
    "# IDs (z.B. <div id=\"nav\">)\n",
    "doc.cssselect('#nav a')"
   ]
  },
  {
   "cell_type": "code",
   "execution_count": 15,
   "metadata": {
    "collapsed": false
   },
   "outputs": [
    {
     "data": {
      "text/plain": [
       "[<Element p at 0x7f79e00651b0>]"
      ]
     },
     "execution_count": 15,
     "metadata": {},
     "output_type": "execute_result"
    }
   ],
   "source": [
    "# Klassen (z.B. <p class=\"teaser\">)\n",
    "doc.cssselect('p.teaser')  # oder nur '.teaser'"
   ]
  },
  {
   "cell_type": "markdown",
   "metadata": {},
   "source": [
    "Bei IDs und Klassen kann man dabei optional einen Elementnamen mit angeben. So steht `p.teaser` für ein `p`-Element mit der Klasse »teaser«, während `.teaser` ein *beliebiges* Element mit dieser Klasse bezeichnet.\n",
    "\n",
    "Eine ausführliche Dokumentation der unterschiedlichen Selektoren findet sich [hier](http://wiki.selfhtml.org/wiki/CSS/Selektoren). Ein Hilfsmittel, um CSS-Selektoren zu finden, ist [Selector Gadget](http://selectorgadget.com/)."
   ]
  },
  {
   "cell_type": "markdown",
   "metadata": {},
   "source": [
    "## Ein echtes Beispiel"
   ]
  },
  {
   "cell_type": "markdown",
   "metadata": {},
   "source": [
    "Nehmen wir als Beispiel eine [Rede der deutschen Bundeskanzlerin](http://www.bundesregierung.de/Content/DE/Rede/2014/09/2014-09-17-merkel-jugend-forscht.html) von der Website der deutschen Bundesregierung. Wir wollen den Titel, das Datum, den Teaser und den Text dieser Seite für weitere Analysen extrahieren."
   ]
  },
  {
   "cell_type": "code",
   "execution_count": 16,
   "metadata": {
    "collapsed": false
   },
   "outputs": [],
   "source": [
    "rede = html.parse('http://www.bundesregierung.de/Content/DE/Rede/2014/09/2014-09-17-merkel-jugend-forscht.html')\n",
    "root = rede.getroot()"
   ]
  },
  {
   "cell_type": "code",
   "execution_count": 17,
   "metadata": {
    "collapsed": false
   },
   "outputs": [
    {
     "data": {
      "text/plain": [
       "u'Rede von Bundeskanzlerin Merkel zum Empfang der Preistr\\xe4gerinnen und Preistr\\xe4ger des 49. Bundeswettbewerbs \\u201eJugend forscht\\u201c am 17. September 2014'"
      ]
     },
     "execution_count": 17,
     "metadata": {},
     "output_type": "execute_result"
    }
   ],
   "source": [
    "# Titel\n",
    "root.cssselect('.text h1')[0].text_content()"
   ]
  },
  {
   "cell_type": "code",
   "execution_count": 18,
   "metadata": {
    "collapsed": false
   },
   "outputs": [
    {
     "data": {
      "text/plain": [
       "'im Bundeskanzleramt\\n'"
      ]
     },
     "execution_count": 18,
     "metadata": {},
     "output_type": "execute_result"
    }
   ],
   "source": [
    "# Teaser\n",
    "root.cssselect('.text .abstract')[0].text_content()"
   ]
  },
  {
   "cell_type": "markdown",
   "metadata": {},
   "source": [
    "Das Datum ist etwas komplizierter: Diese Kopfangaben auf der Seite bestehen aus Definitionslisten ([dl](http://wiki.selfhtml.org/wiki/HTML/Textstrukturierung/dl)) mit dem folgenden Aufbau:\n",
    "\n",
    "```html\n",
    "<dl>\n",
    "    <dt>Datum:</dt><dd>17. September 2014</dd>\n",
    "    <dt>Ort:</dt><dd>Berlin</dd>\n",
    "</dl>\n",
    "```\n",
    "\n",
    "In diesem Fall ist nur das Datum in dieser Form angegeben, aber bei anderen Reden ist dies unterschiedlich. In Python lässt sich das Datum so herausfiltern:"
   ]
  },
  {
   "cell_type": "code",
   "execution_count": 19,
   "metadata": {
    "collapsed": false
   },
   "outputs": [
    {
     "data": {
      "text/plain": [
       "'17. September 2014'"
      ]
     },
     "execution_count": 19,
     "metadata": {},
     "output_type": "execute_result"
    }
   ],
   "source": [
    "# Datum\n",
    "labels = root.cssselect('.text dl dt')\n",
    "contents = root.cssselect('.text dl dd')\n",
    "date = None\n",
    "for label, content in zip(labels, contents):\n",
    "    if 'Datum' in label.text_content():\n",
    "        date = content.text_content()\n",
    "        break\n",
    "date"
   ]
  },
  {
   "cell_type": "code",
   "execution_count": 20,
   "metadata": {
    "collapsed": false
   },
   "outputs": [
    {
     "data": {
      "text/plain": [
       "u'Lieber Herr Baszio,\\nliebe Frau Wanka,\\nmeine Damen und Herren,\\naber vor allem: liebe Preistr\\xe4gerinnen und Preistr\\xe4ger von \\u201eJugend forscht\\u201c,\\n\\nich habe Ihnen einen der spannenden Termine im Kalenderjahr '"
      ]
     },
     "execution_count": 20,
     "metadata": {},
     "output_type": "execute_result"
    }
   ],
   "source": [
    "# Text\n",
    "pars = root.cssselect('.text .abstract ~ p')  # Alle p-Elemente hinter .abstract\n",
    "text = '\\n\\n'.join([par.text_content() for par in pars])\n",
    "text[0:200]"
   ]
  },
  {
   "cell_type": "markdown",
   "metadata": {},
   "source": [
    "Auf diese Weise lassen sich nun die relevanten Inhalte einer Seite herausfiltern.\n",
    "\n",
    "In der Praxis würde man nicht Seite für Seite einzeln aufrufen, sondern auf ähnliche Weise auf einer Übersichtsseite alle Links zu den einzelnen Texten herausfiltern und diese automatisch abarbeiten. Die Datei *bundesscraper.py* enthält ein solches Programm, das alle Reden von der Seite der Bundesregierung ausliest und in einer CSV-Datei speichert."
   ]
  }
 ],
 "metadata": {
  "kernelspec": {
   "display_name": "Python 3",
   "language": "python",
   "name": "python3"
  },
  "language_info": {
   "codemirror_mode": {
    "name": "ipython",
    "version": 3
   },
   "file_extension": ".py",
   "mimetype": "text/x-python",
   "name": "python",
   "nbconvert_exporter": "python",
   "pygments_lexer": "ipython3",
   "version": "3.4.3"
  }
 },
 "nbformat": 4,
 "nbformat_minor": 0
}
