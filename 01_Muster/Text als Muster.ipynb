{
 "cells": [
  {
   "cell_type": "markdown",
   "metadata": {},
   "source": [
    "# Text als Muster"
   ]
  },
  {
   "cell_type": "markdown",
   "metadata": {},
   "source": [
    "Die in Dokumentenformaten wie HTML definierte Struktur hilft uns nur soweit, wie die relevanten Inhalte eines Textes auch explizit gekennzeichnet sind. Oft sind aber Informationen in Texten in unstrukturierter Form enthalten. Diese Informationen in strukturierter Form zu extrahieren ist die Aufgabe der [Informationsextraktion](http://de.wikipedia.org/wiki/Informationsextraktion).\n",
    "\n",
    "Im Falle der politischen Reden etwa sind die Datumsangaben in natürlicher Sprache verfasst, also z.B. »27. Januar 2011«. Dies ist zunächst einfach eine Zeichenkette (string) aus Zahlzeichen, Buchstaben, Leerzeichen und Punkten. Mit dieser Angabe kann man etwa nicht ohne weitere Verarbeitung bestimmen, ob eine Rede im Jahr 2011 oder im Jahr 2012 gehalten wurde. Dazu muss die unstrukturierte Zeichenkette in bestimmte Elemente, etwa Tag, Monat und Jahr, zerlegt werden.\n",
    "\n",
    "In Python gibt es den Datentyp `date`, der den strukturierten Umgang mit Datumsangaben erlaubt:"
   ]
  },
  {
   "cell_type": "code",
   "execution_count": 1,
   "metadata": {
    "collapsed": false
   },
   "outputs": [
    {
     "data": {
      "text/plain": [
       "datetime.date(2014, 10, 7)"
      ]
     },
     "execution_count": 1,
     "metadata": {},
     "output_type": "execute_result"
    }
   ],
   "source": [
    "import datetime\n",
    "datetime.date.today()"
   ]
  },
  {
   "cell_type": "code",
   "execution_count": 2,
   "metadata": {
    "collapsed": false
   },
   "outputs": [
    {
     "data": {
      "text/plain": [
       "True"
      ]
     },
     "execution_count": 2,
     "metadata": {},
     "output_type": "execute_result"
    }
   ],
   "source": [
    "date = datetime.date(2011, 1, 27)\n",
    "date.year == 2011"
   ]
  },
  {
   "cell_type": "markdown",
   "metadata": {},
   "source": [
    "Die Aufgabe besteht also zunächst darin, aus der Zeichenkette »27. Januar 2011« das Datum in strukturierter Form zu extrahieren. Dabei hilft es, dass wir wissen, dass hier zunächst der Tag steht, dann der Monat und dann das Jahr. Mit dieser Information lässt sich etwa das Jahr extrahieren."
   ]
  },
  {
   "cell_type": "code",
   "execution_count": 3,
   "metadata": {
    "collapsed": false
   },
   "outputs": [
    {
     "data": {
      "text/plain": [
       "True"
      ]
     },
     "execution_count": 3,
     "metadata": {},
     "output_type": "execute_result"
    }
   ],
   "source": [
    "date_string = '27. Januar 2011'\n",
    "day, month, year = date_string.split()\n",
    "int(year) == 2011"
   ]
  },
  {
   "cell_type": "markdown",
   "metadata": {},
   "source": [
    "Für den Monat ist dies schwieriger, da er nicht als Zahl, sondern als Wort angegeben ist. In Python sind die hierfür notwendigen Informationen schon enthalten. Um aus einer Zeichenkette, die einem bestimmten Aufbau folgt, ein Datum zu extrahieren, muss man nur das entsprechende Muster formulieren:\n",
    "\n",
    "> Erst der Tag als Zahl, gefolgt von einem Punkt, dann der Monat als ausgeschriebenes Wort, dann das vierstellige Jahr.\n",
    "\n",
    "Die entsprechenden Muster lassen sich in der [Python-Dokumentation](https://docs.python.org/2.7/library/datetime.html?highlight=strptime#strftime-strptime-behavior) oder auf [strftime.org](http://strftime.org/) nachlesen. Das Muster lautet dann:"
   ]
  },
  {
   "cell_type": "code",
   "execution_count": 4,
   "metadata": {
    "collapsed": false
   },
   "outputs": [],
   "source": [
    "pattern = '%d. %B %Y'"
   ]
  },
  {
   "cell_type": "markdown",
   "metadata": {},
   "source": [
    "Die Funktion `strptime` (string parse time) erlaubt, dieses Muster für die Extraktion eines Datums anzuwenden. Dabei wird standardmäßig ein `datetime`-Objekt erstellt, dass nicht nur da Datum, sondern auch eine Zeitangabe enthält. Da dies hier nicht benötigt wird, lässt sich daraus aber auch nur das Datum extrahieren. Da Python zusätzlich wissen muss, dass die Monate auf Deutsch angegeben sind, muss die entsprechende Sprache aktiviert werden."
   ]
  },
  {
   "cell_type": "code",
   "execution_count": 5,
   "metadata": {
    "collapsed": false
   },
   "outputs": [
    {
     "data": {
      "text/plain": [
       "datetime.date(2011, 1, 27)"
      ]
     },
     "execution_count": 5,
     "metadata": {},
     "output_type": "execute_result"
    }
   ],
   "source": [
    "import locale\n",
    "locale.setlocale(locale.LC_ALL, 'de_DE.UTF-8')\n",
    "\n",
    "date_and_time = datetime.datetime.strptime(date_string, pattern)\n",
    "date_and_time.date()"
   ]
  },
  {
   "cell_type": "markdown",
   "metadata": {},
   "source": [
    "Diese Art der Mustererkennung ist allerdings auf Datumsangaben beschränkt. Auf ähnliche Art und Weise kann man aber in vielen Fällen Muster in Texten extrahieren. Hierfür unterstützen die meisten Programmiersprachen sogenannte »reguläre Ausdrücke«. Diese erlauben, Muster zu beschreiben und in Texten zu finden. Ein regulärer Ausdruck besteht in der Regel aus diesen Elementen:\n",
    "\n",
    "*Was?*\n",
    "\n",
    "Welche Zeichen sollen gefunden werden?\n",
    "\n",
    "* Wörtliche Zeichen: Zeichen werden so gefunden, wie sie eingegeben werden, z.B. »`a`«.\n",
    "* Zeichen aus einer bestimmten Menge, z.B. »`[aä]`« für a oder ä, »`[a-z]`« für die Kleinbuchstaben zwischen a und z.\n",
    "* Zeichen aus einer vordefinierten Menge, z.B. »`\\d`« für Zahlen *(decimal)* oder »`\\w`« für Buchstaben und Zahlen *(word)*.\n",
    "* Ein beliebiges Zeichen: »`.`«.\n",
    "\n",
    "*Wie viel?*\n",
    "\n",
    "Wie viele dieser Zeichen sollen gefunden werden?\n",
    "\n",
    "* »`*`«: Keinmal oder mehrfach\n",
    "* »`+`«: Einmal oder mehrfach\n",
    "* »`?`«: Keinmal oder einmal\n",
    "* »`{m,n}`«: Mindestens m-mal, höchstens n-mal, z.B. »`{2,4}`«.\n",
    "\n",
    "*Möglichst viel oder möglichst wenig?*\n",
    "\n",
    "In zweideutigen Fällen kann angegeben werden, ob möglichst viele oder möglichst wenige Zeichen gefunden werden sollen.\n",
    "\n",
    "* »`*?`« oder »`+?`«: Möglichst wenig\n",
    "\n",
    "Für eine ausführliche Beschreibung sei auf [Wikipedia](http://de.wikipedia.org/wiki/Regul%C3%A4rer_Ausdruck#Regul.C3.A4re_Ausdr.C3.BCcke_in_der_Praxis) und die [Python-Dokumentation](https://docs.python.org/2.7/library/re.html) verwiesen.\n",
    "\n",
    "Zur Veranschaulichung nun ein Beispiel: In einem Text sollen alle Passagen gefunden werden, die zwischen Anführungszeichen stehen:"
   ]
  },
  {
   "cell_type": "code",
   "execution_count": 6,
   "metadata": {
    "collapsed": false
   },
   "outputs": [],
   "source": [
    "text = u'Mehr als »Tür«: »Doppel-Tür« oder »Tür und Tor«.'"
   ]
  },
  {
   "cell_type": "code",
   "execution_count": 7,
   "metadata": {
    "collapsed": false
   },
   "outputs": [
    {
     "data": {
      "text/plain": [
       "[u'\\xbbT\\xfcr\\xab']"
      ]
     },
     "execution_count": 7,
     "metadata": {},
     "output_type": "execute_result"
    }
   ],
   "source": [
    "import re\n",
    "re.findall(u'»\\w+«', text, re.UNICODE)"
   ]
  },
  {
   "cell_type": "code",
   "execution_count": 8,
   "metadata": {
    "collapsed": false
   },
   "outputs": [
    {
     "data": {
      "text/plain": [
       "[u'\\xbbT\\xfcr\\xab', u'\\xbbDoppel-T\\xfcr\\xab']"
      ]
     },
     "execution_count": 8,
     "metadata": {},
     "output_type": "execute_result"
    }
   ],
   "source": [
    "re.findall(u'»[\\w-]+«', text, re.U)"
   ]
  },
  {
   "cell_type": "code",
   "execution_count": 9,
   "metadata": {
    "collapsed": false
   },
   "outputs": [
    {
     "data": {
      "text/plain": [
       "[u'\\xbbT\\xfcr\\xab: \\xbbDoppel-T\\xfcr\\xab oder \\xbbT\\xfcr und Tor\\xab']"
      ]
     },
     "execution_count": 9,
     "metadata": {},
     "output_type": "execute_result"
    }
   ],
   "source": [
    "re.findall(u'».+«', text, re.U)"
   ]
  },
  {
   "cell_type": "code",
   "execution_count": 10,
   "metadata": {
    "collapsed": false
   },
   "outputs": [
    {
     "data": {
      "text/plain": [
       "[u'\\xbbT\\xfcr\\xab', u'\\xbbDoppel-T\\xfcr\\xab', u'\\xbbT\\xfcr und Tor\\xab']"
      ]
     },
     "execution_count": 10,
     "metadata": {},
     "output_type": "execute_result"
    }
   ],
   "source": [
    "re.findall(u'».+?«', text, re.U)"
   ]
  },
  {
   "cell_type": "markdown",
   "metadata": {},
   "source": [
    "In vielen Fällen soll aus einem Muster nur ein Element (oder mehrere Elemente) extrahiert werden. Dazu können Passagen im Muster eingeklammert und diese sogenannten »Gruppen« später isoliert werden."
   ]
  },
  {
   "cell_type": "code",
   "execution_count": 11,
   "metadata": {
    "collapsed": false
   },
   "outputs": [
    {
     "data": {
      "text/plain": [
       "(u'20.1.2014', u'Marie M\\xfcller')"
      ]
     },
     "execution_count": 11,
     "metadata": {},
     "output_type": "execute_result"
    }
   ],
   "source": [
    "text = u'Dieser Beitrag wurde veröffentlicht am 20.1.2014 von Marie Müller.'\n",
    "pattern = u'veröffentlicht am ([\\d\\.]+) von (.*?)\\.'\n",
    "match = re.search(pattern, text, re.U)\n",
    "match.group(1), match.group(2)"
   ]
  },
  {
   "cell_type": "markdown",
   "metadata": {},
   "source": [
    "Im Gegensatz zu `re.findall()` gibt `re.search()` die Treffer also nicht direkt zurück, sondern speichert das Ergebnis in einer Form, die den gezielten Zugriff auf verschiedene Bestandteile erlaubt. `re.search()` kann dabei auch als Test verwendet werden: Wenn das Muster nicht auf den Text passt, wird statt eines Match-Objekts der Wert `None` zurückgegeben."
   ]
  },
  {
   "cell_type": "markdown",
   "metadata": {},
   "source": [
    "### Aufgabe"
   ]
  },
  {
   "cell_type": "markdown",
   "metadata": {},
   "source": [
    "Extrahieren Sie aus den gegebenen Daten ein Datumsobjekt (`datetime.date`). Ggf. müssen Sie dazu mit einer Fallunterscheidung arbeiten."
   ]
  },
  {
   "cell_type": "code",
   "execution_count": 12,
   "metadata": {
    "collapsed": false
   },
   "outputs": [],
   "source": [
    "data = [\n",
    "    u'Datum: 23.1.2011',\n",
    "    u'Datum: 12. Januar 2004',\n",
    "    u'Veröffentlicht am 5. September 1999.',\n",
    "    u'Publiziert 12.04.2012 von admin',\n",
    "]"
   ]
  },
  {
   "cell_type": "code",
   "execution_count": 13,
   "metadata": {
    "collapsed": false
   },
   "outputs": [
    {
     "data": {
      "text/plain": [
       "[None, None, None, None]"
      ]
     },
     "execution_count": 13,
     "metadata": {},
     "output_type": "execute_result"
    }
   ],
   "source": [
    "def extract_date(text):\n",
    "    return None\n",
    "\n",
    "[extract_date(text) for text in data]"
   ]
  },
  {
   "cell_type": "markdown",
   "metadata": {},
   "source": [
    "## Ein Testfall"
   ]
  },
  {
   "cell_type": "markdown",
   "metadata": {},
   "source": [
    "Die von der Seite der Bundesregierung gespeicherten Reden enthalten zwar Angaben zu Ort und Zeit, aber die Redner sind nicht explizit ausgewiesen. Sie werden allerdings in der Regel im Titel genannt. Ein Ansatz kann also sein, Angaben zur Rednerin bzw. zum Redner mittels regulärer Ausdrücke aus dem Titel zu extrahieren."
   ]
  },
  {
   "cell_type": "code",
   "execution_count": 14,
   "metadata": {
    "collapsed": false
   },
   "outputs": [],
   "source": [
    "import pandas as pd\n",
    "data = pd.read_csv('../Daten/reden.csv', parse_dates=['date'], encoding='utf-8')"
   ]
  },
  {
   "cell_type": "code",
   "execution_count": 15,
   "metadata": {
    "collapsed": false
   },
   "outputs": [
    {
     "data": {
      "text/html": [
       "<div style=\"max-height:1000px;max-width:1500px;overflow:auto;\">\n",
       "<table border=\"1\" class=\"dataframe\">\n",
       "  <thead>\n",
       "    <tr style=\"text-align: right;\">\n",
       "      <th></th>\n",
       "      <th>place</th>\n",
       "      <th>title</th>\n",
       "      <th>date</th>\n",
       "      <th>text</th>\n",
       "      <th>abstract</th>\n",
       "      <th>link</th>\n",
       "    </tr>\n",
       "  </thead>\n",
       "  <tbody>\n",
       "    <tr>\n",
       "      <th>0</th>\n",
       "      <td>                  Weimar</td>\n",
       "      <td>                    Laudatio auf Rüdiger Safranski</td>\n",
       "      <td>2014-07-06</td>\n",
       "      <td> - Es gilt das gesprochene Wort. -\\r\\nEs gehört...</td>\n",
       "      <td> Der Schriftsteller und Literaturwissenschaftle...</td>\n",
       "      <td> http://www.bundesregierung.de/Content/DE/Rede/...</td>\n",
       "    </tr>\n",
       "    <tr>\n",
       "      <th>1</th>\n",
       "      <td>                  Peking</td>\n",
       "      <td> Rede von Bundeskanzlerin Merkel anlässlich der...</td>\n",
       "      <td>2014-07-08</td>\n",
       "      <td> Sehr geehrter Herr Minister Miao Wei,\\r\\nmeine...</td>\n",
       "      <td>                                     in Peking\\r\\n</td>\n",
       "      <td> http://www.bundesregierung.de/Content/DE/Rede/...</td>\n",
       "    </tr>\n",
       "    <tr>\n",
       "      <th>2</th>\n",
       "      <td>                  Peking</td>\n",
       "      <td> Rede von Bundeskanzlerin Merkel anlässlich des...</td>\n",
       "      <td>2014-07-08</td>\n",
       "      <td> Sehr geehrter Herr Präsident,\\r\\nsehr geehrte,...</td>\n",
       "      <td>                                               NaN</td>\n",
       "      <td> http://www.bundesregierung.de/Content/DE/Rede/...</td>\n",
       "    </tr>\n",
       "    <tr>\n",
       "      <th>3</th>\n",
       "      <td> Alliiertenmuseum Berlin</td>\n",
       "      <td> Kulturstaatsministerin Monika Grütters zur Erö...</td>\n",
       "      <td>2014-07-08</td>\n",
       "      <td> - Es gilt das gesprochene Wort. -\\r\\nAnrede,\\r...</td>\n",
       "      <td> \"Wer verstehen will, warum uns mit den USA wei...</td>\n",
       "      <td> http://www.bundesregierung.de/Content/DE/Rede/...</td>\n",
       "    </tr>\n",
       "    <tr>\n",
       "      <th>4</th>\n",
       "      <td>                     NaN</td>\n",
       "      <td> Rede von Bundeskanzlerin Merkel anlässlich der...</td>\n",
       "      <td>2014-07-11</td>\n",
       "      <td> Sehr geehrter Herr Meyer,\\r\\nsehr geehrte Frau...</td>\n",
       "      <td>                         in Rostock-Warnemünde\\r\\n</td>\n",
       "      <td> http://www.bundesregierung.de/Content/DE/Rede/...</td>\n",
       "    </tr>\n",
       "  </tbody>\n",
       "</table>\n",
       "</div>"
      ],
      "text/plain": [
       "                     place                                              title  \\\n",
       "0                   Weimar                     Laudatio auf Rüdiger Safranski   \n",
       "1                   Peking  Rede von Bundeskanzlerin Merkel anlässlich der...   \n",
       "2                   Peking  Rede von Bundeskanzlerin Merkel anlässlich des...   \n",
       "3  Alliiertenmuseum Berlin  Kulturstaatsministerin Monika Grütters zur Erö...   \n",
       "4                      NaN  Rede von Bundeskanzlerin Merkel anlässlich der...   \n",
       "\n",
       "        date                                               text  \\\n",
       "0 2014-07-06  - Es gilt das gesprochene Wort. -\\r\\nEs gehört...   \n",
       "1 2014-07-08  Sehr geehrter Herr Minister Miao Wei,\\r\\nmeine...   \n",
       "2 2014-07-08  Sehr geehrter Herr Präsident,\\r\\nsehr geehrte,...   \n",
       "3 2014-07-08  - Es gilt das gesprochene Wort. -\\r\\nAnrede,\\r...   \n",
       "4 2014-07-11  Sehr geehrter Herr Meyer,\\r\\nsehr geehrte Frau...   \n",
       "\n",
       "                                            abstract  \\\n",
       "0  Der Schriftsteller und Literaturwissenschaftle...   \n",
       "1                                      in Peking\\r\\n   \n",
       "2                                                NaN   \n",
       "3  \"Wer verstehen will, warum uns mit den USA wei...   \n",
       "4                          in Rostock-Warnemünde\\r\\n   \n",
       "\n",
       "                                                link  \n",
       "0  http://www.bundesregierung.de/Content/DE/Rede/...  \n",
       "1  http://www.bundesregierung.de/Content/DE/Rede/...  \n",
       "2  http://www.bundesregierung.de/Content/DE/Rede/...  \n",
       "3  http://www.bundesregierung.de/Content/DE/Rede/...  \n",
       "4  http://www.bundesregierung.de/Content/DE/Rede/...  "
      ]
     },
     "execution_count": 15,
     "metadata": {},
     "output_type": "execute_result"
    }
   ],
   "source": [
    "data.head()"
   ]
  },
  {
   "cell_type": "code",
   "execution_count": 16,
   "metadata": {
    "collapsed": false
   },
   "outputs": [
    {
     "data": {
      "text/plain": [
       "0                       Laudatio auf Rüdiger Safranski\n",
       "1    Rede von Bundeskanzlerin Merkel anlässlich der...\n",
       "2    Rede von Bundeskanzlerin Merkel anlässlich des...\n",
       "3    Kulturstaatsministerin Monika Grütters zur Erö...\n",
       "4    Rede von Bundeskanzlerin Merkel anlässlich der...\n",
       "Name: title, dtype: object"
      ]
     },
     "execution_count": 16,
     "metadata": {},
     "output_type": "execute_result"
    }
   ],
   "source": [
    "titles = data['title']\n",
    "titles.head()"
   ]
  },
  {
   "cell_type": "code",
   "execution_count": 17,
   "metadata": {
    "collapsed": false
   },
   "outputs": [
    {
     "data": {
      "text/plain": [
       "0                      None\n",
       "1    Bundeskanzlerin Merkel\n",
       "2    Bundeskanzlerin Merkel\n",
       "3                      None\n",
       "4    Bundeskanzlerin Merkel\n",
       "Name: title, dtype: object"
      ]
     },
     "execution_count": 17,
     "metadata": {},
     "output_type": "execute_result"
    }
   ],
   "source": [
    "def extract_speaker(text):\n",
    "    match = re.search(u'Rede von ([A-ZÄÖÜ]\\w+(?:\\s+[A-ZÄÖÜ]\\w+)*)', text, re.U)\n",
    "    if match:\n",
    "        return match.group(1)\n",
    "    else:\n",
    "        return None\n",
    "    \n",
    "speakers = titles.apply(extract_speaker)  # entspricht [extract_speaker(title) for title in titles]\n",
    "speakers.head()"
   ]
  },
  {
   "cell_type": "code",
   "execution_count": 18,
   "metadata": {
    "collapsed": false
   },
   "outputs": [
    {
     "data": {
      "text/plain": [
       "Bundeskanzlerin Angela Merkel                  177\n",
       "Bundeskanzlerin Merkel                         137\n",
       "Kulturstaatsminister Bernd Neumann              89\n",
       "Staatsminister Bernd Neumann                    30\n",
       "Bundeskanzlerin Angela Merkel                   14\n",
       "Kulturstaatsministerin Grütters                  3\n",
       "Kulturstaatsministerin Monika Grütters           3\n",
       "Kulturstaatsminister Bernd Neumann               2\n",
       "Bundeskanzlerin Merkel                           2\n",
       "Bundeslandwirtschaftsministerin Ilse Aigner      1\n",
       "Bundesminister Pofalla                           1\n",
       "Bundeskanzlerin  Angela Merkel                   1\n",
       "Kulturstaatsministers Bernd Neumann              1\n",
       "Joachim Gauck                                    1\n",
       "Bundesaußenminister Steinmeier                   1\n",
       "Kanzlerin Merkel                                 1\n",
       "BK                                               1\n",
       "Kulturstaatsinister Bernd Neumann                1\n",
       "Staatsminister Bernd Neumann                     1\n",
       "dtype: int64"
      ]
     },
     "execution_count": 18,
     "metadata": {},
     "output_type": "execute_result"
    }
   ],
   "source": [
    "speakers.value_counts()"
   ]
  },
  {
   "cell_type": "code",
   "execution_count": 19,
   "metadata": {
    "collapsed": false
   },
   "outputs": [
    {
     "data": {
      "text/plain": [
       "(614, 147)"
      ]
     },
     "execution_count": 19,
     "metadata": {},
     "output_type": "execute_result"
    }
   ],
   "source": [
    "len(speakers), sum(speakers.isnull())"
   ]
  }
 ],
 "metadata": {
  "kernelspec": {
   "display_name": "Python 3",
   "language": "python",
   "name": "python3"
  },
  "language_info": {
   "codemirror_mode": {
    "name": "ipython",
    "version": 3
   },
   "file_extension": ".py",
   "mimetype": "text/x-python",
   "name": "python",
   "nbconvert_exporter": "python",
   "pygments_lexer": "ipython3",
   "version": "3.4.3"
  }
 },
 "nbformat": 4,
 "nbformat_minor": 0
}
