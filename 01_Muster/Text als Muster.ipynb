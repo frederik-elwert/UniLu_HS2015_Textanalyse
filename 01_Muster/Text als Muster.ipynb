{
 "cells": [
  {
   "cell_type": "markdown",
   "metadata": {},
   "source": [
    "# Text als Muster"
   ]
  },
  {
   "cell_type": "markdown",
   "metadata": {},
   "source": [
    "Aus Sicht einer Programmiersprache wie Python sind Texte nur Zeichenketten. Oft interessieren uns jedoch spezifische Informationen, die in Texten enthalten sind. Das kann z.B. der Autor eines Textes sein, oder das Datum der Veröffentlichung. Dabei stehen wir vor der Aufgabe, strukturierte Informationen (etwa einen Namen oder ein Datum) aus vergleichsweise unstrukturierten Daten wie Texten zu gewinnen. Dies ist das Feld der [Informationsextraktion](http://de.wikipedia.org/wiki/Informationsextraktion).\n",
    "\n",
    "Wenn die Informationen im Text relativ gleichförming hinterlegt sind, lassen sich Regeln formulieren, nach denen die gewünsche Information gefunden werden kann. So steht etwa bei vielen Online-Artikeln eine Zeile wie:\n",
    "\n",
    "> Dieser Beitrag wurde veröffentlicht am 20.1.2014 von Marie Müller.\n",
    "\n",
    "Dieses Muster, das dem menschlichen Leser unmittelbar einleuchtet, muss dann in abstrakter Form beschrieben werden, um vom Computer angewandt werden zu können."
   ]
  },
  {
   "cell_type": "markdown",
   "metadata": {},
   "source": [
    "## Reguläre Ausdrücke\n",
    "\n",
    "Hierfür unterstützen die meisten Programmiersprachen sogenannte »reguläre Ausdrücke«. Diese erlauben, Muster zu beschreiben und in Texten zu finden. Ein regulärer Ausdruck besteht in der Regel aus diesen Elementen:\n",
    "\n",
    "*Was?*\n",
    "\n",
    "Welche Zeichen sollen gefunden werden?\n",
    "\n",
    "* Wörtliche Zeichen: Zeichen werden so gefunden, wie sie eingegeben werden, z.B. »`a`«.\n",
    "* Zeichen aus einer bestimmten Menge, z.B. »`[aä]`« für a oder ä, »`[a-z]`« für die Kleinbuchstaben zwischen a und z.\n",
    "* Zeichen aus einer vordefinierten Menge, z.B. »`\\d`« für Zahlen *(decimal)* oder »`\\w`« für Buchstaben und Zahlen *(word)*.\n",
    "* Ein beliebiges Zeichen: »`.`«.\n",
    "\n",
    "*Wie viel?*\n",
    "\n",
    "Wie viele dieser Zeichen sollen gefunden werden?\n",
    "\n",
    "* »`*`«: Keinmal oder mehrfach\n",
    "* »`+`«: Einmal oder mehrfach\n",
    "* »`?`«: Keinmal oder einmal\n",
    "* »`{m,n}`«: Mindestens m-mal, höchstens n-mal, z.B. »`{2,4}`«.\n",
    "\n",
    "*Möglichst viel oder möglichst wenig?*\n",
    "\n",
    "In zweideutigen Fällen kann angegeben werden, ob möglichst viele oder möglichst wenige Zeichen gefunden werden sollen.\n",
    "\n",
    "* »`*?`« oder »`+?`«: Möglichst wenig\n",
    "\n",
    "Für eine ausführliche Beschreibung sei auf [Wikipedia](http://de.wikipedia.org/wiki/Regul%C3%A4rer_Ausdruck#Regul.C3.A4re_Ausdr.C3.BCcke_in_der_Praxis) und die [Python-Dokumentation](https://docs.python.org/3.4/library/re.html) verwiesen."
   ]
  },
  {
   "cell_type": "markdown",
   "metadata": {},
   "source": [
    "Im Teil zu [Text in Python](../00_Python/Text in Python.ipynb) wurde eine einfache Möglichkeit gezeigt, einen Text in Wörter zu zerlegen:"
   ]
  },
  {
   "cell_type": "code",
   "execution_count": 1,
   "metadata": {
    "collapsed": false
   },
   "outputs": [
    {
     "data": {
      "text/plain": [
       "['Lieber',\n",
       " 'Herr',\n",
       " 'Kock,',\n",
       " 'liebe',\n",
       " 'Kollegin,',\n",
       " 'Frau',\n",
       " 'Wanka,',\n",
       " 'meine',\n",
       " 'Damen',\n",
       " 'und',\n",
       " 'Herren,',\n",
       " 'aber',\n",
       " 'besonders:',\n",
       " 'liebe',\n",
       " 'Preisträgerinnen',\n",
       " 'und',\n",
       " 'Preisträger',\n",
       " 'von',\n",
       " '„Jugend',\n",
       " 'forscht“,']"
      ]
     },
     "execution_count": 1,
     "metadata": {},
     "output_type": "execute_result"
    }
   ],
   "source": [
    "sample = '''Lieber Herr Kock,\n",
    "liebe Kollegin, Frau Wanka,\n",
    "meine Damen und Herren,\n",
    "aber besonders: liebe Preisträgerinnen und Preisträger von „Jugend forscht“,'''\n",
    "sample.split()"
   ]
  },
  {
   "cell_type": "markdown",
   "metadata": {},
   "source": [
    "Das Problem hierbei ist, dass die einfache Regel „Wörter werden durch Leerzeichen getrennt“ im Falle von Satzzeichen nicht funktioniert, diese werden dann für einen Teil des Wortes gehalten. Exakter müsste die Regel heißen: „Wörter bestehen aus einem oder mehreren Buchstaben.“ Reguläre Ausdrücke ermöglichen es, eine solche Regel zu formulieren: `\\w` steht für einen beliebigen Buchstaben (oder eine Zahl), `+` steht für eines oder mehrere dieser Zeichen.\n",
    "\n",
    "Dazu muss zunächst das Modul `re` (für *regular expressions*) importiert werden:"
   ]
  },
  {
   "cell_type": "code",
   "execution_count": 2,
   "metadata": {
    "collapsed": false
   },
   "outputs": [
    {
     "data": {
      "text/plain": [
       "['Lieber',\n",
       " 'Herr',\n",
       " 'Kock',\n",
       " 'liebe',\n",
       " 'Kollegin',\n",
       " 'Frau',\n",
       " 'Wanka',\n",
       " 'meine',\n",
       " 'Damen',\n",
       " 'und',\n",
       " 'Herren',\n",
       " 'aber',\n",
       " 'besonders',\n",
       " 'liebe',\n",
       " 'Preisträgerinnen',\n",
       " 'und',\n",
       " 'Preisträger',\n",
       " 'von',\n",
       " 'Jugend',\n",
       " 'forscht']"
      ]
     },
     "execution_count": 2,
     "metadata": {},
     "output_type": "execute_result"
    }
   ],
   "source": [
    "import re\n",
    "\n",
    "re.findall('\\w+', sample)"
   ]
  },
  {
   "cell_type": "markdown",
   "metadata": {},
   "source": [
    "Eine entsprechende Regel kann dann auch verwendet werden, um die Information zu Datum und Autor eines Textes zu extrahieren, wie im oben genannten Beispiel.\n",
    "\n",
    "Das Datum besteht dabei aus Ziffern und Punkten. Eine sehr einfache Regel könnte also heißen: Finde eine Kette von Ziffern und Punkten. Für Ziffern steht das Muster »`\\d`«, für den Punkt »`\\.`« (weil »`.`« für ein beliebiges Zeichen steht). Die Menge aus beiden, also Ziffer *oder* Punkt, lässt sich als »`[\\d\\.]`« ausdrücken. Die einfache Regel wäre dann: »`[\\d\\.]+`« Da durch den vorangestellten Text »veröffentlicht am« sichergestellt wird, dass keine anderen Kombinationen aus Zahlen und Punkten (wie 3.000) gefunden werden, reicht diese einfache Regel.\n",
    "\n",
    "Der Name besteht aus Zeichen, aber auch aus Leerzeichen (zwischen Vor- und Nachname). Das Ende des Namens kann aber am finalen Punkt erkannt werden. Die Regel für den Namen lautet also »`.+\\.`«.\n",
    "\n",
    "Die gesamte Regel lautet dann: »`veröffentlicht am [\\d\\.]+ von .+\\.`«\n",
    "\n",
    "Um die beiden Stellen zu identifiziert, die die gewünschte Information enthalten, können in regulären Ausdrücken Klammern verwendet werden. Dies erlaubt, später separat auf die Datumsangabe und den Autorennamen zurückzugreifen und sie vom umgebenden Text zu trennen:"
   ]
  },
  {
   "cell_type": "code",
   "execution_count": 3,
   "metadata": {
    "collapsed": false
   },
   "outputs": [
    {
     "data": {
      "text/plain": [
       "('20.1.2014', 'Marie Müller')"
      ]
     },
     "execution_count": 3,
     "metadata": {},
     "output_type": "execute_result"
    }
   ],
   "source": [
    "text = 'Dieser Beitrag wurde veröffentlicht am 20.1.2014 von Marie Müller.'\n",
    "pattern = 'veröffentlicht am ([\\d\\.]+) von (.+)\\.'\n",
    "match = re.search(pattern, text)\n",
    "match.groups()"
   ]
  },
  {
   "cell_type": "markdown",
   "metadata": {},
   "source": [
    "Im Gegensatz zu `re.findall()` gibt `re.search()` die Treffer also nicht direkt zurück, sondern speichert das Ergebnis in einer Form, die den gezielten Zugriff auf verschiedene Bestandteile erlaubt. `re.search()` kann dabei auch als Test verwendet werden: Wenn das Muster nicht auf den Text passt, wird statt eines Match-Objekts der Wert `None` zurückgegeben."
   ]
  },
  {
   "cell_type": "markdown",
   "metadata": {},
   "source": [
    "Manchmal kann es notwendig sein, die Suche etwas einzugrenzen. Wenn beispielsweise der Text einen weiteren Satz enthält, greift die Regel nicht mehr:"
   ]
  },
  {
   "cell_type": "code",
   "execution_count": 4,
   "metadata": {
    "collapsed": false
   },
   "outputs": [
    {
     "data": {
      "text/plain": [
       "('20.1.2014', 'Marie Müller. Alle Angaben ohne Gewähr')"
      ]
     },
     "execution_count": 4,
     "metadata": {},
     "output_type": "execute_result"
    }
   ],
   "source": [
    "text = 'Dieser Beitrag wurde veröffentlicht am 20.1.2014 von Marie Müller. Alle Angaben ohne Gewähr.'\n",
    "match = re.search(pattern, text)\n",
    "match.groups()"
   ]
  },
  {
   "cell_type": "markdown",
   "metadata": {},
   "source": [
    "Die Regel ist korrekt ausgewertet worden: Der Name wird interpretiert als ein oder mehrere beliebige Zeichen die mit einem Punkt enden. Entgegen der Intuition greift die Regel aber bis zum Punkt am Ende des *zweiten* Satzes. Um bei einer Regel, die mit »`+`« oder »`*`« mehrere Zeichen umfasst, nur den *kürzesten* möglichen Teil zu erfassen, kommt das »`?`« zum Einsatz:"
   ]
  },
  {
   "cell_type": "code",
   "execution_count": 5,
   "metadata": {
    "collapsed": false
   },
   "outputs": [
    {
     "data": {
      "text/plain": [
       "('20.1.2014', 'Marie Müller')"
      ]
     },
     "execution_count": 5,
     "metadata": {},
     "output_type": "execute_result"
    }
   ],
   "source": [
    "pattern = 'veröffentlicht am ([\\d\\.]+) von (.+?)\\.'\n",
    "#                                             ^ hier\n",
    "match = re.search(pattern, text)\n",
    "match.groups()"
   ]
  },
  {
   "cell_type": "markdown",
   "metadata": {},
   "source": [
    "## Datumsangaben"
   ]
  },
  {
   "cell_type": "markdown",
   "metadata": {},
   "source": [
    "Die Datumsangabe ist im Beispiel als Zeichenkette erfasst worden: `'20.1.2014'`. Oft ist es wichtig, Datums- und Zeitangaben strukturierter zu erfassen. Wenn etwa Texte über die Zeit monatsweise analysiert werden sollen, muss man wissen, dass dieser Text im Januar erschienen ist. Das gilt auch, wenn Datumsangaben in natürlicher Sprache verfasst sind, also z.B. »27. Januar 2011«. Dazu muss die Zeichenkette in bestimmte Elemente, etwa Tag, Monat und Jahr, zerlegt werden.\n",
    "\n",
    "In Python gibt es den Datentyp `date`, der den strukturierten Umgang mit Datumsangaben erlaubt:"
   ]
  },
  {
   "cell_type": "code",
   "execution_count": 6,
   "metadata": {
    "collapsed": false
   },
   "outputs": [
    {
     "data": {
      "text/plain": [
       "datetime.date(2015, 10, 20)"
      ]
     },
     "execution_count": 6,
     "metadata": {},
     "output_type": "execute_result"
    }
   ],
   "source": [
    "import datetime\n",
    "datetime.date.today()"
   ]
  },
  {
   "cell_type": "code",
   "execution_count": 7,
   "metadata": {
    "collapsed": false
   },
   "outputs": [
    {
     "data": {
      "text/plain": [
       "True"
      ]
     },
     "execution_count": 7,
     "metadata": {},
     "output_type": "execute_result"
    }
   ],
   "source": [
    "date = datetime.date(2011, 1, 27)\n",
    "date.year == 2011"
   ]
  },
  {
   "cell_type": "markdown",
   "metadata": {},
   "source": [
    "Die Aufgabe besteht also zunächst darin, aus der Zeichenkette »27. Januar 2011« das Datum in strukturierter Form zu extrahieren. Dabei hilft es, dass wir wissen, dass hier zunächst der Tag steht, dann der Monat und dann das Jahr. Mit dieser Information lässt sich etwa das Jahr extrahieren."
   ]
  },
  {
   "cell_type": "code",
   "execution_count": 8,
   "metadata": {
    "collapsed": false
   },
   "outputs": [
    {
     "data": {
      "text/plain": [
       "True"
      ]
     },
     "execution_count": 8,
     "metadata": {},
     "output_type": "execute_result"
    }
   ],
   "source": [
    "date_string = '27. Januar 2011'\n",
    "day, month, year = date_string.split()\n",
    "int(year) == 2011"
   ]
  },
  {
   "cell_type": "markdown",
   "metadata": {},
   "source": [
    "Für den Monat ist dies schwieriger, da er nicht als Zahl, sondern als Wort angegeben ist. Python verfügt über spezifische Funktionen für den Umgang mit Datumsangaben einschließlich Wochentagen und Monatsnamen. Dafür gibt es eine Art »reguläre Ausdrücke für Datumsangaben«. Um aus einer Zeichenkette, die einem bestimmten Aufbau folgt, ein Datum zu extrahieren, muss man nur das entsprechende Muster formulieren:\n",
    "\n",
    "> Erst der Tag als Zahl, gefolgt von einem Punkt, dann der Monat als ausgeschriebenes Wort, dann das vierstellige Jahr.\n",
    "\n",
    "Die entsprechenden Muster lassen sich in der [Python-Dokumentation](https://docs.python.org/2.7/library/datetime.html?highlight=strptime#strftime-strptime-behavior) oder auf [strftime.org](http://strftime.org/) nachlesen. Das Muster lautet dann:"
   ]
  },
  {
   "cell_type": "code",
   "execution_count": 9,
   "metadata": {
    "collapsed": false
   },
   "outputs": [],
   "source": [
    "pattern = '%d. %B %Y'"
   ]
  },
  {
   "cell_type": "markdown",
   "metadata": {},
   "source": [
    "Die Funktion `strptime` (string parse time) erlaubt, dieses Muster für die Extraktion eines Datums anzuwenden. Dabei wird standardmäßig ein `datetime`-Objekt erstellt, dass nicht nur da Datum, sondern auch eine Zeitangabe enthält. Da dies hier nicht benötigt wird, lässt sich daraus aber auch nur das Datum extrahieren. Da Python zusätzlich wissen muss, dass die Monate auf Deutsch angegeben sind, muss die entsprechende Sprache aktiviert werden."
   ]
  },
  {
   "cell_type": "code",
   "execution_count": 10,
   "metadata": {
    "collapsed": false
   },
   "outputs": [
    {
     "data": {
      "text/plain": [
       "datetime.date(2011, 1, 27)"
      ]
     },
     "execution_count": 10,
     "metadata": {},
     "output_type": "execute_result"
    }
   ],
   "source": [
    "import locale\n",
    "locale.setlocale(locale.LC_ALL, 'de_DE.UTF-8')\n",
    "\n",
    "date_and_time = datetime.datetime.strptime(date_string, pattern)\n",
    "date_and_time.date()"
   ]
  },
  {
   "cell_type": "markdown",
   "metadata": {},
   "source": [
    "### Aufgabe"
   ]
  },
  {
   "cell_type": "markdown",
   "metadata": {},
   "source": [
    "Extrahieren Sie aus den gegebenen Daten ein Datumsobjekt (`datetime.date`). Ggf. müssen Sie dazu mit einer Fallunterscheidung arbeiten."
   ]
  },
  {
   "cell_type": "code",
   "execution_count": 11,
   "metadata": {
    "collapsed": false
   },
   "outputs": [],
   "source": [
    "data = [\n",
    "    'Datum: 23.1.2011',\n",
    "    'Datum: 12. Januar 2004',\n",
    "    'Veröffentlicht am 5. September 1999.',\n",
    "    'Publiziert 12.04.2012 von admin',\n",
    "]"
   ]
  },
  {
   "cell_type": "code",
   "execution_count": 12,
   "metadata": {
    "collapsed": false
   },
   "outputs": [
    {
     "data": {
      "text/plain": [
       "[None, None, None, None]"
      ]
     },
     "execution_count": 12,
     "metadata": {},
     "output_type": "execute_result"
    }
   ],
   "source": [
    "def extract_date(text):\n",
    "    return None\n",
    "\n",
    "[extract_date(text) for text in data]"
   ]
  },
  {
   "cell_type": "markdown",
   "metadata": {},
   "source": [
    "## Ein Testfall"
   ]
  },
  {
   "cell_type": "markdown",
   "metadata": {},
   "source": [
    "Ein Testdatensatz mit den auf der Seite der deutschen Bundesregierung veröffentlichten Reden enthält zwar Angaben zu Ort und Zeit, aber die Redner sind nicht explizit ausgewiesen. Sie werden allerdings in der Regel im Titel genannt. Ein Ansatz kann also sein, Angaben zur Rednerin bzw. zum Redner mittels regulärer Ausdrücke aus dem Titel zu extrahieren."
   ]
  },
  {
   "cell_type": "code",
   "execution_count": 13,
   "metadata": {
    "collapsed": false
   },
   "outputs": [],
   "source": [
    "import pandas as pd\n",
    "data = pd.read_csv('../Daten/Reden.csv', parse_dates=['date'], encoding='utf-8')"
   ]
  },
  {
   "cell_type": "code",
   "execution_count": 14,
   "metadata": {
    "collapsed": false
   },
   "outputs": [
    {
     "data": {
      "text/html": [
       "<div>\n",
       "<table border=\"1\" class=\"dataframe\">\n",
       "  <thead>\n",
       "    <tr style=\"text-align: right;\">\n",
       "      <th></th>\n",
       "      <th>url</th>\n",
       "      <th>title</th>\n",
       "      <th>date</th>\n",
       "      <th>place</th>\n",
       "      <th>abstract</th>\n",
       "      <th>text</th>\n",
       "    </tr>\n",
       "  </thead>\n",
       "  <tbody>\n",
       "    <tr>\n",
       "      <th>0</th>\n",
       "      <td>http://www.bundesregierung.de/Content/DE/Rede/...</td>\n",
       "      <td>Rede von Bundeskanzlerin Merkel beim Empfang d...</td>\n",
       "      <td>2015-09-30</td>\n",
       "      <td>Berlin</td>\n",
       "      <td>in Berlin\\n</td>\n",
       "      <td>Lieber Herr Kock,\\nliebe Kollegin, Frau Wanka,...</td>\n",
       "    </tr>\n",
       "    <tr>\n",
       "      <th>1</th>\n",
       "      <td>http://www.bundesregierung.de/Content/DE/Rede/...</td>\n",
       "      <td>Rede von Bundeskanzlerin Merkel beim Global Le...</td>\n",
       "      <td>2015-09-27</td>\n",
       "      <td>New York</td>\n",
       "      <td>NaN</td>\n",
       "      <td>Sehr geehrter Herr Präsident Xi Jinping,\\nsehr...</td>\n",
       "    </tr>\n",
       "    <tr>\n",
       "      <th>2</th>\n",
       "      <td>http://www.bundesregierung.de/Content/DE/Rede/...</td>\n",
       "      <td>Rede von Bundeskanzlerin Merkel beim gemeinsam...</td>\n",
       "      <td>2015-09-26</td>\n",
       "      <td>New York</td>\n",
       "      <td>NaN</td>\n",
       "      <td>Exzellenzen, \\nmeine Damen und Herren, \\n\\nich...</td>\n",
       "    </tr>\n",
       "    <tr>\n",
       "      <th>3</th>\n",
       "      <td>http://www.bundesregierung.de/Content/DE/Rede/...</td>\n",
       "      <td>Rede von Bundeskanzlerin Merkel beim Arbeitsmi...</td>\n",
       "      <td>2015-09-26</td>\n",
       "      <td>New York</td>\n",
       "      <td>NaN</td>\n",
       "      <td>Sehr geehrter Herr Generalsekretär, lieber Ban...</td>\n",
       "    </tr>\n",
       "    <tr>\n",
       "      <th>4</th>\n",
       "      <td>http://www.bundesregierung.de/Content/DE/Rede/...</td>\n",
       "      <td>Rede von Bundeskanzlerin Merkel beim High Leve...</td>\n",
       "      <td>2015-09-25</td>\n",
       "      <td>New York</td>\n",
       "      <td>NaN</td>\n",
       "      <td>Sehr geehrter Herr Generalsekretär,\\nsehr geeh...</td>\n",
       "    </tr>\n",
       "  </tbody>\n",
       "</table>\n",
       "</div>"
      ],
      "text/plain": [
       "                                                 url  \\\n",
       "0  http://www.bundesregierung.de/Content/DE/Rede/...   \n",
       "1  http://www.bundesregierung.de/Content/DE/Rede/...   \n",
       "2  http://www.bundesregierung.de/Content/DE/Rede/...   \n",
       "3  http://www.bundesregierung.de/Content/DE/Rede/...   \n",
       "4  http://www.bundesregierung.de/Content/DE/Rede/...   \n",
       "\n",
       "                                               title       date     place  \\\n",
       "0  Rede von Bundeskanzlerin Merkel beim Empfang d... 2015-09-30    Berlin   \n",
       "1  Rede von Bundeskanzlerin Merkel beim Global Le... 2015-09-27  New York   \n",
       "2  Rede von Bundeskanzlerin Merkel beim gemeinsam... 2015-09-26  New York   \n",
       "3  Rede von Bundeskanzlerin Merkel beim Arbeitsmi... 2015-09-26  New York   \n",
       "4  Rede von Bundeskanzlerin Merkel beim High Leve... 2015-09-25  New York   \n",
       "\n",
       "      abstract                                               text  \n",
       "0  in Berlin\\n  Lieber Herr Kock,\\nliebe Kollegin, Frau Wanka,...  \n",
       "1          NaN  Sehr geehrter Herr Präsident Xi Jinping,\\nsehr...  \n",
       "2          NaN  Exzellenzen, \\nmeine Damen und Herren, \\n\\nich...  \n",
       "3          NaN  Sehr geehrter Herr Generalsekretär, lieber Ban...  \n",
       "4          NaN  Sehr geehrter Herr Generalsekretär,\\nsehr geeh...  "
      ]
     },
     "execution_count": 14,
     "metadata": {},
     "output_type": "execute_result"
    }
   ],
   "source": [
    "data.head()"
   ]
  },
  {
   "cell_type": "code",
   "execution_count": 15,
   "metadata": {
    "collapsed": false
   },
   "outputs": [
    {
     "data": {
      "text/plain": [
       "0    Rede von Bundeskanzlerin Merkel beim Empfang d...\n",
       "1    Rede von Bundeskanzlerin Merkel beim Global Le...\n",
       "2    Rede von Bundeskanzlerin Merkel beim gemeinsam...\n",
       "3    Rede von Bundeskanzlerin Merkel beim Arbeitsmi...\n",
       "4    Rede von Bundeskanzlerin Merkel beim High Leve...\n",
       "Name: title, dtype: object"
      ]
     },
     "execution_count": 15,
     "metadata": {},
     "output_type": "execute_result"
    }
   ],
   "source": [
    "titles = data['title']\n",
    "titles.head()"
   ]
  },
  {
   "cell_type": "code",
   "execution_count": 16,
   "metadata": {
    "collapsed": false
   },
   "outputs": [
    {
     "data": {
      "text/plain": [
       "0    Bundeskanzlerin Merkel\n",
       "1    Bundeskanzlerin Merkel\n",
       "2    Bundeskanzlerin Merkel\n",
       "3    Bundeskanzlerin Merkel\n",
       "4    Bundeskanzlerin Merkel\n",
       "Name: title, dtype: object"
      ]
     },
     "execution_count": 16,
     "metadata": {},
     "output_type": "execute_result"
    }
   ],
   "source": [
    "def extract_speaker(text):\n",
    "    match = re.search('Rede von ([A-ZÄÖÜ]\\w+(?:\\s+[A-ZÄÖÜ]\\w+)*)', text)\n",
    "    if match:\n",
    "        return match.group(1)\n",
    "    else:\n",
    "        return None\n",
    "    \n",
    "speakers = titles.apply(extract_speaker)  # entspricht [extract_speaker(title) for title in titles]\n",
    "speakers.head()"
   ]
  },
  {
   "cell_type": "code",
   "execution_count": 17,
   "metadata": {
    "collapsed": false
   },
   "outputs": [
    {
     "data": {
      "text/plain": [
       "Bundeskanzlerin Merkel                         227\n",
       "Bundeskanzlerin Angela Merkel                  179\n",
       "Kulturstaatsminister Bernd Neumann              89\n",
       "Kulturstaatsministerin Monika Grütters          34\n",
       "Kulturstaatsministerin Grütters                 31\n",
       "Staatsminister Bernd Neumann                    30\n",
       "Bundeskanzlerin Angela Merkel                   14\n",
       "Staatsministerin Monika Grütters                 3\n",
       "Monika Grütters                                  2\n",
       "Bundeskanzlerin Merkel                           2\n",
       "Kulturstaatsminister Bernd Neumann               2\n",
       "Bundesminister Pofalla                           1\n",
       "Kanzlerin Merkel                                 1\n",
       "Staatsminister Bernd Neumann                     1\n",
       "Bundesaußenminister Steinmeier                   1\n",
       "Bundeslandwirtschaftsministerin Ilse Aigner      1\n",
       "Joachim Gauck                                    1\n",
       "Kulturstaatsministers Bernd Neumann              1\n",
       "Staatsministerin Grütters                        1\n",
       "BK                                               1\n",
       "Bundeskanzlerin  Angela Merkel                   1\n",
       "Kulturstaatsinister Bernd Neumann                1\n",
       "dtype: int64"
      ]
     },
     "execution_count": 17,
     "metadata": {},
     "output_type": "execute_result"
    }
   ],
   "source": [
    "speakers.value_counts()"
   ]
  },
  {
   "cell_type": "code",
   "execution_count": 18,
   "metadata": {
    "collapsed": false
   },
   "outputs": [
    {
     "data": {
      "text/plain": [
       "'Von 793 624 erkannt und 169 nicht erkannt'"
      ]
     },
     "execution_count": 18,
     "metadata": {},
     "output_type": "execute_result"
    }
   ],
   "source": [
    "total = len(speakers)\n",
    "empty = sum(speakers.isnull())\n",
    "'Von {} {} erkannt und {} nicht erkannt'.format(total, total - empty, empty)"
   ]
  }
 ],
 "metadata": {
  "kernelspec": {
   "display_name": "Python 3",
   "language": "python",
   "name": "python3"
  },
  "language_info": {
   "codemirror_mode": {
    "name": "ipython",
    "version": 3
   },
   "file_extension": ".py",
   "mimetype": "text/x-python",
   "name": "python",
   "nbconvert_exporter": "python",
   "pygments_lexer": "ipython3",
   "version": "3.4.3"
  }
 },
 "nbformat": 4,
 "nbformat_minor": 0
}
